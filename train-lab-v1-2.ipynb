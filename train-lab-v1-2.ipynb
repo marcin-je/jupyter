{
 "cells": [
  {
   "cell_type": "markdown",
   "id": "dcca7a51",
   "metadata": {},
   "source": [
    "## Recap\n",
    "\n",
    "### Load original training data including PCA and FA\n",
    "\n",
    "### Select features that will be used in GMM\n",
    "\n",
    "### Run GMM train, pickle, load and fit\n",
    "\n",
    "### Persist X_train\n",
    "\n",
    "### Run feat-selection on 3 fold"
   ]
  },
  {
   "cell_type": "code",
   "execution_count": 1,
   "id": "560ba47f",
   "metadata": {},
   "outputs": [],
   "source": [
    "from datetime import date, timedelta\n",
    "\n",
    "from featureeng.times import get_trading_times_for_london_ny\n",
    "from featureeng.features import *\n",
    "import featureeng as feng\n",
    "import data.readers as rd\n",
    "\n",
    "import multiprocessing\n",
    "import time\n",
    "import threading\n",
    "import json\n",
    "import os\n",
    "\n",
    "import pyarrow as pa\n",
    "import pyarrow.parquet as pq\n",
    "\n",
    "# Importing core libraries\n",
    "import numpy as np\n",
    "import pandas as pd\n",
    "from time import time\n",
    "import pprint\n",
    "import joblib\n",
    "from functools import partial\n",
    "\n",
    "# Suppressing warnings because of skopt verbosity\n",
    "import warnings\n",
    "warnings.filterwarnings(\"ignore\")\n",
    "\n",
    "# Classifier/Regressor\n",
    "from xgboost import XGBClassifier\n",
    "\n",
    "# Feature selection\n",
    "from BorutaShap import BorutaShap\n",
    "\n",
    "# Data processing\n",
    "from sklearn.preprocessing import OrdinalEncoder\n",
    "from sklearn.cluster import KMeans\n",
    "from sklearn.decomposition import PCA, FactorAnalysis\n",
    "from sklearn.mixture import GaussianMixture\n",
    "\n",
    "import pickle\n",
    "# Validation\n",
    "from sklearn.model_selection import StratifiedKFold\n",
    "\n",
    "root_dir = '/home/dcai/data/features'\n",
    "instrument='EURCHF'\n",
    "feature_set=\"4\"\n",
    "\n",
    "\n",
    "\n",
    "temp_save_dir=\"{}/{}\".format(root_dir,instrument)\n",
    "\n",
    "def save_df(save_dir, df, name):\n",
    "    if not os.path.exists(save_dir):\n",
    "        os.mkdir(save_dir)\n",
    "    pq.write_table(pa.Table.from_pandas(df), os.path.join(save_dir, name))\n",
    "\n",
    "\n",
    "temp_save_dir=\"{}/{}\".format(root_dir,instrument)\n",
    "def read_parquet(save_dir, name):\n",
    "    return pq.ParquetFile(os.path.join(save_dir, name)).read().to_pandas()\n",
    "\n",
    "\n",
    "with open(os.path.join(temp_save_dir, 'y_stratified.pickle'), 'rb') as f:\n",
    "    y_stratified = pickle.load(f)"
   ]
  },
  {
   "cell_type": "code",
   "execution_count": 2,
   "id": "2b2206be",
   "metadata": {},
   "outputs": [],
   "source": [
    "#pre_selected_cols = ['MeanPrice_x', 'close_MIN_1D_5', 'close_MIN_1D_20', 'close_MIN_1D_60', 'close_MAX_1D_5', 'close_MAX_1D_20', 'close_MAX_1D_60', 'close_AVG_1D_5', 'close_AVG_1D_20', 'close_AVG_1D_60', 'close_STDEV_1D_5', 'close_STDEV_1D_20', 'close_STDEV_1D_60', 'close_MEDIAN_1D_5', 'close_MEDIAN_1D_20', 'close_MEDIAN_1D_60', 'close_MIN_1H_5', 'close_MIN_1H_20', 'close_MIN_1H_60', 'close_MAX_1H_5', 'close_MAX_1H_20', 'close_MAX_1H_60', 'close_AVG_1H_5', 'close_AVG_1H_20', 'close_AVG_1H_60', 'close_STDEV_1H_5', 'close_STDEV_1H_20', 'close_STDEV_1H_60', 'close_MEDIAN_1H_5', 'close_MEDIAN_1H_20', 'close_MEDIAN_1H_60', 'London', 'NY', 'rolling_1D_60_3_1', 'rolling_1D_60_3_2', 'rolling_1D_60_3_3', 'ewm_1D_60_3_1', 'ewm_1D_60_3_2', 'ewm_1D_60_3_3', 'rolling_1D_20_4_1', 'rolling_1D_20_4_2', 'rolling_1D_20_4_3', 'rolling_1D_20_4_4', 'ewm_1D_20_4_1', 'ewm_1D_20_4_2', 'ewm_1D_20_4_3', 'ewm_1D_20_4_4', 'rolling_4H_20_4_1', 'rolling_4H_20_4_2', 'rolling_4H_20_4_3', 'rolling_4H_20_4_4', 'ewm_4H_20_4_1', 'ewm_4H_20_4_2', 'ewm_4H_20_4_3', 'ewm_4H_20_4_4', 'rolling_1D_60_20_4_1', 'rolling_1D_60_20_4_2', 'rolling_1D_60_20_4_3', 'rolling_1D_60_20_4_4', 'rolling_4H_60_20_4_1', 'rolling_4H_60_20_4_2', 'rolling_4H_60_20_4_3', 'rolling_4H_60_20_4_4', 'MeanPrice_y', 'EUR', 'CHF', 'USD', 'GBP', 'fa_0', 'fa_1', 'fa_2', 'fa_3', 'fa_4', 'fa_5', 'fa_6', 'fa_7', 'fa_8', 'fa_9', 'fa_10', 'fa_11', 'fa_12', 'fa_13', 'fa_14', 'fa_15', 'fa_16', 'fa_17', 'fa_18', 'fa_19', 'fa_20', 'fa_21', 'fa_22', 'fa_23', 'fa_24', 'fa_25', 'fa_26', 'fa_27', 'fa_28', 'fa_29', 'fa_30', 'fa_31', 'fa_32', 'fa_33', 'fa_34', 'fa_35', 'fa_36', 'fa_37', 'fa_38', 'fa_39', 'fa_40', 'fa_41', 'fa_42', 'fa_43', 'fa_44', 'fa_45', 'fa_46', 'fa_47', 'fa_48', 'fa_49', 'fa_50', 'fa_51', 'fa_52', 'fa_53', 'fa_54', 'fa_55', 'fa_56', 'fa_57', 'fa_58', 'fa_59', 'fa_60', 'fa_61', 'fa_62', 'fa_63', 'pca_0', 'pca_1', 'pca_2', 'pca_3', 'pca_4', 'pca_5', 'pca_6', 'pca_7', 'pca_8', 'pca_9', 'pca_10', 'pca_11', 'pca_12', 'pca_13', 'pca_14', 'pca_15', 'pca_16', 'pca_17', 'pca_18', 'pca_19', 'pca_20', 'pca_21', 'pca_22', 'pca_23', 'pca_24', 'pca_25', 'pca_26', 'pca_27', 'pca_28', 'pca_29', 'pca_30', 'pca_31', 'pca_32', 'pca_33', 'pca_34', 'pca_35', 'pca_36', 'pca_37', 'pca_38', 'pca_39', 'pca_40', 'pca_41', 'pca_42', 'pca_43', 'pca_44', 'pca_45', 'pca_46', 'pca_47', 'pca_48', 'pca_49', 'pca_50', 'pca_51', 'pca_52', 'pca_53', 'pca_54', 'pca_55', 'pca_56', 'pca_57', 'pca_58', 'pca_59', 'pca_60', 'pca_61', 'pca_62', 'pca_63']\n",
    "X_train = read_parquet(temp_save_dir, 'X_train.parquet')#[pre_selected_cols]\n",
    "Y_train = read_parquet(temp_save_dir, 'Y_train.parquet')"
   ]
  },
  {
   "cell_type": "code",
   "execution_count": 3,
   "id": "43823b9c",
   "metadata": {},
   "outputs": [
    {
     "name": "stdout",
     "output_type": "stream",
     "text": [
      "<class 'pandas.core.frame.DataFrame'>\n",
      "DatetimeIndex: 6540376 entries, 2018-04-16 07:00:00.489000 to 2021-10-19 20:59:43.152000\n",
      "Columns: 228 entries, MeanPrice to pca_75\n",
      "dtypes: float64(228)\n",
      "memory usage: 11.2 GB\n"
     ]
    }
   ],
   "source": [
    "X_train.info()"
   ]
  },
  {
   "cell_type": "code",
   "execution_count": 3,
   "id": "7c0f4160",
   "metadata": {},
   "outputs": [],
   "source": [
    "gmm_test_feats = ['fa_10', 'fa_11', 'fa_12']# ['pca_0', 'pca_1', 'pca_2', 'pca_3', 'pca_4', 'pca_5', 'pca_6', 'pca_7', 'pca_8', 'pca_9']# ['fa_0', 'fa_1', 'fa_10', 'fa_11', 'fa_12']#, 'fa_13', 'fa_2', 'fa_3', 'fa_4', 'fa_5', 'fa_6', 'fa_7', 'fa_8', 'fa_9']"
   ]
  },
  {
   "cell_type": "code",
   "execution_count": 4,
   "id": "ff7acc94",
   "metadata": {},
   "outputs": [
    {
     "name": "stdout",
     "output_type": "stream",
     "text": [
      "[32]\n",
      "3\n",
      "already done fa_10 32\n",
      "doing fa_10 32\n",
      "already done fa_11 32\n",
      "doing fa_11 32\n",
      "already done fa_12 32\n",
      "doing fa_12 32\n",
      "Execution time: 393.267 seconds\n"
     ]
    }
   ],
   "source": [
    "import numpy as np\n",
    "import itertools\n",
    "dists  = [32] #np.arange(8, 20, 4).tolist()\n",
    "print(dists)\n",
    "\n",
    "\n",
    "print(len([x for x in itertools.product(gmm_test_feats, dists)]))\n",
    "\n",
    "\n",
    "start_time = time()\n",
    "for feature, dist in itertools.product(gmm_test_feats, dists):\n",
    "    \n",
    "    pickle_path = os.path.join(temp_save_dir, \"gmm-{}-{}.pickle\".format(feature, dist))\n",
    "    \n",
    "    if os.path.exists(pickle_path):\n",
    "        print(\"already done {} {}\".format(feature, dist))\n",
    "        #continue\n",
    "    print(\"doing {} {}\".format(feature, dist))\n",
    "    \n",
    "    x = X_train[[feature]][feature].values.reshape(-1, 1)\n",
    "    \n",
    "    gmm = GaussianMixture(n_components=dist,\n",
    "                           max_iter=150,\n",
    "                           random_state=0).fit(x)\n",
    "    \n",
    "    with open(pickle_path, 'wb') as f:\n",
    "        pickle.dump(gmm, f)\n",
    "\n",
    "        \n",
    "end_time = time()\n",
    "print(f'Execution time: {end_time - start_time:.3f} seconds')  "
   ]
  },
  {
   "cell_type": "code",
   "execution_count": 4,
   "id": "4b69c676",
   "metadata": {},
   "outputs": [
    {
     "name": "stdout",
     "output_type": "stream",
     "text": [
      "[32]\n",
      "doing pca_0 32\n",
      "doing pca_1 32\n",
      "doing pca_2 32\n",
      "doing pca_3 32\n",
      "doing pca_4 32\n",
      "doing pca_5 32\n",
      "doing pca_6 32\n",
      "doing pca_7 32\n",
      "doing pca_8 32\n",
      "doing pca_9 32\n",
      "Execution time: 170.046 seconds\n"
     ]
    }
   ],
   "source": [
    "import numpy as np\n",
    "import itertools\n",
    "dists  = [32] #np.arange(8, 20, 4).tolist()\n",
    "print(dists)\n",
    "\n",
    "gmm_temp = os.path.join(temp_save_dir, \"gmm\")\n",
    "\n",
    "start_time = time()\n",
    "for feature, dist in itertools.product(gmm_test_feats, dists):\n",
    "    df = pd.DataFrame()\n",
    "\n",
    "    \n",
    "    pickle_path = os.path.join(temp_save_dir, \"gmm-{}-{}.pickle\".format(feature, dist))\n",
    "    \n",
    "    if not os.path.exists(pickle_path):\n",
    "        print(\"file missing; skip {} {}\".format(feature, dist))\n",
    "        continue\n",
    "    print(\"doing {} {}\".format(feature, dist))\n",
    "    \n",
    "    with open(pickle_path, 'rb') as f:\n",
    "        gmm = pickle.load(f)\n",
    "\n",
    "    x = X_train[[feature]][feature].values.reshape(-1, 1)\n",
    "    \n",
    "    clus = pd.get_dummies(gmm.predict(x)).values * x\n",
    "    \n",
    "    clus_feats = [f'{feature}_gmm_dev_{i}'for i in range(clus.shape[1])]\n",
    "    X_train[clus_feats] = clus\n",
    "    df[clus_feats] = clus\n",
    "    save_df(gmm_temp, df, \"gmm-{}-{}.parquet\".format(feature, dist))\n",
    "    \n",
    "    df = None\n",
    "    clus_feats = None\n",
    "    clus = None\n",
    "    x = None\n",
    "    \n",
    "    \n",
    "\n",
    "end_time = time()\n",
    "print(f'Execution time: {end_time - start_time:.3f} seconds')"
   ]
  },
  {
   "cell_type": "code",
   "execution_count": 5,
   "id": "ee6b6212",
   "metadata": {},
   "outputs": [
    {
     "name": "stdout",
     "output_type": "stream",
     "text": [
      "/home/dcai/data/features/EURCHF/gmm/gmm-pca_0-32.parquet\n",
      "/home/dcai/data/features/EURCHF/gmm/gmm-pca_1-32.parquet\n",
      "/home/dcai/data/features/EURCHF/gmm/gmm-pca_10-32.parquet\n",
      "/home/dcai/data/features/EURCHF/gmm/gmm-pca_11-32.parquet\n",
      "/home/dcai/data/features/EURCHF/gmm/gmm-pca_2-32.parquet\n",
      "/home/dcai/data/features/EURCHF/gmm/gmm-pca_3-32.parquet\n",
      "/home/dcai/data/features/EURCHF/gmm/gmm-pca_4-32.parquet\n",
      "/home/dcai/data/features/EURCHF/gmm/gmm-pca_5-32.parquet\n",
      "/home/dcai/data/features/EURCHF/gmm/gmm-pca_6-32.parquet\n",
      "/home/dcai/data/features/EURCHF/gmm/gmm-pca_7-32.parquet\n",
      "/home/dcai/data/features/EURCHF/gmm/gmm-pca_8-32.parquet\n",
      "/home/dcai/data/features/EURCHF/gmm/gmm-pca_9-32.parquet\n",
      "<class 'pandas.core.frame.DataFrame'>\n",
      "DatetimeIndex: 13080775 entries, 2018-04-16 07:00:00.668000 to 2021-10-19 20:59:55.784000\n",
      "Columns: 448 entries, MeanPrice_x to pca_11_gmm_dev_29\n",
      "dtypes: float64(442), int64(6)\n",
      "memory usage: 43.8 GB\n",
      "None\n",
      "Execution time: 691.753 seconds\n"
     ]
    }
   ],
   "source": [
    "import numpy as np\n",
    "import glob\n",
    "import gc\n",
    "\n",
    "gc.collect()\n",
    "\n",
    "gmm_temp = os.path.join(temp_save_dir, \"gmm\")\n",
    "\n",
    "df = pd.DataFrame()\n",
    "\n",
    "start_time = time()\n",
    "files = glob.glob(os.path.join(gmm_temp, \"gmm-pca*.parquet\"))\n",
    "files.sort()\n",
    "\n",
    "for f in files:\n",
    "    if f.find(\"-fa_\"):\n",
    "        print(f)\n",
    "        dfx = pq.ParquetFile(f).read().to_pandas()\n",
    "        X_train[dfx.columns.values] = dfx.values\n",
    "        dfx = None\n",
    "    \n",
    "\n",
    "end_time = time()\n",
    "print(X_train.info())\n",
    "print(f'Execution time: {end_time - start_time:.3f} seconds')\n",
    "\n"
   ]
  },
  {
   "cell_type": "code",
   "execution_count": 6,
   "id": "640f7729",
   "metadata": {},
   "outputs": [
    {
     "name": "stdout",
     "output_type": "stream",
     "text": [
      "<class 'pandas.core.frame.DataFrame'>\n",
      "DatetimeIndex: 6540376 entries, 2018-04-16 07:00:00.489000 to 2021-10-19 20:59:43.152000\n",
      "Columns: 228 entries, MeanPrice to pca_75\n",
      "dtypes: float64(228)\n",
      "memory usage: 11.2 GB\n",
      "None\n",
      "['MeanPrice' 'close_MIN_1D_5' 'close_MIN_1D_20' 'close_MIN_1D_60'\n",
      " 'close_MAX_1D_5' 'close_MAX_1D_20' 'close_MAX_1D_60' 'close_AVG_1D_5'\n",
      " 'close_AVG_1D_20' 'close_AVG_1D_60' 'close_STDEV_1D_5'\n",
      " 'close_STDEV_1D_20' 'close_STDEV_1D_60' 'close_MEDIAN_1D_5'\n",
      " 'close_MEDIAN_1D_20' 'close_MEDIAN_1D_60' 'close_MIN_1H_5'\n",
      " 'close_MIN_1H_20' 'close_MIN_1H_60' 'close_MAX_1H_5' 'close_MAX_1H_20'\n",
      " 'close_MAX_1H_60' 'close_AVG_1H_5' 'close_AVG_1H_20' 'close_AVG_1H_60'\n",
      " 'close_STDEV_1H_5' 'close_STDEV_1H_20' 'close_STDEV_1H_60'\n",
      " 'close_MEDIAN_1H_5' 'close_MEDIAN_1H_20' 'close_MEDIAN_1H_60'\n",
      " 'close_MIN_15Min_5' 'close_MIN_15Min_20' 'close_MIN_15Min_60'\n",
      " 'close_MAX_15Min_5' 'close_MAX_15Min_20' 'close_MAX_15Min_60'\n",
      " 'close_AVG_15Min_5' 'close_AVG_15Min_20' 'close_AVG_15Min_60'\n",
      " 'close_STDEV_15Min_5' 'close_STDEV_15Min_20' 'close_STDEV_15Min_60'\n",
      " 'close_MEDIAN_15Min_5' 'close_MEDIAN_15Min_20' 'close_MEDIAN_15Min_60'\n",
      " 'rolling_1D_60_3_1' 'rolling_1D_60_3_2' 'rolling_1D_60_3_3'\n",
      " 'ewm_1D_60_3_1' 'ewm_1D_60_3_2' 'ewm_1D_60_3_3' 'rolling_1D_20_4_1'\n",
      " 'rolling_1D_20_4_2' 'rolling_1D_20_4_3' 'rolling_1D_20_4_4'\n",
      " 'ewm_1D_20_4_1' 'ewm_1D_20_4_2' 'ewm_1D_20_4_3' 'ewm_1D_20_4_4'\n",
      " 'rolling_4H_20_4_1' 'rolling_4H_20_4_2' 'rolling_4H_20_4_3'\n",
      " 'rolling_4H_20_4_4' 'ewm_4H_20_4_1' 'ewm_4H_20_4_2' 'ewm_4H_20_4_3'\n",
      " 'ewm_4H_20_4_4' 'rolling_1D_60_20_4_1' 'rolling_1D_60_20_4_2'\n",
      " 'rolling_1D_60_20_4_3' 'rolling_1D_60_20_4_4' 'rolling_4H_60_20_4_1'\n",
      " 'rolling_4H_60_20_4_2' 'rolling_4H_60_20_4_3' 'rolling_4H_60_20_4_4'\n",
      " 'fa_0' 'fa_1' 'fa_2' 'fa_3' 'fa_4' 'fa_5' 'fa_6' 'fa_7' 'fa_8' 'fa_9'\n",
      " 'fa_10' 'fa_11' 'fa_12' 'fa_13' 'fa_14' 'fa_15' 'fa_16' 'fa_17' 'fa_18'\n",
      " 'fa_19' 'fa_20' 'fa_21' 'fa_22' 'fa_23' 'fa_24' 'fa_25' 'fa_26' 'fa_27'\n",
      " 'fa_28' 'fa_29' 'fa_30' 'fa_31' 'fa_32' 'fa_33' 'fa_34' 'fa_35' 'fa_36'\n",
      " 'fa_37' 'fa_38' 'fa_39' 'fa_40' 'fa_41' 'fa_42' 'fa_43' 'fa_44' 'fa_45'\n",
      " 'fa_46' 'fa_47' 'fa_48' 'fa_49' 'fa_50' 'fa_51' 'fa_52' 'fa_53' 'fa_54'\n",
      " 'fa_55' 'fa_56' 'fa_57' 'fa_58' 'fa_59' 'fa_60' 'fa_61' 'fa_62' 'fa_63'\n",
      " 'fa_64' 'fa_65' 'fa_66' 'fa_67' 'fa_68' 'fa_69' 'fa_70' 'fa_71' 'fa_72'\n",
      " 'fa_73' 'fa_74' 'fa_75' 'pca_0' 'pca_1' 'pca_2' 'pca_3' 'pca_4' 'pca_5'\n",
      " 'pca_6' 'pca_7' 'pca_8' 'pca_9' 'pca_10' 'pca_11' 'pca_12' 'pca_13'\n",
      " 'pca_14' 'pca_15' 'pca_16' 'pca_17' 'pca_18' 'pca_19' 'pca_20' 'pca_21'\n",
      " 'pca_22' 'pca_23' 'pca_24' 'pca_25' 'pca_26' 'pca_27' 'pca_28' 'pca_29'\n",
      " 'pca_30' 'pca_31' 'pca_32' 'pca_33' 'pca_34' 'pca_35' 'pca_36' 'pca_37'\n",
      " 'pca_38' 'pca_39' 'pca_40' 'pca_41' 'pca_42' 'pca_43' 'pca_44' 'pca_45'\n",
      " 'pca_46' 'pca_47' 'pca_48' 'pca_49' 'pca_50' 'pca_51' 'pca_52' 'pca_53'\n",
      " 'pca_54' 'pca_55' 'pca_56' 'pca_57' 'pca_58' 'pca_59' 'pca_60' 'pca_61'\n",
      " 'pca_62' 'pca_63' 'pca_64' 'pca_65' 'pca_66' 'pca_67' 'pca_68' 'pca_69'\n",
      " 'pca_70' 'pca_71' 'pca_72' 'pca_73' 'pca_74' 'pca_75']\n",
      "228\n"
     ]
    }
   ],
   "source": [
    "print(X_train.info())\n",
    "print(X_train.columns.values)\n",
    "print(len(X_train.columns.values))"
   ]
  },
  {
   "cell_type": "code",
   "execution_count": 13,
   "id": "7d062cb3",
   "metadata": {},
   "outputs": [
    {
     "name": "stdout",
     "output_type": "stream",
     "text": [
      "Index(['MeanPrice_x_gmm_dev_0', 'MeanPrice_x_gmm_dev_1',\n",
      "       'MeanPrice_x_gmm_dev_10', 'MeanPrice_x_gmm_dev_11',\n",
      "       'MeanPrice_x_gmm_dev_12', 'MeanPrice_x_gmm_dev_14',\n",
      "       'MeanPrice_x_gmm_dev_15', 'MeanPrice_x_gmm_dev_16',\n",
      "       'MeanPrice_x_gmm_dev_17', 'MeanPrice_x_gmm_dev_18',\n",
      "       'MeanPrice_x_gmm_dev_19', 'MeanPrice_x_gmm_dev_2',\n",
      "       'MeanPrice_x_gmm_dev_20', 'MeanPrice_x_gmm_dev_21',\n",
      "       'MeanPrice_x_gmm_dev_22', 'MeanPrice_x_gmm_dev_23',\n",
      "       'MeanPrice_x_gmm_dev_24', 'MeanPrice_x_gmm_dev_25',\n",
      "       'MeanPrice_x_gmm_dev_26', 'MeanPrice_x_gmm_dev_27',\n",
      "       'MeanPrice_x_gmm_dev_28', 'MeanPrice_x_gmm_dev_29',\n",
      "       'MeanPrice_x_gmm_dev_3', 'MeanPrice_x_gmm_dev_30',\n",
      "       'MeanPrice_x_gmm_dev_31', 'MeanPrice_x_gmm_dev_4',\n",
      "       'MeanPrice_x_gmm_dev_6', 'MeanPrice_x_gmm_dev_8',\n",
      "       'MeanPrice_x_gmm_dev_9', 'close_AVG_1H_60_gmm_dev_1',\n",
      "       'close_AVG_1H_60_gmm_dev_11', 'close_AVG_1H_60_gmm_dev_12',\n",
      "       'close_AVG_1H_60_gmm_dev_13', 'close_AVG_1H_60_gmm_dev_14',\n",
      "       'close_AVG_1H_60_gmm_dev_16', 'close_AVG_1H_60_gmm_dev_17',\n",
      "       'close_AVG_1H_60_gmm_dev_18', 'close_AVG_1H_60_gmm_dev_19',\n",
      "       'close_AVG_1H_60_gmm_dev_2', 'close_AVG_1H_60_gmm_dev_20',\n",
      "       'close_AVG_1H_60_gmm_dev_21', 'close_AVG_1H_60_gmm_dev_22',\n",
      "       'close_AVG_1H_60_gmm_dev_24', 'close_AVG_1H_60_gmm_dev_25',\n",
      "       'close_AVG_1H_60_gmm_dev_3', 'close_AVG_1H_60_gmm_dev_4',\n",
      "       'close_AVG_1H_60_gmm_dev_5', 'close_AVG_1H_60_gmm_dev_6',\n",
      "       'close_AVG_1H_60_gmm_dev_7', 'close_AVG_1H_60_gmm_dev_8',\n",
      "       'close_AVG_1H_60_gmm_dev_9', 'close_MAX_1D_60_gmm_dev_0',\n",
      "       'close_MAX_1D_60_gmm_dev_1', 'close_MAX_1D_60_gmm_dev_10',\n",
      "       'close_MAX_1D_60_gmm_dev_11', 'close_MAX_1D_60_gmm_dev_12',\n",
      "       'close_MAX_1D_60_gmm_dev_13', 'close_MAX_1D_60_gmm_dev_14',\n",
      "       'close_MAX_1D_60_gmm_dev_17', 'close_MAX_1D_60_gmm_dev_18',\n",
      "       'close_MAX_1D_60_gmm_dev_19', 'close_MAX_1D_60_gmm_dev_2',\n",
      "       'close_MAX_1D_60_gmm_dev_21', 'close_MAX_1D_60_gmm_dev_22',\n",
      "       'close_MAX_1D_60_gmm_dev_23', 'close_MAX_1D_60_gmm_dev_24',\n",
      "       'close_MAX_1D_60_gmm_dev_25', 'close_MAX_1D_60_gmm_dev_26',\n",
      "       'close_MAX_1D_60_gmm_dev_28', 'close_MAX_1D_60_gmm_dev_3',\n",
      "       'close_MAX_1D_60_gmm_dev_30', 'close_MAX_1D_60_gmm_dev_4',\n",
      "       'close_MAX_1D_60_gmm_dev_5', 'close_MAX_1D_60_gmm_dev_6',\n",
      "       'close_MAX_1D_60_gmm_dev_7', 'close_MAX_1D_60_gmm_dev_8',\n",
      "       'close_MAX_1D_60_gmm_dev_9', 'close_MIN_1H_60_gmm_dev_0',\n",
      "       'close_MIN_1H_60_gmm_dev_1', 'close_MIN_1H_60_gmm_dev_10',\n",
      "       'close_MIN_1H_60_gmm_dev_11', 'close_MIN_1H_60_gmm_dev_12',\n",
      "       'close_MIN_1H_60_gmm_dev_13', 'close_MIN_1H_60_gmm_dev_14',\n",
      "       'close_MIN_1H_60_gmm_dev_15', 'close_MIN_1H_60_gmm_dev_16',\n",
      "       'close_MIN_1H_60_gmm_dev_17', 'close_MIN_1H_60_gmm_dev_2',\n",
      "       'close_MIN_1H_60_gmm_dev_3', 'close_MIN_1H_60_gmm_dev_4',\n",
      "       'close_MIN_1H_60_gmm_dev_6', 'close_MIN_1H_60_gmm_dev_7',\n",
      "       'close_MIN_1H_60_gmm_dev_8', 'close_MIN_1H_60_gmm_dev_9',\n",
      "       'close_STDEV_1D_60_gmm_dev_0', 'close_STDEV_1D_60_gmm_dev_1'],\n",
      "      dtype='object')\n"
     ]
    }
   ],
   "source": [
    "keep_cols = ['MeanPrice_x_gmm_dev_13', 'MeanPrice_x_gmm_dev_5', 'MeanPrice_x_gmm_dev_7', 'close_AVG_1H_60_gmm_dev_0', 'close_AVG_1H_60_gmm_dev_10', 'close_AVG_1H_60_gmm_dev_15', 'close_AVG_1H_60_gmm_dev_23', 'close_MAX_1D_60_gmm_dev_15', 'close_MAX_1D_60_gmm_dev_16', 'close_MAX_1D_60_gmm_dev_20', 'close_MAX_1D_60_gmm_dev_27', 'close_MAX_1D_60_gmm_dev_29', 'close_MIN_1H_60_gmm_dev_5', 'close_STDEV_1D_60_gmm_dev_2', 'close_STDEV_1D_60_gmm_dev_3']\n",
    "cols_to_drop = X_train.filter(regex='_gmm_').columns.difference(keep_cols)\n",
    "\n",
    "print(cols_to_drop)"
   ]
  },
  {
   "cell_type": "code",
   "execution_count": 14,
   "id": "aa73d7db",
   "metadata": {},
   "outputs": [],
   "source": [
    "X_train = X_train.drop(cols_to_drop, axis=1)\n"
   ]
  },
  {
   "cell_type": "code",
   "execution_count": 15,
   "id": "70e7dafa",
   "metadata": {},
   "outputs": [],
   "source": [
    "save_df(temp_save_dir, X_train, 'X_train.parquet')"
   ]
  },
  {
   "cell_type": "code",
   "execution_count": 3,
   "id": "8599f931",
   "metadata": {},
   "outputs": [
    {
     "name": "stdout",
     "output_type": "stream",
     "text": [
      "<class 'pandas.core.frame.DataFrame'>\n",
      "DatetimeIndex: 261616 entries, 2018-04-16 07:00:00.489000 to 2021-10-19 20:59:43.152000\n",
      "Columns: 228 entries, MeanPrice to pca_75\n",
      "dtypes: float64(228)\n",
      "memory usage: 457.1 MB\n",
      "None\n",
      "FOLD 1/5\n",
      "<class 'pandas.core.frame.DataFrame'>\n",
      "DatetimeIndex: 209292 entries, 2018-04-16 07:00:00.489000 to 2021-10-19 20:59:43.152000\n",
      "Columns: 228 entries, MeanPrice to pca_75\n",
      "dtypes: float64(228)\n",
      "memory usage: 365.7 MB\n",
      "None\n"
     ]
    },
    {
     "data": {
      "application/vnd.jupyter.widget-view+json": {
       "model_id": "3114cd6be3f24dcc920aadc4a9884054",
       "version_major": 2,
       "version_minor": 0
      },
      "text/plain": [
       "  0%|          | 0/50 [00:00<?, ?it/s]"
      ]
     },
     "metadata": {},
     "output_type": "display_data"
    },
    {
     "name": "stdout",
     "output_type": "stream",
     "text": [
      "163 attributes confirmed important: ['close_MEDIAN_1H_60', 'pca_64', 'close_AVG_1H_60', 'pca_7', 'rolling_4H_60_20_4_4', 'pca_2', 'pca_69', 'rolling_4H_20_4_3', 'rolling_4H_20_4_1', 'fa_12', 'pca_24', 'close_STDEV_15Min_20', 'pca_44', 'close_MIN_1H_5', 'pca_40', 'close_AVG_15Min_20', 'close_MIN_1D_20', 'pca_30', 'pca_29', 'fa_18', 'pca_16', 'ewm_4H_20_4_4', 'pca_32', 'pca_4', 'pca_13', 'pca_34', 'pca_35', 'close_MAX_1H_20', 'close_AVG_15Min_60', 'fa_15', 'close_MEDIAN_1H_5', 'pca_53', 'close_STDEV_1D_5', 'pca_10', 'pca_19', 'pca_5', 'pca_60', 'close_MIN_15Min_5', 'close_AVG_1H_5', 'pca_54', 'rolling_1D_60_3_3', 'pca_0', 'pca_20', 'pca_52', 'fa_14', 'pca_1', 'fa_20', 'close_MEDIAN_15Min_20', 'ewm_4H_20_4_3', 'fa_17', 'close_MEDIAN_1D_60', 'close_MEDIAN_1H_20', 'close_STDEV_1H_20', 'rolling_1D_20_4_1', 'pca_23', 'pca_43', 'close_AVG_15Min_5', 'ewm_1D_60_3_2', 'pca_65', 'close_MIN_1D_60', 'close_AVG_1H_20', 'pca_66', 'fa_9', 'pca_63', 'pca_68', 'close_MIN_1H_20', 'pca_61', 'pca_45', 'pca_8', 'fa_4', 'close_MEDIAN_1D_5', 'pca_41', 'close_AVG_1D_5', 'close_AVG_1D_20', 'fa_11', 'pca_58', 'pca_46', 'close_MAX_1D_20', 'pca_33', 'rolling_1D_60_3_2', 'close_MAX_1D_60', 'close_STDEV_1H_60', 'pca_14', 'pca_27', 'rolling_1D_20_4_3', 'rolling_4H_60_20_4_3', 'pca_37', 'pca_12', 'fa_16', 'close_STDEV_15Min_60', 'rolling_1D_60_20_4_4', 'fa_10', 'close_STDEV_1D_60', 'pca_56', 'close_MEDIAN_15Min_5', 'pca_6', 'pca_48', 'close_MAX_1H_60', 'pca_62', 'fa_13', 'pca_25', 'fa_6', 'MeanPrice', 'close_MIN_1D_5', 'ewm_1D_20_4_3', 'fa_7', 'close_MAX_15Min_5', 'rolling_4H_60_20_4_2', 'pca_15', 'rolling_1D_60_20_4_2', 'close_MIN_15Min_20', 'close_MAX_1D_5', 'close_MIN_15Min_60', 'rolling_4H_60_20_4_1', 'fa_2', 'fa_8', 'close_STDEV_1D_20', 'ewm_1D_60_3_3', 'rolling_1D_60_3_1', 'pca_55', 'ewm_4H_20_4_2', 'fa_5', 'pca_51', 'ewm_1D_60_3_1', 'pca_38', 'pca_22', 'ewm_1D_20_4_1', 'pca_36', 'fa_19', 'pca_28', 'pca_49', 'pca_3', 'pca_17', 'pca_71', 'pca_47', 'rolling_1D_60_20_4_1', 'fa_3', 'close_MAX_15Min_60', 'close_MEDIAN_15Min_60', 'close_AVG_1D_60', 'pca_42', 'ewm_1D_20_4_2', 'fa_21', 'close_STDEV_15Min_5', 'pca_21', 'pca_50', 'rolling_4H_20_4_4', 'pca_67', 'close_STDEV_1H_5', 'fa_1', 'pca_26', 'rolling_1D_60_20_4_3', 'fa_0', 'ewm_4H_20_4_1', 'pca_11', 'close_MEDIAN_1D_20', 'pca_9', 'close_MAX_15Min_20', 'pca_31', 'rolling_1D_20_4_2', 'pca_18', 'close_MIN_1H_60', 'pca_59']\n",
      "63 attributes confirmed unimportant: ['fa_38', 'fa_40', 'fa_57', 'fa_47', 'fa_59', 'fa_72', 'fa_28', 'fa_44', 'fa_68', 'ewm_1D_20_4_4', 'fa_64', 'fa_63', 'fa_39', 'pca_70', 'fa_50', 'fa_71', 'fa_45', 'fa_32', 'fa_73', 'fa_34', 'fa_33', 'pca_57', 'pca_75', 'fa_24', 'fa_23', 'fa_22', 'pca_73', 'fa_60', 'fa_30', 'fa_35', 'fa_48', 'fa_75', 'fa_27', 'fa_25', 'rolling_1D_20_4_4', 'fa_52', 'fa_42', 'fa_54', 'fa_56', 'fa_69', 'fa_29', 'fa_31', 'fa_43', 'pca_72', 'fa_53', 'pca_39', 'fa_61', 'fa_67', 'fa_65', 'fa_49', 'fa_37', 'fa_62', 'fa_36', 'fa_55', 'fa_70', 'fa_74', 'pca_74', 'fa_46', 'fa_58', 'fa_26', 'fa_51', 'fa_41', 'fa_66']\n",
      "2 tentative attributes remains: ['rolling_4H_20_4_2', 'close_MAX_1H_5']\n",
      "Selected features at fold 1 are: ['MeanPrice', 'close_AVG_15Min_20', 'close_AVG_15Min_5', 'close_AVG_15Min_60', 'close_AVG_1D_20', 'close_AVG_1D_5', 'close_AVG_1D_60', 'close_AVG_1H_20', 'close_AVG_1H_5', 'close_AVG_1H_60', 'close_MAX_15Min_20', 'close_MAX_15Min_5', 'close_MAX_15Min_60', 'close_MAX_1D_20', 'close_MAX_1D_5', 'close_MAX_1D_60', 'close_MAX_1H_20', 'close_MAX_1H_60', 'close_MEDIAN_15Min_20', 'close_MEDIAN_15Min_5', 'close_MEDIAN_15Min_60', 'close_MEDIAN_1D_20', 'close_MEDIAN_1D_5', 'close_MEDIAN_1D_60', 'close_MEDIAN_1H_20', 'close_MEDIAN_1H_5', 'close_MEDIAN_1H_60', 'close_MIN_15Min_20', 'close_MIN_15Min_5', 'close_MIN_15Min_60', 'close_MIN_1D_20', 'close_MIN_1D_5', 'close_MIN_1D_60', 'close_MIN_1H_20', 'close_MIN_1H_5', 'close_MIN_1H_60', 'close_STDEV_15Min_20', 'close_STDEV_15Min_5', 'close_STDEV_15Min_60', 'close_STDEV_1D_20', 'close_STDEV_1D_5', 'close_STDEV_1D_60', 'close_STDEV_1H_20', 'close_STDEV_1H_5', 'close_STDEV_1H_60', 'ewm_1D_20_4_1', 'ewm_1D_20_4_2', 'ewm_1D_20_4_3', 'ewm_1D_60_3_1', 'ewm_1D_60_3_2', 'ewm_1D_60_3_3', 'ewm_4H_20_4_1', 'ewm_4H_20_4_2', 'ewm_4H_20_4_3', 'ewm_4H_20_4_4', 'fa_0', 'fa_1', 'fa_10', 'fa_11', 'fa_12', 'fa_13', 'fa_14', 'fa_15', 'fa_16', 'fa_17', 'fa_18', 'fa_19', 'fa_2', 'fa_20', 'fa_21', 'fa_3', 'fa_4', 'fa_5', 'fa_6', 'fa_7', 'fa_8', 'fa_9', 'pca_0', 'pca_1', 'pca_10', 'pca_11', 'pca_12', 'pca_13', 'pca_14', 'pca_15', 'pca_16', 'pca_17', 'pca_18', 'pca_19', 'pca_2', 'pca_20', 'pca_21', 'pca_22', 'pca_23', 'pca_24', 'pca_25', 'pca_26', 'pca_27', 'pca_28', 'pca_29', 'pca_3', 'pca_30', 'pca_31', 'pca_32', 'pca_33', 'pca_34', 'pca_35', 'pca_36', 'pca_37', 'pca_38', 'pca_4', 'pca_40', 'pca_41', 'pca_42', 'pca_43', 'pca_44', 'pca_45', 'pca_46', 'pca_47', 'pca_48', 'pca_49', 'pca_5', 'pca_50', 'pca_51', 'pca_52', 'pca_53', 'pca_54', 'pca_55', 'pca_56', 'pca_58', 'pca_59', 'pca_6', 'pca_60', 'pca_61', 'pca_62', 'pca_63', 'pca_64', 'pca_65', 'pca_66', 'pca_67', 'pca_68', 'pca_69', 'pca_7', 'pca_71', 'pca_8', 'pca_9', 'rolling_1D_20_4_1', 'rolling_1D_20_4_2', 'rolling_1D_20_4_3', 'rolling_1D_60_20_4_1', 'rolling_1D_60_20_4_2', 'rolling_1D_60_20_4_3', 'rolling_1D_60_20_4_4', 'rolling_1D_60_3_1', 'rolling_1D_60_3_2', 'rolling_1D_60_3_3', 'rolling_4H_20_4_1', 'rolling_4H_20_4_3', 'rolling_4H_20_4_4', 'rolling_4H_60_20_4_1', 'rolling_4H_60_20_4_2', 'rolling_4H_60_20_4_3', 'rolling_4H_60_20_4_4']\n",
      "FOLD 2/5\n",
      "<class 'pandas.core.frame.DataFrame'>\n",
      "DatetimeIndex: 209293 entries, 2018-04-16 07:00:00.489000 to 2021-10-19 20:59:43.152000\n",
      "Columns: 228 entries, MeanPrice to pca_75\n",
      "dtypes: float64(228)\n",
      "memory usage: 365.7 MB\n",
      "None\n"
     ]
    },
    {
     "data": {
      "application/vnd.jupyter.widget-view+json": {
       "model_id": "0aa449e9584f4558aee9bae2f0d8c25c",
       "version_major": 2,
       "version_minor": 0
      },
      "text/plain": [
       "  0%|          | 0/50 [00:00<?, ?it/s]"
      ]
     },
     "metadata": {},
     "output_type": "display_data"
    },
    {
     "name": "stdout",
     "output_type": "stream",
     "text": [
      "159 attributes confirmed important: ['close_MEDIAN_1H_60', 'pca_64', 'close_AVG_1H_60', 'pca_7', 'rolling_4H_60_20_4_4', 'pca_2', 'pca_69', 'rolling_4H_20_4_3', 'rolling_4H_20_4_1', 'fa_12', 'pca_24', 'close_STDEV_15Min_20', 'pca_44', 'close_MIN_1H_5', 'pca_40', 'close_AVG_15Min_20', 'close_MIN_1D_20', 'pca_30', 'pca_29', 'fa_18', 'pca_16', 'ewm_4H_20_4_4', 'pca_32', 'pca_4', 'pca_13', 'pca_34', 'pca_35', 'close_MAX_1H_20', 'close_AVG_15Min_60', 'fa_15', 'close_MEDIAN_1H_5', 'pca_53', 'close_STDEV_1D_5', 'pca_10', 'pca_19', 'pca_5', 'pca_60', 'close_MIN_15Min_5', 'close_AVG_1H_5', 'pca_54', 'rolling_1D_60_3_3', 'pca_0', 'pca_20', 'pca_52', 'fa_14', 'pca_1', 'fa_20', 'close_MEDIAN_15Min_20', 'ewm_4H_20_4_3', 'fa_17', 'close_MEDIAN_1D_60', 'close_MEDIAN_1H_20', 'close_STDEV_1H_20', 'rolling_1D_20_4_1', 'pca_23', 'pca_43', 'close_AVG_15Min_5', 'ewm_1D_60_3_2', 'pca_65', 'close_MIN_1D_60', 'close_AVG_1H_20', 'pca_66', 'fa_9', 'pca_63', 'pca_68', 'close_MIN_1H_20', 'pca_61', 'pca_45', 'pca_8', 'fa_4', 'close_MEDIAN_1D_5', 'pca_41', 'close_AVG_1D_5', 'close_AVG_1D_20', 'fa_11', 'pca_58', 'pca_46', 'close_MAX_1D_20', 'pca_33', 'close_MAX_1D_60', 'rolling_1D_60_3_2', 'close_STDEV_1H_60', 'pca_14', 'pca_27', 'rolling_4H_60_20_4_3', 'pca_37', 'close_MAX_1H_5', 'pca_12', 'fa_16', 'close_STDEV_15Min_60', 'rolling_1D_60_20_4_4', 'pca_57', 'fa_10', 'close_STDEV_1D_60', 'pca_56', 'close_MEDIAN_15Min_5', 'pca_6', 'pca_48', 'close_MAX_1H_60', 'fa_13', 'pca_25', 'fa_6', 'MeanPrice', 'close_MIN_1D_5', 'ewm_1D_20_4_3', 'fa_7', 'close_MAX_15Min_5', 'rolling_4H_60_20_4_2', 'pca_15', 'rolling_1D_60_20_4_2', 'close_MIN_15Min_20', 'close_MAX_1D_5', 'close_MIN_15Min_60', 'rolling_4H_60_20_4_1', 'fa_2', 'fa_8', 'close_STDEV_1D_20', 'rolling_1D_60_3_1', 'pca_55', 'ewm_4H_20_4_2', 'fa_5', 'pca_51', 'ewm_1D_60_3_1', 'pca_38', 'pca_22', 'pca_36', 'fa_19', 'pca_28', 'pca_49', 'pca_3', 'pca_17', 'pca_47', 'rolling_1D_60_20_4_1', 'fa_3', 'close_MAX_15Min_60', 'close_MEDIAN_15Min_60', 'close_AVG_1D_60', 'pca_42', 'ewm_1D_20_4_2', 'fa_21', 'close_STDEV_15Min_5', 'pca_21', 'pca_50', 'rolling_4H_20_4_4', 'pca_67', 'close_STDEV_1H_5', 'fa_1', 'pca_26', 'rolling_1D_60_20_4_3', 'fa_0', 'ewm_4H_20_4_1', 'pca_11', 'close_MEDIAN_1D_20', 'pca_9', 'close_MAX_15Min_20', 'pca_31', 'pca_18', 'close_MIN_1H_60', 'pca_59']\n",
      "62 attributes confirmed unimportant: ['fa_38', 'fa_40', 'fa_57', 'fa_47', 'fa_59', 'fa_72', 'ewm_1D_20_4_1', 'fa_28', 'fa_44', 'fa_68', 'fa_64', 'fa_63', 'fa_39', 'pca_70', 'fa_50', 'fa_71', 'fa_45', 'fa_32', 'fa_73', 'fa_34', 'fa_33', 'pca_75', 'fa_24', 'fa_23', 'fa_22', 'fa_60', 'pca_62', 'fa_30', 'fa_35', 'fa_48', 'fa_75', 'fa_27', 'fa_25', 'fa_52', 'rolling_1D_20_4_4', 'fa_42', 'fa_54', 'fa_56', 'fa_69', 'fa_29', 'fa_31', 'fa_43', 'pca_72', 'fa_53', 'pca_39', 'fa_61', 'fa_67', 'fa_65', 'fa_49', 'fa_37', 'fa_62', 'fa_36', 'fa_55', 'fa_70', 'fa_74', 'pca_74', 'fa_46', 'fa_58', 'fa_26', 'fa_51', 'fa_41', 'fa_66']\n",
      "7 tentative attributes remains: ['ewm_1D_60_3_3', 'pca_73', 'rolling_1D_20_4_3', 'rolling_4H_20_4_2', 'ewm_1D_20_4_4', 'rolling_1D_20_4_2', 'pca_71']\n",
      "Selected features at fold 2 are: ['MeanPrice', 'close_AVG_15Min_20', 'close_AVG_15Min_5', 'close_AVG_15Min_60', 'close_AVG_1D_20', 'close_AVG_1D_5', 'close_AVG_1D_60', 'close_AVG_1H_20', 'close_AVG_1H_5', 'close_AVG_1H_60', 'close_MAX_15Min_20', 'close_MAX_15Min_5', 'close_MAX_15Min_60', 'close_MAX_1D_20', 'close_MAX_1D_5', 'close_MAX_1D_60', 'close_MAX_1H_20', 'close_MAX_1H_5', 'close_MAX_1H_60', 'close_MEDIAN_15Min_20', 'close_MEDIAN_15Min_5', 'close_MEDIAN_15Min_60', 'close_MEDIAN_1D_20', 'close_MEDIAN_1D_5', 'close_MEDIAN_1D_60', 'close_MEDIAN_1H_20', 'close_MEDIAN_1H_5', 'close_MEDIAN_1H_60', 'close_MIN_15Min_20', 'close_MIN_15Min_5', 'close_MIN_15Min_60', 'close_MIN_1D_20', 'close_MIN_1D_5', 'close_MIN_1D_60', 'close_MIN_1H_20', 'close_MIN_1H_5', 'close_MIN_1H_60', 'close_STDEV_15Min_20', 'close_STDEV_15Min_5', 'close_STDEV_15Min_60', 'close_STDEV_1D_20', 'close_STDEV_1D_5', 'close_STDEV_1D_60', 'close_STDEV_1H_20', 'close_STDEV_1H_5', 'close_STDEV_1H_60', 'ewm_1D_20_4_2', 'ewm_1D_20_4_3', 'ewm_1D_60_3_1', 'ewm_1D_60_3_2', 'ewm_4H_20_4_1', 'ewm_4H_20_4_2', 'ewm_4H_20_4_3', 'ewm_4H_20_4_4', 'fa_0', 'fa_1', 'fa_10', 'fa_11', 'fa_12', 'fa_13', 'fa_14', 'fa_15', 'fa_16', 'fa_17', 'fa_18', 'fa_19', 'fa_2', 'fa_20', 'fa_21', 'fa_3', 'fa_4', 'fa_5', 'fa_6', 'fa_7', 'fa_8', 'fa_9', 'pca_0', 'pca_1', 'pca_10', 'pca_11', 'pca_12', 'pca_13', 'pca_14', 'pca_15', 'pca_16', 'pca_17', 'pca_18', 'pca_19', 'pca_2', 'pca_20', 'pca_21', 'pca_22', 'pca_23', 'pca_24', 'pca_25', 'pca_26', 'pca_27', 'pca_28', 'pca_29', 'pca_3', 'pca_30', 'pca_31', 'pca_32', 'pca_33', 'pca_34', 'pca_35', 'pca_36', 'pca_37', 'pca_38', 'pca_4', 'pca_40', 'pca_41', 'pca_42', 'pca_43', 'pca_44', 'pca_45', 'pca_46', 'pca_47', 'pca_48', 'pca_49', 'pca_5', 'pca_50', 'pca_51', 'pca_52', 'pca_53', 'pca_54', 'pca_55', 'pca_56', 'pca_57', 'pca_58', 'pca_59', 'pca_6', 'pca_60', 'pca_61', 'pca_63', 'pca_64', 'pca_65', 'pca_66', 'pca_67', 'pca_68', 'pca_69', 'pca_7', 'pca_8', 'pca_9', 'rolling_1D_20_4_1', 'rolling_1D_60_20_4_1', 'rolling_1D_60_20_4_2', 'rolling_1D_60_20_4_3', 'rolling_1D_60_20_4_4', 'rolling_1D_60_3_1', 'rolling_1D_60_3_2', 'rolling_1D_60_3_3', 'rolling_4H_20_4_1', 'rolling_4H_20_4_3', 'rolling_4H_20_4_4', 'rolling_4H_60_20_4_1', 'rolling_4H_60_20_4_2', 'rolling_4H_60_20_4_3', 'rolling_4H_60_20_4_4']\n",
      "FOLD 3/5\n",
      "<class 'pandas.core.frame.DataFrame'>\n",
      "DatetimeIndex: 209293 entries, 2018-04-16 07:03:32.715000 to 2021-10-19 20:59:43.152000\n",
      "Columns: 228 entries, MeanPrice to pca_75\n",
      "dtypes: float64(228)\n",
      "memory usage: 365.7 MB\n",
      "None\n"
     ]
    },
    {
     "data": {
      "application/vnd.jupyter.widget-view+json": {
       "model_id": "86de044498ce47a99ac8b92e6395120b",
       "version_major": 2,
       "version_minor": 0
      },
      "text/plain": [
       "  0%|          | 0/50 [00:00<?, ?it/s]"
      ]
     },
     "metadata": {},
     "output_type": "display_data"
    },
    {
     "name": "stdout",
     "output_type": "stream",
     "text": [
      "162 attributes confirmed important: ['close_MEDIAN_1H_60', 'pca_64', 'close_AVG_1H_60', 'rolling_4H_20_4_2', 'pca_7', 'rolling_4H_60_20_4_4', 'pca_2', 'pca_69', 'rolling_4H_20_4_1', 'fa_12', 'pca_24', 'close_STDEV_15Min_20', 'pca_44', 'close_MIN_1H_5', 'pca_40', 'close_AVG_15Min_20', 'close_MIN_1D_20', 'pca_30', 'pca_29', 'fa_18', 'pca_16', 'ewm_4H_20_4_4', 'pca_32', 'pca_4', 'pca_13', 'pca_34', 'pca_35', 'close_MAX_1H_20', 'close_AVG_15Min_60', 'fa_15', 'close_MEDIAN_1H_5', 'pca_53', 'close_STDEV_1D_5', 'pca_10', 'pca_19', 'pca_5', 'pca_60', 'close_MIN_15Min_5', 'close_AVG_1H_5', 'pca_54', 'pca_0', 'pca_20', 'pca_52', 'fa_14', 'pca_1', 'fa_20', 'close_MEDIAN_15Min_20', 'fa_17', 'ewm_4H_20_4_3', 'close_MEDIAN_1D_60', 'close_MEDIAN_1H_20', 'close_STDEV_1H_20', 'rolling_1D_20_4_1', 'pca_23', 'pca_43', 'ewm_1D_60_3_2', 'close_AVG_15Min_5', 'pca_65', 'close_MIN_1D_60', 'close_AVG_1H_20', 'pca_66', 'fa_9', 'pca_63', 'pca_68', 'close_MIN_1H_20', 'pca_61', 'pca_45', 'pca_8', 'fa_4', 'close_MEDIAN_1D_5', 'pca_41', 'close_AVG_1D_5', 'close_AVG_1D_20', 'fa_11', 'pca_58', 'pca_46', 'close_MAX_1D_20', 'pca_33', 'rolling_1D_60_3_2', 'close_MAX_1D_60', 'close_STDEV_1H_60', 'pca_14', 'pca_27', 'rolling_1D_20_4_3', 'rolling_4H_60_20_4_3', 'pca_37', 'close_MAX_1H_5', 'pca_12', 'fa_16', 'close_STDEV_15Min_60', 'rolling_1D_60_20_4_4', 'pca_57', 'fa_10', 'close_STDEV_1D_60', 'pca_56', 'close_MEDIAN_15Min_5', 'pca_6', 'pca_48', 'close_MAX_1H_60', 'pca_62', 'fa_13', 'pca_25', 'fa_6', 'MeanPrice', 'close_MIN_1D_5', 'ewm_1D_20_4_3', 'fa_7', 'close_MAX_15Min_5', 'rolling_4H_60_20_4_2', 'pca_15', 'rolling_1D_60_20_4_2', 'close_MIN_15Min_20', 'close_MAX_1D_5', 'close_MIN_15Min_60', 'rolling_4H_60_20_4_1', 'fa_2', 'fa_8', 'close_STDEV_1D_20', 'rolling_1D_60_3_1', 'pca_55', 'ewm_4H_20_4_2', 'fa_5', 'pca_51', 'pca_38', 'ewm_1D_60_3_1', 'pca_22', 'ewm_1D_20_4_1', 'pca_36', 'fa_19', 'pca_28', 'pca_49', 'pca_3', 'pca_17', 'pca_47', 'rolling_1D_60_20_4_1', 'fa_3', 'close_MAX_15Min_60', 'close_MEDIAN_15Min_60', 'close_AVG_1D_60', 'pca_42', 'ewm_1D_20_4_2', 'fa_21', 'close_STDEV_15Min_5', 'pca_21', 'pca_50', 'rolling_4H_20_4_4', 'pca_67', 'close_STDEV_1H_5', 'fa_1', 'pca_26', 'rolling_1D_60_20_4_3', 'fa_0', 'ewm_4H_20_4_1', 'pca_11', 'close_MEDIAN_1D_20', 'pca_9', 'close_MAX_15Min_20', 'pca_31', 'rolling_1D_20_4_2', 'pca_18', 'close_MIN_1H_60', 'pca_59']\n",
      "62 attributes confirmed unimportant: ['fa_38', 'fa_40', 'fa_57', 'fa_47', 'fa_59', 'fa_72', 'rolling_1D_60_3_3', 'fa_28', 'fa_44', 'fa_68', 'fa_64', 'fa_63', 'fa_39', 'pca_70', 'fa_50', 'rolling_4H_20_4_3', 'pca_71', 'fa_45', 'fa_32', 'fa_71', 'fa_73', 'fa_34', 'fa_33', 'pca_75', 'fa_24', 'fa_23', 'fa_22', 'pca_73', 'fa_60', 'fa_30', 'fa_35', 'fa_48', 'fa_75', 'fa_27', 'fa_25', 'fa_52', 'fa_42', 'fa_54', 'fa_56', 'fa_69', 'fa_29', 'fa_31', 'fa_43', 'pca_72', 'fa_53', 'fa_61', 'fa_67', 'fa_65', 'fa_49', 'fa_37', 'fa_62', 'fa_36', 'fa_55', 'fa_70', 'fa_74', 'pca_74', 'fa_46', 'fa_58', 'fa_26', 'fa_51', 'fa_41', 'fa_66']\n",
      "4 tentative attributes remains: ['ewm_1D_60_3_3', 'rolling_1D_20_4_4', 'pca_39', 'ewm_1D_20_4_4']\n",
      "Selected features at fold 3 are: ['MeanPrice', 'close_AVG_15Min_20', 'close_AVG_15Min_5', 'close_AVG_15Min_60', 'close_AVG_1D_20', 'close_AVG_1D_5', 'close_AVG_1D_60', 'close_AVG_1H_20', 'close_AVG_1H_5', 'close_AVG_1H_60', 'close_MAX_15Min_20', 'close_MAX_15Min_5', 'close_MAX_15Min_60', 'close_MAX_1D_20', 'close_MAX_1D_5', 'close_MAX_1D_60', 'close_MAX_1H_20', 'close_MAX_1H_5', 'close_MAX_1H_60', 'close_MEDIAN_15Min_20', 'close_MEDIAN_15Min_5', 'close_MEDIAN_15Min_60', 'close_MEDIAN_1D_20', 'close_MEDIAN_1D_5', 'close_MEDIAN_1D_60', 'close_MEDIAN_1H_20', 'close_MEDIAN_1H_5', 'close_MEDIAN_1H_60', 'close_MIN_15Min_20', 'close_MIN_15Min_5', 'close_MIN_15Min_60', 'close_MIN_1D_20', 'close_MIN_1D_5', 'close_MIN_1D_60', 'close_MIN_1H_20', 'close_MIN_1H_5', 'close_MIN_1H_60', 'close_STDEV_15Min_20', 'close_STDEV_15Min_5', 'close_STDEV_15Min_60', 'close_STDEV_1D_20', 'close_STDEV_1D_5', 'close_STDEV_1D_60', 'close_STDEV_1H_20', 'close_STDEV_1H_5', 'close_STDEV_1H_60', 'ewm_1D_20_4_1', 'ewm_1D_20_4_2', 'ewm_1D_20_4_3', 'ewm_1D_60_3_1', 'ewm_1D_60_3_2', 'ewm_4H_20_4_1', 'ewm_4H_20_4_2', 'ewm_4H_20_4_3', 'ewm_4H_20_4_4', 'fa_0', 'fa_1', 'fa_10', 'fa_11', 'fa_12', 'fa_13', 'fa_14', 'fa_15', 'fa_16', 'fa_17', 'fa_18', 'fa_19', 'fa_2', 'fa_20', 'fa_21', 'fa_3', 'fa_4', 'fa_5', 'fa_6', 'fa_7', 'fa_8', 'fa_9', 'pca_0', 'pca_1', 'pca_10', 'pca_11', 'pca_12', 'pca_13', 'pca_14', 'pca_15', 'pca_16', 'pca_17', 'pca_18', 'pca_19', 'pca_2', 'pca_20', 'pca_21', 'pca_22', 'pca_23', 'pca_24', 'pca_25', 'pca_26', 'pca_27', 'pca_28', 'pca_29', 'pca_3', 'pca_30', 'pca_31', 'pca_32', 'pca_33', 'pca_34', 'pca_35', 'pca_36', 'pca_37', 'pca_38', 'pca_4', 'pca_40', 'pca_41', 'pca_42', 'pca_43', 'pca_44', 'pca_45', 'pca_46', 'pca_47', 'pca_48', 'pca_49', 'pca_5', 'pca_50', 'pca_51', 'pca_52', 'pca_53', 'pca_54', 'pca_55', 'pca_56', 'pca_57', 'pca_58', 'pca_59', 'pca_6', 'pca_60', 'pca_61', 'pca_62', 'pca_63', 'pca_64', 'pca_65', 'pca_66', 'pca_67', 'pca_68', 'pca_69', 'pca_7', 'pca_8', 'pca_9', 'rolling_1D_20_4_1', 'rolling_1D_20_4_2', 'rolling_1D_20_4_3', 'rolling_1D_60_20_4_1', 'rolling_1D_60_20_4_2', 'rolling_1D_60_20_4_3', 'rolling_1D_60_20_4_4', 'rolling_1D_60_3_1', 'rolling_1D_60_3_2', 'rolling_4H_20_4_1', 'rolling_4H_20_4_2', 'rolling_4H_20_4_4', 'rolling_4H_60_20_4_1', 'rolling_4H_60_20_4_2', 'rolling_4H_60_20_4_3', 'rolling_4H_60_20_4_4']\n",
      "FOLD 4/5\n",
      "<class 'pandas.core.frame.DataFrame'>\n",
      "DatetimeIndex: 209293 entries, 2018-04-16 07:00:00.489000 to 2021-10-19 20:48:56.925000\n",
      "Columns: 228 entries, MeanPrice to pca_75\n",
      "dtypes: float64(228)\n",
      "memory usage: 365.7 MB\n",
      "None\n"
     ]
    },
    {
     "data": {
      "application/vnd.jupyter.widget-view+json": {
       "model_id": "846ee8241b4244f2b1eddb20e6f0f408",
       "version_major": 2,
       "version_minor": 0
      },
      "text/plain": [
       "  0%|          | 0/50 [00:00<?, ?it/s]"
      ]
     },
     "metadata": {},
     "output_type": "display_data"
    },
    {
     "name": "stdout",
     "output_type": "stream",
     "text": [
      "164 attributes confirmed important: ['close_MEDIAN_1H_60', 'pca_64', 'close_AVG_1H_60', 'pca_7', 'rolling_4H_60_20_4_4', 'pca_2', 'pca_69', 'rolling_4H_20_4_3', 'rolling_4H_20_4_1', 'fa_12', 'pca_24', 'close_STDEV_15Min_20', 'close_MIN_1H_5', 'pca_44', 'pca_40', 'close_AVG_15Min_20', 'close_MIN_1D_20', 'pca_30', 'pca_29', 'fa_18', 'pca_16', 'ewm_4H_20_4_4', 'pca_32', 'pca_4', 'pca_13', 'pca_34', 'pca_35', 'close_MAX_1H_20', 'close_AVG_15Min_60', 'fa_15', 'close_MEDIAN_1H_5', 'pca_53', 'close_STDEV_1D_5', 'pca_10', 'pca_19', 'pca_5', 'pca_60', 'close_MIN_15Min_5', 'close_AVG_1H_5', 'pca_54', 'rolling_1D_60_3_3', 'pca_0', 'pca_20', 'pca_52', 'fa_14', 'pca_1', 'fa_20', 'close_MEDIAN_15Min_20', 'ewm_4H_20_4_3', 'fa_17', 'close_MEDIAN_1D_60', 'close_MEDIAN_1H_20', 'close_STDEV_1H_20', 'rolling_1D_20_4_1', 'pca_23', 'pca_43', 'close_AVG_15Min_5', 'ewm_1D_60_3_2', 'pca_65', 'close_MIN_1D_60', 'close_AVG_1H_20', 'pca_66', 'fa_9', 'pca_63', 'pca_68', 'close_MIN_1H_20', 'pca_61', 'pca_72', 'pca_45', 'pca_8', 'fa_4', 'close_MEDIAN_1D_5', 'pca_41', 'close_AVG_1D_5', 'close_AVG_1D_20', 'fa_11', 'pca_58', 'pca_46', 'close_MAX_1D_20', 'pca_33', 'close_MAX_1D_60', 'rolling_1D_60_3_2', 'close_STDEV_1H_60', 'pca_14', 'pca_27', 'rolling_1D_20_4_3', 'rolling_4H_60_20_4_3', 'pca_37', 'close_MAX_1H_5', 'pca_12', 'ewm_1D_20_4_4', 'fa_16', 'close_STDEV_15Min_60', 'rolling_1D_60_20_4_4', 'fa_10', 'close_STDEV_1D_60', 'pca_56', 'pca_6', 'pca_48', 'close_MAX_1H_60', 'pca_62', 'fa_13', 'pca_25', 'fa_6', 'MeanPrice', 'close_MIN_1D_5', 'ewm_1D_20_4_3', 'fa_7', 'close_MAX_15Min_5', 'rolling_4H_60_20_4_2', 'pca_15', 'rolling_1D_60_20_4_2', 'close_MIN_15Min_20', 'close_MAX_1D_5', 'close_MIN_15Min_60', 'rolling_4H_60_20_4_1', 'fa_2', 'fa_8', 'close_STDEV_1D_20', 'rolling_1D_60_3_1', 'pca_55', 'ewm_4H_20_4_2', 'fa_5', 'pca_51', 'pca_38', 'ewm_1D_60_3_1', 'pca_22', 'ewm_1D_20_4_1', 'pca_36', 'fa_19', 'pca_28', 'pca_49', 'pca_3', 'pca_17', 'pca_47', 'rolling_1D_60_20_4_1', 'fa_3', 'pca_75', 'close_MAX_15Min_60', 'close_MEDIAN_15Min_60', 'close_AVG_1D_60', 'pca_42', 'ewm_1D_20_4_2', 'fa_21', 'close_STDEV_15Min_5', 'pca_21', 'pca_50', 'rolling_4H_20_4_4', 'pca_67', 'close_STDEV_1H_5', 'fa_1', 'pca_26', 'rolling_1D_60_20_4_3', 'fa_0', 'ewm_4H_20_4_1', 'pca_11', 'close_MEDIAN_1D_20', 'pca_9', 'close_MAX_15Min_20', 'pca_31', 'rolling_1D_20_4_2', 'pca_18', 'close_MIN_1H_60', 'pca_59']\n",
      "61 attributes confirmed unimportant: ['fa_38', 'fa_40', 'fa_57', 'fa_47', 'fa_59', 'fa_72', 'fa_28', 'fa_44', 'fa_68', 'fa_64', 'fa_63', 'fa_39', 'pca_70', 'fa_50', 'pca_71', 'fa_71', 'fa_45', 'fa_32', 'fa_73', 'fa_34', 'fa_33', 'pca_57', 'fa_24', 'fa_23', 'fa_22', 'pca_73', 'fa_60', 'fa_30', 'fa_35', 'fa_48', 'fa_75', 'fa_27', 'fa_25', 'rolling_1D_20_4_4', 'fa_52', 'fa_42', 'fa_54', 'fa_56', 'fa_69', 'fa_29', 'fa_31', 'fa_43', 'fa_53', 'pca_39', 'fa_61', 'fa_67', 'fa_65', 'fa_49', 'fa_37', 'fa_62', 'fa_36', 'fa_55', 'fa_70', 'fa_74', 'pca_74', 'fa_46', 'fa_58', 'fa_26', 'fa_51', 'fa_41', 'fa_66']\n",
      "3 tentative attributes remains: ['ewm_1D_60_3_3', 'rolling_4H_20_4_2', 'close_MEDIAN_15Min_5']\n",
      "Selected features at fold 4 are: ['MeanPrice', 'close_AVG_15Min_20', 'close_AVG_15Min_5', 'close_AVG_15Min_60', 'close_AVG_1D_20', 'close_AVG_1D_5', 'close_AVG_1D_60', 'close_AVG_1H_20', 'close_AVG_1H_5', 'close_AVG_1H_60', 'close_MAX_15Min_20', 'close_MAX_15Min_5', 'close_MAX_15Min_60', 'close_MAX_1D_20', 'close_MAX_1D_5', 'close_MAX_1D_60', 'close_MAX_1H_20', 'close_MAX_1H_5', 'close_MAX_1H_60', 'close_MEDIAN_15Min_20', 'close_MEDIAN_15Min_60', 'close_MEDIAN_1D_20', 'close_MEDIAN_1D_5', 'close_MEDIAN_1D_60', 'close_MEDIAN_1H_20', 'close_MEDIAN_1H_5', 'close_MEDIAN_1H_60', 'close_MIN_15Min_20', 'close_MIN_15Min_5', 'close_MIN_15Min_60', 'close_MIN_1D_20', 'close_MIN_1D_5', 'close_MIN_1D_60', 'close_MIN_1H_20', 'close_MIN_1H_5', 'close_MIN_1H_60', 'close_STDEV_15Min_20', 'close_STDEV_15Min_5', 'close_STDEV_15Min_60', 'close_STDEV_1D_20', 'close_STDEV_1D_5', 'close_STDEV_1D_60', 'close_STDEV_1H_20', 'close_STDEV_1H_5', 'close_STDEV_1H_60', 'ewm_1D_20_4_1', 'ewm_1D_20_4_2', 'ewm_1D_20_4_3', 'ewm_1D_20_4_4', 'ewm_1D_60_3_1', 'ewm_1D_60_3_2', 'ewm_4H_20_4_1', 'ewm_4H_20_4_2', 'ewm_4H_20_4_3', 'ewm_4H_20_4_4', 'fa_0', 'fa_1', 'fa_10', 'fa_11', 'fa_12', 'fa_13', 'fa_14', 'fa_15', 'fa_16', 'fa_17', 'fa_18', 'fa_19', 'fa_2', 'fa_20', 'fa_21', 'fa_3', 'fa_4', 'fa_5', 'fa_6', 'fa_7', 'fa_8', 'fa_9', 'pca_0', 'pca_1', 'pca_10', 'pca_11', 'pca_12', 'pca_13', 'pca_14', 'pca_15', 'pca_16', 'pca_17', 'pca_18', 'pca_19', 'pca_2', 'pca_20', 'pca_21', 'pca_22', 'pca_23', 'pca_24', 'pca_25', 'pca_26', 'pca_27', 'pca_28', 'pca_29', 'pca_3', 'pca_30', 'pca_31', 'pca_32', 'pca_33', 'pca_34', 'pca_35', 'pca_36', 'pca_37', 'pca_38', 'pca_4', 'pca_40', 'pca_41', 'pca_42', 'pca_43', 'pca_44', 'pca_45', 'pca_46', 'pca_47', 'pca_48', 'pca_49', 'pca_5', 'pca_50', 'pca_51', 'pca_52', 'pca_53', 'pca_54', 'pca_55', 'pca_56', 'pca_58', 'pca_59', 'pca_6', 'pca_60', 'pca_61', 'pca_62', 'pca_63', 'pca_64', 'pca_65', 'pca_66', 'pca_67', 'pca_68', 'pca_69', 'pca_7', 'pca_72', 'pca_75', 'pca_8', 'pca_9', 'rolling_1D_20_4_1', 'rolling_1D_20_4_2', 'rolling_1D_20_4_3', 'rolling_1D_60_20_4_1', 'rolling_1D_60_20_4_2', 'rolling_1D_60_20_4_3', 'rolling_1D_60_20_4_4', 'rolling_1D_60_3_1', 'rolling_1D_60_3_2', 'rolling_1D_60_3_3', 'rolling_4H_20_4_1', 'rolling_4H_20_4_3', 'rolling_4H_20_4_4', 'rolling_4H_60_20_4_1', 'rolling_4H_60_20_4_2', 'rolling_4H_60_20_4_3', 'rolling_4H_60_20_4_4']\n",
      "FOLD 5/5\n",
      "<class 'pandas.core.frame.DataFrame'>\n",
      "DatetimeIndex: 209293 entries, 2018-04-16 07:00:00.489000 to 2021-10-19 20:59:43.152000\n",
      "Columns: 228 entries, MeanPrice to pca_75\n",
      "dtypes: float64(228)\n",
      "memory usage: 365.7 MB\n",
      "None\n"
     ]
    },
    {
     "data": {
      "application/vnd.jupyter.widget-view+json": {
       "model_id": "18f8a9389b9d4289b67558dafe6795bf",
       "version_major": 2,
       "version_minor": 0
      },
      "text/plain": [
       "  0%|          | 0/50 [00:00<?, ?it/s]"
      ]
     },
     "metadata": {},
     "output_type": "display_data"
    },
    {
     "name": "stdout",
     "output_type": "stream",
     "text": [
      "164 attributes confirmed important: ['close_MEDIAN_1H_60', 'pca_64', 'close_AVG_1H_60', 'rolling_4H_20_4_2', 'pca_7', 'rolling_4H_60_20_4_4', 'pca_2', 'pca_69', 'rolling_4H_20_4_3', 'rolling_4H_20_4_1', 'fa_12', 'pca_24', 'close_STDEV_15Min_20', 'pca_44', 'close_MIN_1H_5', 'pca_40', 'close_AVG_15Min_20', 'close_MIN_1D_20', 'pca_30', 'pca_29', 'fa_18', 'pca_16', 'ewm_4H_20_4_4', 'pca_32', 'pca_4', 'pca_13', 'pca_34', 'pca_35', 'close_MAX_1H_20', 'close_AVG_15Min_60', 'fa_15', 'close_MEDIAN_1H_5', 'pca_53', 'close_STDEV_1D_5', 'pca_10', 'pca_19', 'pca_5', 'pca_60', 'close_MIN_15Min_5', 'close_AVG_1H_5', 'pca_54', 'rolling_1D_60_3_3', 'pca_0', 'pca_20', 'pca_52', 'fa_14', 'pca_1', 'fa_20', 'fa_17', 'ewm_4H_20_4_3', 'close_MEDIAN_1D_60', 'close_MEDIAN_1H_20', 'close_STDEV_1H_20', 'pca_23', 'pca_43', 'rolling_1D_20_4_1', 'ewm_1D_60_3_2', 'close_AVG_15Min_5', 'pca_65', 'rolling_1D_20_4_4', 'close_MIN_1D_60', 'close_AVG_1H_20', 'pca_66', 'fa_9', 'pca_63', 'pca_68', 'close_MIN_1H_20', 'pca_61', 'pca_45', 'pca_8', 'fa_4', 'close_MEDIAN_1D_5', 'pca_41', 'close_AVG_1D_5', 'close_AVG_1D_20', 'fa_11', 'pca_58', 'pca_46', 'close_MAX_1D_20', 'pca_33', 'rolling_1D_60_3_2', 'close_MAX_1D_60', 'close_STDEV_1H_60', 'pca_14', 'pca_27', 'rolling_1D_20_4_3', 'rolling_4H_60_20_4_3', 'pca_37', 'close_MAX_1H_5', 'pca_12', 'ewm_1D_20_4_4', 'fa_16', 'close_STDEV_15Min_60', 'rolling_1D_60_20_4_4', 'fa_10', 'close_STDEV_1D_60', 'pca_56', 'close_MEDIAN_15Min_5', 'pca_6', 'pca_48', 'close_MAX_1H_60', 'pca_62', 'fa_13', 'pca_25', 'fa_6', 'MeanPrice', 'close_MIN_1D_5', 'ewm_1D_20_4_3', 'fa_7', 'close_MAX_15Min_5', 'rolling_4H_60_20_4_2', 'pca_15', 'rolling_1D_60_20_4_2', 'close_MIN_15Min_20', 'close_MAX_1D_5', 'close_MIN_15Min_60', 'rolling_4H_60_20_4_1', 'fa_2', 'fa_8', 'close_STDEV_1D_20', 'rolling_1D_60_3_1', 'pca_55', 'ewm_4H_20_4_2', 'fa_5', 'pca_51', 'ewm_1D_60_3_1', 'pca_38', 'pca_22', 'ewm_1D_20_4_1', 'pca_36', 'fa_19', 'pca_28', 'pca_49', 'pca_3', 'pca_17', 'pca_47', 'rolling_1D_60_20_4_1', 'fa_3', 'close_MAX_15Min_60', 'close_MEDIAN_15Min_60', 'close_AVG_1D_60', 'pca_42', 'ewm_1D_20_4_2', 'fa_21', 'close_STDEV_15Min_5', 'pca_21', 'pca_50', 'rolling_4H_20_4_4', 'pca_67', 'close_STDEV_1H_5', 'fa_1', 'pca_26', 'rolling_1D_60_20_4_3', 'fa_0', 'ewm_4H_20_4_1', 'pca_11', 'close_MEDIAN_1D_20', 'pca_9', 'close_MAX_15Min_20', 'pca_31', 'rolling_1D_20_4_2', 'pca_18', 'close_MIN_1H_60', 'pca_59']\n",
      "61 attributes confirmed unimportant: ['fa_38', 'fa_40', 'fa_57', 'fa_47', 'fa_59', 'fa_72', 'fa_28', 'fa_44', 'fa_68', 'fa_64', 'fa_63', 'fa_39', 'pca_70', 'fa_50', 'pca_71', 'fa_71', 'fa_45', 'fa_32', 'fa_73', 'fa_34', 'fa_33', 'pca_57', 'pca_75', 'fa_24', 'fa_23', 'fa_22', 'pca_73', 'fa_60', 'fa_30', 'fa_35', 'fa_48', 'fa_75', 'fa_27', 'fa_25', 'fa_52', 'fa_42', 'fa_54', 'fa_56', 'fa_69', 'fa_29', 'fa_31', 'fa_43', 'pca_72', 'fa_53', 'fa_61', 'fa_67', 'fa_65', 'fa_49', 'fa_37', 'fa_62', 'fa_36', 'fa_55', 'fa_70', 'fa_74', 'pca_74', 'fa_46', 'fa_58', 'fa_26', 'fa_51', 'fa_41', 'fa_66']\n",
      "3 tentative attributes remains: ['ewm_1D_60_3_3', 'close_MEDIAN_15Min_20', 'pca_39']\n",
      "Selected features at fold 5 are: ['MeanPrice', 'close_AVG_15Min_20', 'close_AVG_15Min_5', 'close_AVG_15Min_60', 'close_AVG_1D_20', 'close_AVG_1D_5', 'close_AVG_1D_60', 'close_AVG_1H_20', 'close_AVG_1H_5', 'close_AVG_1H_60', 'close_MAX_15Min_20', 'close_MAX_15Min_5', 'close_MAX_15Min_60', 'close_MAX_1D_20', 'close_MAX_1D_5', 'close_MAX_1D_60', 'close_MAX_1H_20', 'close_MAX_1H_5', 'close_MAX_1H_60', 'close_MEDIAN_15Min_5', 'close_MEDIAN_15Min_60', 'close_MEDIAN_1D_20', 'close_MEDIAN_1D_5', 'close_MEDIAN_1D_60', 'close_MEDIAN_1H_20', 'close_MEDIAN_1H_5', 'close_MEDIAN_1H_60', 'close_MIN_15Min_20', 'close_MIN_15Min_5', 'close_MIN_15Min_60', 'close_MIN_1D_20', 'close_MIN_1D_5', 'close_MIN_1D_60', 'close_MIN_1H_20', 'close_MIN_1H_5', 'close_MIN_1H_60', 'close_STDEV_15Min_20', 'close_STDEV_15Min_5', 'close_STDEV_15Min_60', 'close_STDEV_1D_20', 'close_STDEV_1D_5', 'close_STDEV_1D_60', 'close_STDEV_1H_20', 'close_STDEV_1H_5', 'close_STDEV_1H_60', 'ewm_1D_20_4_1', 'ewm_1D_20_4_2', 'ewm_1D_20_4_3', 'ewm_1D_20_4_4', 'ewm_1D_60_3_1', 'ewm_1D_60_3_2', 'ewm_4H_20_4_1', 'ewm_4H_20_4_2', 'ewm_4H_20_4_3', 'ewm_4H_20_4_4', 'fa_0', 'fa_1', 'fa_10', 'fa_11', 'fa_12', 'fa_13', 'fa_14', 'fa_15', 'fa_16', 'fa_17', 'fa_18', 'fa_19', 'fa_2', 'fa_20', 'fa_21', 'fa_3', 'fa_4', 'fa_5', 'fa_6', 'fa_7', 'fa_8', 'fa_9', 'pca_0', 'pca_1', 'pca_10', 'pca_11', 'pca_12', 'pca_13', 'pca_14', 'pca_15', 'pca_16', 'pca_17', 'pca_18', 'pca_19', 'pca_2', 'pca_20', 'pca_21', 'pca_22', 'pca_23', 'pca_24', 'pca_25', 'pca_26', 'pca_27', 'pca_28', 'pca_29', 'pca_3', 'pca_30', 'pca_31', 'pca_32', 'pca_33', 'pca_34', 'pca_35', 'pca_36', 'pca_37', 'pca_38', 'pca_4', 'pca_40', 'pca_41', 'pca_42', 'pca_43', 'pca_44', 'pca_45', 'pca_46', 'pca_47', 'pca_48', 'pca_49', 'pca_5', 'pca_50', 'pca_51', 'pca_52', 'pca_53', 'pca_54', 'pca_55', 'pca_56', 'pca_58', 'pca_59', 'pca_6', 'pca_60', 'pca_61', 'pca_62', 'pca_63', 'pca_64', 'pca_65', 'pca_66', 'pca_67', 'pca_68', 'pca_69', 'pca_7', 'pca_8', 'pca_9', 'rolling_1D_20_4_1', 'rolling_1D_20_4_2', 'rolling_1D_20_4_3', 'rolling_1D_20_4_4', 'rolling_1D_60_20_4_1', 'rolling_1D_60_20_4_2', 'rolling_1D_60_20_4_3', 'rolling_1D_60_20_4_4', 'rolling_1D_60_3_1', 'rolling_1D_60_3_2', 'rolling_1D_60_3_3', 'rolling_4H_20_4_1', 'rolling_4H_20_4_2', 'rolling_4H_20_4_3', 'rolling_4H_20_4_4', 'rolling_4H_60_20_4_1', 'rolling_4H_60_20_4_2', 'rolling_4H_60_20_4_3', 'rolling_4H_60_20_4_4']\n"
     ]
    }
   ],
   "source": [
    "from xgboost.sklearn import XGBClassifier\n",
    "#initial model\n",
    "store = {}\n",
    "\n",
    "\n",
    "    \n",
    "param = {'objective': 'multi:softprob', # Specify multiclass classification\n",
    "         'num_class': 3, # Number of possible output classes\n",
    "         'tree_method': 'gpu_hist', # Use GPU accelerated algorithm\n",
    "         'enable_categorical': False,\n",
    "         'eval_metric': 'auc',\n",
    "         #'eval_metric': ['mlogloss','merror'],\n",
    "\n",
    "         'evals_result': store,\n",
    "         'verbose_eval': 100\n",
    "         }\n",
    "\n",
    "\n",
    "\n",
    "every_nth = 25\n",
    "X_train_1 = X_train[::every_nth]\n",
    "Y_train_1 = Y_train[::every_nth]\n",
    "y_stratified_1 = y_stratified[::every_nth]\n",
    "\n",
    "\n",
    "\n",
    "folds = 5\n",
    "skf = StratifiedKFold(n_splits=folds,\n",
    "                      shuffle=True, \n",
    "                      random_state=0)\n",
    "\n",
    "selected_columns = list()\n",
    "\n",
    "print(X_train_1.info())\n",
    "    \n",
    "for k, (train_idx, val_idx) in enumerate(skf.split(X_train_1, y_stratified_1)):\n",
    "    \n",
    "    print(f\"FOLD {k+1}/{folds}\")\n",
    "    \n",
    "    \n",
    "    y = Y_train_1.iloc[train_idx, :].values.argmax(axis=1)\n",
    "\n",
    "    \n",
    "    xgb1 = XGBClassifier(learning_rate=0.1,\n",
    "                        n_estimators=150,\n",
    "                        max_depth=3,\n",
    "                        min_child_weight=1,\n",
    "                        gamma=0,\n",
    "                        subsample=0.8,\n",
    "                        colsample_bytree=0.8,\n",
    "                        objective='multi:softmax',\n",
    "                        tree_method='gpu_hist',\n",
    "                        num_class=3,\n",
    "                        seed=27)\n",
    "    \n",
    "    Feature_Selector = BorutaShap(model=xgb1,\n",
    "                              importance_measure='shap', \n",
    "                              classification=True)\n",
    "    X = X_train_1.iloc[train_idx, :]\n",
    "    print(X.info())\n",
    "\n",
    "    Feature_Selector.fit(X=X, y=y, n_trials=50, random_state=0)\n",
    "    \n",
    "    #Feature_Selector.plot(which_features='all', figsize=(24,12))\n",
    "    \n",
    "    selected_columns.append(sorted(Feature_Selector.Subset().columns))\n",
    "    \n",
    "    print(f\"Selected features at fold {k+1} are: {selected_columns[-1]}\")\n",
    "    X = None\n",
    "    y = None\n",
    "    \n",
    "    \n",
    "final_selection = sorted({item for selection in selected_columns for item in selection})"
   ]
  },
  {
   "cell_type": "code",
   "execution_count": 5,
   "id": "cc2b04a4",
   "metadata": {},
   "outputs": [
    {
     "name": "stdout",
     "output_type": "stream",
     "text": [
      "['MeanPrice', 'close_AVG_15Min_20', 'close_AVG_15Min_5', 'close_AVG_15Min_60', 'close_AVG_1D_20', 'close_AVG_1D_5', 'close_AVG_1D_60', 'close_AVG_1H_20', 'close_AVG_1H_5', 'close_AVG_1H_60', 'close_MAX_15Min_20', 'close_MAX_15Min_5', 'close_MAX_15Min_60', 'close_MAX_1D_20', 'close_MAX_1D_5', 'close_MAX_1D_60', 'close_MAX_1H_20', 'close_MAX_1H_5', 'close_MAX_1H_60', 'close_MEDIAN_15Min_20', 'close_MEDIAN_15Min_5', 'close_MEDIAN_15Min_60', 'close_MEDIAN_1D_20', 'close_MEDIAN_1D_5', 'close_MEDIAN_1D_60', 'close_MEDIAN_1H_20', 'close_MEDIAN_1H_5', 'close_MEDIAN_1H_60', 'close_MIN_15Min_20', 'close_MIN_15Min_5', 'close_MIN_15Min_60', 'close_MIN_1D_20', 'close_MIN_1D_5', 'close_MIN_1D_60', 'close_MIN_1H_20', 'close_MIN_1H_5', 'close_MIN_1H_60', 'close_STDEV_15Min_20', 'close_STDEV_15Min_5', 'close_STDEV_15Min_60', 'close_STDEV_1D_20', 'close_STDEV_1D_5', 'close_STDEV_1D_60', 'close_STDEV_1H_20', 'close_STDEV_1H_5', 'close_STDEV_1H_60', 'ewm_1D_20_4_1', 'ewm_1D_20_4_2', 'ewm_1D_20_4_3', 'ewm_1D_20_4_4', 'ewm_1D_60_3_1', 'ewm_1D_60_3_2', 'ewm_1D_60_3_3', 'ewm_4H_20_4_1', 'ewm_4H_20_4_2', 'ewm_4H_20_4_3', 'ewm_4H_20_4_4', 'fa_0', 'fa_1', 'fa_10', 'fa_11', 'fa_12', 'fa_13', 'fa_14', 'fa_15', 'fa_16', 'fa_17', 'fa_18', 'fa_19', 'fa_2', 'fa_20', 'fa_21', 'fa_3', 'fa_4', 'fa_5', 'fa_6', 'fa_7', 'fa_8', 'fa_9', 'pca_0', 'pca_1', 'pca_10', 'pca_11', 'pca_12', 'pca_13', 'pca_14', 'pca_15', 'pca_16', 'pca_17', 'pca_18', 'pca_19', 'pca_2', 'pca_20', 'pca_21', 'pca_22', 'pca_23', 'pca_24', 'pca_25', 'pca_26', 'pca_27', 'pca_28', 'pca_29', 'pca_3', 'pca_30', 'pca_31', 'pca_32', 'pca_33', 'pca_34', 'pca_35', 'pca_36', 'pca_37', 'pca_38', 'pca_4', 'pca_40', 'pca_41', 'pca_42', 'pca_43', 'pca_44', 'pca_45', 'pca_46', 'pca_47', 'pca_48', 'pca_49', 'pca_5', 'pca_50', 'pca_51', 'pca_52', 'pca_53', 'pca_54', 'pca_55', 'pca_56', 'pca_57', 'pca_58', 'pca_59', 'pca_6', 'pca_60', 'pca_61', 'pca_62', 'pca_63', 'pca_64', 'pca_65', 'pca_66', 'pca_67', 'pca_68', 'pca_69', 'pca_7', 'pca_71', 'pca_72', 'pca_75', 'pca_8', 'pca_9', 'rolling_1D_20_4_1', 'rolling_1D_20_4_2', 'rolling_1D_20_4_3', 'rolling_1D_20_4_4', 'rolling_1D_60_20_4_1', 'rolling_1D_60_20_4_2', 'rolling_1D_60_20_4_3', 'rolling_1D_60_20_4_4', 'rolling_1D_60_3_1', 'rolling_1D_60_3_2', 'rolling_1D_60_3_3', 'rolling_4H_20_4_1', 'rolling_4H_20_4_2', 'rolling_4H_20_4_3', 'rolling_4H_20_4_4', 'rolling_4H_60_20_4_1', 'rolling_4H_60_20_4_2', 'rolling_4H_60_20_4_3', 'rolling_4H_60_20_4_4']\n",
      "170\n"
     ]
    }
   ],
   "source": [
    "print(final_selection)\n",
    "print(len(final_selection))\n",
    "\n"
   ]
  },
  {
   "cell_type": "code",
   "execution_count": 7,
   "id": "068ffae1",
   "metadata": {},
   "outputs": [
    {
     "name": "stdout",
     "output_type": "stream",
     "text": [
      "['MeanPrice', 'close_AVG_15Min_20', 'close_AVG_15Min_5', 'close_AVG_15Min_60', 'close_AVG_1D_20', 'close_AVG_1D_5', 'close_AVG_1D_60', 'close_AVG_1H_20', 'close_AVG_1H_5', 'close_AVG_1H_60', 'close_MAX_15Min_20', 'close_MAX_15Min_5', 'close_MAX_15Min_60', 'close_MAX_1D_20', 'close_MAX_1D_5', 'close_MAX_1D_60', 'close_MAX_1H_20', 'close_MAX_1H_5', 'close_MAX_1H_60', 'close_MEDIAN_15Min_20', 'close_MEDIAN_15Min_5', 'close_MEDIAN_15Min_60', 'close_MEDIAN_1D_20', 'close_MEDIAN_1D_5', 'close_MEDIAN_1D_60', 'close_MEDIAN_1H_20', 'close_MEDIAN_1H_5', 'close_MEDIAN_1H_60', 'close_MIN_15Min_20', 'close_MIN_15Min_5', 'close_MIN_15Min_60', 'close_MIN_1D_20', 'close_MIN_1D_5', 'close_MIN_1D_60', 'close_MIN_1H_20', 'close_MIN_1H_5', 'close_MIN_1H_60', 'close_STDEV_15Min_20', 'close_STDEV_15Min_5', 'close_STDEV_15Min_60', 'close_STDEV_1D_20', 'close_STDEV_1D_5', 'close_STDEV_1D_60', 'close_STDEV_1H_20', 'close_STDEV_1H_5', 'close_STDEV_1H_60', 'ewm_1D_20_4_1', 'ewm_1D_20_4_2', 'ewm_1D_20_4_3', 'ewm_1D_20_4_4', 'ewm_1D_60_3_1', 'ewm_1D_60_3_2', 'ewm_1D_60_3_3', 'ewm_4H_20_4_1', 'ewm_4H_20_4_2', 'ewm_4H_20_4_3', 'ewm_4H_20_4_4', 'fa_0', 'fa_1', 'fa_10', 'fa_11', 'fa_12', 'fa_13', 'fa_14', 'fa_15', 'fa_16', 'fa_17', 'fa_18', 'fa_19', 'fa_2', 'fa_20', 'fa_21', 'fa_3', 'fa_4', 'fa_5', 'fa_6', 'fa_7', 'fa_8', 'fa_9', 'pca_0', 'pca_1', 'pca_10', 'pca_11', 'pca_12', 'pca_13', 'pca_14', 'pca_15', 'pca_16', 'pca_17', 'pca_18', 'pca_19', 'pca_2', 'pca_20', 'pca_21', 'pca_22', 'pca_23', 'pca_24', 'pca_25', 'pca_26', 'pca_27', 'pca_28', 'pca_29', 'pca_3', 'pca_30', 'pca_31', 'pca_32', 'pca_33', 'pca_34', 'pca_35', 'pca_36', 'pca_37', 'pca_38', 'pca_4', 'pca_40', 'pca_41', 'pca_42', 'pca_43', 'pca_44', 'pca_45', 'pca_46', 'pca_47', 'pca_48', 'pca_49', 'pca_5', 'pca_50', 'pca_51', 'pca_52', 'pca_53', 'pca_54', 'pca_55', 'pca_56', 'pca_57', 'pca_58', 'pca_59', 'pca_6', 'pca_60', 'pca_61', 'pca_62', 'pca_63', 'pca_64', 'pca_65', 'pca_66', 'pca_67', 'pca_68', 'pca_69', 'pca_7', 'pca_71', 'pca_72', 'pca_75', 'pca_8', 'pca_9', 'rolling_1D_20_4_1', 'rolling_1D_20_4_2', 'rolling_1D_20_4_3', 'rolling_1D_20_4_4', 'rolling_1D_60_20_4_1', 'rolling_1D_60_20_4_2', 'rolling_1D_60_20_4_3', 'rolling_1D_60_20_4_4', 'rolling_1D_60_3_1', 'rolling_1D_60_3_2', 'rolling_1D_60_3_3', 'rolling_4H_20_4_1', 'rolling_4H_20_4_2', 'rolling_4H_20_4_3', 'rolling_4H_20_4_4', 'rolling_4H_60_20_4_1', 'rolling_4H_60_20_4_2', 'rolling_4H_60_20_4_3', 'rolling_4H_60_20_4_4']\n",
      "170\n"
     ]
    }
   ],
   "source": [
    "print(final_selection)\n",
    "print(len(final_selection))\n",
    "\n",
    "with open(os.path.join(temp_save_dir, 'selected_feats-6.pickle'), 'wb') as f:\n",
    "    pickle.dump(final_selection, f)\n",
    "    \n",
    "    \n",
    "    "
   ]
  },
  {
   "cell_type": "code",
   "execution_count": 7,
   "id": "7fab809f",
   "metadata": {},
   "outputs": [],
   "source": [
    "X_train_2 = read_parquet(temp_save_dir, 'X_train.parquet')"
   ]
  },
  {
   "cell_type": "code",
   "execution_count": 9,
   "id": "4b2021e7",
   "metadata": {},
   "outputs": [
    {
     "data": {
      "text/plain": [
       "<AxesSubplot:xlabel='DateTime'>"
      ]
     },
     "execution_count": 9,
     "metadata": {},
     "output_type": "execute_result"
    },
    {
     "data": {
      "image/png": "[encoded data removed]",
      "text/plain": [
       "<Figure size 640x480 with 1 Axes>"
      ]
     },
     "metadata": {},
     "output_type": "display_data"
    }
   ],
   "source": [
    "X_train_2[['fa_10']][::100].plot()"
   ]
  }
 ],
 "metadata": {
  "kernelspec": {
   "display_name": "Python 3 (ipykernel)",
   "language": "python",
   "name": "python3"
  },
  "language_info": {
   "codemirror_mode": {
    "name": "ipython",
    "version": 3
   },
   "file_extension": ".py",
   "mimetype": "text/x-python",
   "name": "python",
   "nbconvert_exporter": "python",
   "pygments_lexer": "ipython3",
   "version": "3.9.13"
  }
 },
 "nbformat": 4,
 "nbformat_minor": 5
}
