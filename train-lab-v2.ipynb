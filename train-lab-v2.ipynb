{
 "cells": [
  {
   "cell_type": "code",
   "execution_count": 6,
   "id": "26f6326e",
   "metadata": {},
   "outputs": [],
   "source": [
    "import os\n",
    "import pickle\n",
    "\n",
    "\n",
    "\n",
    "root_dir = '/home/dcai/data/features'\n",
    "instrument='EURCHF'\n",
    "feature_set=\"2\"\n",
    "\n",
    "\n",
    "\n",
    "temp_save_dir=\"{}/{}\".format(root_dir,instrument)\n",
    "\n",
    "\n",
    "\n",
    "\n",
    "with open(os.path.join(temp_save_dir, 'selected_feats-3.pickle'), 'rb') as f:\n",
    "    final_selection_3 = pickle.load(f)\n",
    "    \n",
    "    \n",
    "with open(os.path.join(temp_save_dir, 'selected_feats-4.pickle'), 'rb') as f:\n",
    "    final_selection_4 = pickle.load(f)\n",
    "    \n",
    "    \n",
    "with open(os.path.join(temp_save_dir, 'selected_feats-5.pickle'), 'rb') as f:\n",
    "    final_selection_5 = pickle.load(f)\n",
    "    "
   ]
  },
  {
   "cell_type": "code",
   "execution_count": 10,
   "id": "0ba3fd59",
   "metadata": {},
   "outputs": [
    {
     "name": "stdout",
     "output_type": "stream",
     "text": [
      "['pca_50', 'fa_0_gmm_dev_22', 'pca_62', 'fa_3', 'close_MAX_1H_20', 'close_AVG_1H_60_gmm_dev_15', 'pca_33', 'ewm_4H_20_4_4', 'MeanPrice_x_gmm_dev_5', 'pca_16', 'pca_9', 'close_AVG_1D_20', 'pca_35', 'rolling_4H_60_20_4_4', 'fa_8', 'pca_27', 'pca_8', 'pca_8_gmm_dev_5', 'fa_9', 'fa_0_gmm_dev_30', 'pca_7_gmm_dev_3', 'fa_11_gmm_dev_11', 'pca_21', 'fa_7', 'close_AVG_1H_60_gmm_dev_10', 'pca_7_gmm_dev_9', 'pca_5', 'close_MAX_1D_60_gmm_dev_29', 'close_STDEV_1D_20', 'close_MAX_1D_60', 'pca_43', 'pca_1', 'rolling_4H_20_4_4', 'ewm_1D_20_4_1', 'pca_10', 'pca_29', 'close_MEDIAN_1H_5', 'pca_13', 'pca_26', 'close_AVG_1H_60_gmm_dev_0', 'pca_57', 'pca_1_gmm_dev_2', 'pca_10_gmm_dev_15', 'pca_24', 'close_MIN_1D_60', 'fa_4', 'rolling_4H_20_4_1', 'pca_40', 'pca_31', 'close_AVG_1H_60', 'pca_39', 'pca_3', 'pca_42', 'pca_12', 'close_MAX_1H_5', 'fa_12', 'close_MEDIAN_1D_20', 'close_STDEV_1H_5', 'pca_55', 'close_STDEV_1H_20', 'pca_22', 'pca_15', 'close_MEDIAN_1D_5', 'pca_0_gmm_dev_2', 'pca_41', 'pca_17', 'MeanPrice_x_gmm_dev_13', 'fa_11_gmm_dev_9', 'fa_6', 'close_STDEV_1D_60_gmm_dev_3', 'close_MAX_1D_60_gmm_dev_27', 'rolling_1D_60_3_2', 'fa_5', 'close_AVG_1D_60', 'fa_10_gmm_dev_23', 'pca_7_gmm_dev_0', 'fa_11_gmm_dev_21', 'fa_1_gmm_dev_11', 'pca_20', 'pca_25', 'rolling_4H_60_20_4_2', 'pca_32', 'close_STDEV_1D_5', 'fa_12_gmm_dev_18', 'pca_2_gmm_dev_29', 'close_STDEV_1H_60', 'rolling_1D_20_4_1', 'pca_54', 'close_MEDIAN_1H_60', 'ewm_4H_20_4_3', 'fa_2', 'close_MIN_1H_60_gmm_dev_5', 'pca_11', 'pca_14', 'fa_1', 'pca_45', 'close_MEDIAN_1H_20', 'pca_1_gmm_dev_0', 'pca_0_gmm_dev_1', 'close_MEDIAN_1D_60', 'pca_23', 'pca_44', 'fa_11', 'close_MIN_1H_20', 'pca_36', 'pca_61', 'rolling_1D_60_20_4_4', 'fa_10_gmm_dev_22', 'fa_11_gmm_dev_27', 'pca_6', 'close_MAX_1D_5', 'pca_28', 'close_STDEV_1D_60_gmm_dev_2', 'close_MIN_1H_60', 'pca_3_gmm_dev_8', 'pca_46', 'pca_56', 'fa_1_gmm_dev_27', 'fa_2_gmm_dev_0', 'pca_7', 'pca_30', 'fa_2_gmm_dev_26', 'pca_0', 'pca_2', 'close_MAX_1D_60_gmm_dev_20', 'fa_12_gmm_dev_28', 'pca_48', 'close_MAX_1D_20', 'pca_37', 'close_MAX_1H_60', 'rolling_4H_60_20_4_1', 'close_AVG_1H_20', 'close_MIN_1D_5', 'pca_34', 'London', 'pca_60', 'rolling_1D_60_20_4_3', 'close_STDEV_1D_60', 'fa_13', 'pca_49', 'MeanPrice_x', 'pca_2_gmm_dev_12', 'pca_53', 'ewm_4H_20_4_1', 'rolling_1D_60_20_4_2', 'fa_2_gmm_dev_23', 'pca_4', 'pca_51', 'close_AVG_1H_5', 'close_AVG_1D_5', 'pca_58', 'pca_47', 'close_MAX_1D_60_gmm_dev_15', 'pca_52', 'pca_1_gmm_dev_3', 'close_MAX_1D_60_gmm_dev_16', 'fa_2_gmm_dev_20', 'MeanPrice_x_gmm_dev_7', 'ewm_1D_20_4_4', 'pca_2_gmm_dev_0', 'fa_0', 'close_MIN_1H_5', 'pca_19', 'fa_10', 'fa_0_gmm_dev_21', 'rolling_4H_20_4_3', 'pca_38', 'fa_2_gmm_dev_21', 'pca_10_gmm_dev_5', 'close_AVG_1H_60_gmm_dev_23', 'rolling_4H_60_20_4_3', 'close_MIN_1D_20', 'pca_18']\n",
      "173\n"
     ]
    }
   ],
   "source": [
    "\n",
    "\n",
    "result = list(set(final_selection_3+final_selection_4+final_selection_5))\n",
    "\n",
    "print(result)\n",
    "\n",
    "print(len(result))"
   ]
  }
 ],
 "metadata": {
  "kernelspec": {
   "display_name": "Python 3 (ipykernel)",
   "language": "python",
   "name": "python3"
  },
  "language_info": {
   "codemirror_mode": {
    "name": "ipython",
    "version": 3
   },
   "file_extension": ".py",
   "mimetype": "text/x-python",
   "name": "python",
   "nbconvert_exporter": "python",
   "pygments_lexer": "ipython3",
   "version": "3.9.13"
  }
 },
 "nbformat": 4,
 "nbformat_minor": 5
}
