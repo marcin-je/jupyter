{
 "cells": [
  {
   "cell_type": "markdown",
   "id": "ba2e394e",
   "metadata": {},
   "source": [
    "0. Load all data\n",
    "1. Define numerics column\n",
    "2. Load PCA and FA from pickle\n",
    "3. Run PCA and FA over numerics\n",
    "4. Append to existing DF\n",
    "5. Run GMM over selected columns and add only pre-selected columns\n",
    "6. Cross-check columns in DF with selected ones\n",
    "7. Remove extra columns\n",
    "8. Split into train, test, validate\n",
    "9. May need to run stratify for fold creation"
   ]
  },
  {
   "cell_type": "code",
   "execution_count": 1,
   "id": "08550b81",
   "metadata": {},
   "outputs": [],
   "source": [
    "from datetime import date, timedelta\n",
    "\n",
    "from featureeng.times import get_trading_times_for_london_ny\n",
    "from featureeng.features import *\n",
    "import featureeng as feng\n",
    "import data.readers as rd\n",
    "import joblib\n",
    "\n",
    "\n",
    "import matplotlib.pyplot as plt\n",
    "\n",
    "import multiprocessing\n",
    "import time\n",
    "import threading\n",
    "import json\n",
    "import os\n",
    "\n",
    "import pyarrow as pa\n",
    "import pyarrow.parquet as pq\n",
    "\n",
    "# Importing core libraries\n",
    "import numpy as np\n",
    "import pandas as pd\n",
    "from time import time\n",
    "import pprint\n",
    "import joblib\n",
    "from functools import partial\n",
    "\n",
    "# Suppressing warnings because of skopt verbosity\n",
    "import warnings\n",
    "warnings.filterwarnings(\"ignore\")\n",
    "\n",
    "# Classifier/Regressor\n",
    "from xgboost import XGBClassifier\n",
    "\n",
    "# Feature selection\n",
    "from BorutaShap import BorutaShap\n",
    "\n",
    "# Data processing\n",
    "from sklearn.preprocessing import OrdinalEncoder\n",
    "from sklearn.cluster import KMeans\n",
    "from sklearn.decomposition import PCA, FactorAnalysis\n",
    "from sklearn.mixture import GaussianMixture\n",
    "\n",
    "import pickle\n",
    "# Validation\n",
    "from sklearn.model_selection import StratifiedKFold\n",
    "\n",
    "#helper functions\n",
    "from datetime import date, timedelta\n",
    "\n",
    "from featureeng.times import get_trading_times_for_london_ny\n",
    "from featureeng.features import *\n",
    "import featureeng as feng\n",
    "import data.readers as rd\n",
    "\n",
    "import multiprocessing\n",
    "import time\n",
    "import threading\n",
    "import json\n",
    "import os\n",
    "\n",
    "import pyarrow as pa\n",
    "import pyarrow.parquet as pq\n",
    "\n",
    "# Importing core libraries\n",
    "import numpy as np\n",
    "import pandas as pd\n",
    "from time import time\n",
    "import pprint\n",
    "import joblib\n",
    "from functools import partial\n",
    "\n",
    "# Suppressing warnings because of skopt verbosity\n",
    "import warnings\n",
    "warnings.filterwarnings(\"ignore\")\n",
    "\n",
    "# Classifier/Regressor\n",
    "from xgboost import XGBClassifier\n",
    "\n",
    "# Feature selection\n",
    "from BorutaShap import BorutaShap\n",
    "\n",
    "# Data processing\n",
    "from sklearn.preprocessing import OrdinalEncoder\n",
    "from sklearn.cluster import KMeans\n",
    "from sklearn.decomposition import PCA, FactorAnalysis\n",
    "from sklearn.mixture import GaussianMixture\n",
    "\n",
    "import pickle\n",
    "# Validation\n",
    "from sklearn.model_selection import StratifiedKFold\n",
    "\n",
    "root_dir = '/home/dcai/data/features'\n",
    "instrument='EURCHF'\n",
    "feature_set=\"4\"\n",
    "\n",
    "\n",
    "\n",
    "temp_save_dir=\"{}/{}\".format(root_dir,instrument)\n",
    "\n",
    "def save_df(save_dir, df, name):\n",
    "    if not os.path.exists(save_dir):\n",
    "        os.mkdir(save_dir)\n",
    "    pq.write_table(pa.Table.from_pandas(df), os.path.join(save_dir, name))\n",
    "\n",
    "\n",
    "temp_save_dir=\"{}/{}\".format(root_dir,instrument)\n",
    "def read_parquet(save_dir, name):\n",
    "    return pq.ParquetFile(os.path.join(save_dir, name)).read().to_pandas()\n",
    "\n",
    "\n",
    "\n",
    "def list_of_files(root_dir):\n",
    "    filenames = []\n",
    "    for root, dirs, files in os.walk(root_dir):\n",
    "        for file in files:\n",
    "            # Check if the file is a CSV file\n",
    "            if file.endswith('.parquet'):\n",
    "                filenames.append(os.path.join(root, file))\n",
    "    return filenames\n",
    "\n",
    "def read_in_files(file_list):\n",
    "    dfs = []\n",
    "    for f in file_list:\n",
    "        dfs.append(pq.ParquetFile(f).read().to_pandas())\n",
    "    return pd.concat(dfs).sort_index()\n",
    "\n",
    "def train_valid_test(instrument, feature_set, root_dir='/home/dcai/data/features',  train_size=0.75):\n",
    "    files = list_of_files(\"{}/{}/{}\".format(root_dir,instrument, feature_set))\n",
    "    files.sort()\n",
    "\n",
    "    train_index = int(len(files)*train_size)\n",
    "    train = files[0:train_index]\n",
    "    valid_test = files[train_index:]\n",
    "\n",
    "\n",
    "    valid = valid_test[0::2]\n",
    "    test = valid_test[1::2]\n",
    "\n",
    "    return {'train': read_in_files(train),\n",
    "            'valid': read_in_files(valid),\n",
    "            'test': read_in_files(test)\n",
    "           }\n",
    "\n",
    "def extract_features_from_gmm_cols(gmm_cols):\n",
    "    result = [splits[0] for string in gmm_cols for splits in [string.split(\"_gmm_\")] if len(splits) > 1]\n",
    "    return list(set(result))\n",
    "\n",
    "\n",
    "root_dir = '/home/dcai/data/features'\n",
    "instrument='EURCHF'\n",
    "\n",
    "\n",
    "\n",
    "\n",
    "\n",
    "temp_save_dir=\"{}/{}\".format(root_dir,instrument)\n",
    "\n",
    "def save_df(save_dir, df, name):\n",
    "    if not os.path.exists(save_dir):\n",
    "        os.mkdir(save_dir)\n",
    "    pq.write_table(pa.Table.from_pandas(df), os.path.join(save_dir, name))\n",
    "\n",
    "\n",
    "\n",
    "def read_parquet(save_dir, name):\n",
    "    return pq.ParquetFile(os.path.join(save_dir, name)).read().to_pandas()\n",
    "    \n",
    "\n",
    "\n",
    "#allow logloss and classification error plots for each iteraetion of xgb model\n",
    "def plot_compare(metrics,eval_results,epochs):\n",
    "    for m in metrics:\n",
    "        test_score = eval_results['val'][m]\n",
    "        train_score = eval_results['train'][m]\n",
    "        rang = range(0, epochs)\n",
    "        plt.rcParams[\"figure.figsize\"] = [6,6]\n",
    "        plt.plot(rang, test_score,\"c\", label=\"Val\")\n",
    "        plt.plot(rang, train_score,\"orange\", label=\"Train\")\n",
    "        title_name = m + \" plot\"\n",
    "        plt.title(title_name)\n",
    "        plt.xlabel('Iterations')\n",
    "        plt.ylabel(m)\n",
    "        lgd = plt.legend()\n",
    "        plt.show()    \n",
    "    \n",
    "    \n",
    "def read_pickle(path, file_name):\n",
    "    with open(os.path.join(path, file_name), 'rb') as f:\n",
    "        return pickle.load(f)\n",
    "#pre_selected_cols = ['MeanPrice_x', 'close_MIN_1D_5', 'close_MIN_1D_20', 'close_MIN_1D_60', 'close_MAX_1D_5', 'close_MAX_1D_20', 'close_MAX_1D_60', 'close_AVG_1D_5', 'close_AVG_1D_20', 'close_AVG_1D_60', 'close_STDEV_1D_5', 'close_STDEV_1D_20', 'close_STDEV_1D_60', 'close_MEDIAN_1D_5', 'close_MEDIAN_1D_20', 'close_MEDIAN_1D_60', 'close_MIN_1H_5', 'close_MIN_1H_20', 'close_MIN_1H_60', 'close_MAX_1H_5', 'close_MAX_1H_20', 'close_MAX_1H_60', 'close_AVG_1H_5', 'close_AVG_1H_20', 'close_AVG_1H_60', 'close_STDEV_1H_5', 'close_STDEV_1H_20', 'close_STDEV_1H_60', 'close_MEDIAN_1H_5', 'close_MEDIAN_1H_20', 'close_MEDIAN_1H_60', 'London', 'NY', 'rolling_1D_60_3_1', 'rolling_1D_60_3_2', 'rolling_1D_60_3_3', 'ewm_1D_60_3_1', 'ewm_1D_60_3_2', 'ewm_1D_60_3_3', 'rolling_1D_20_4_1', 'rolling_1D_20_4_2', 'rolling_1D_20_4_3', 'rolling_1D_20_4_4', 'ewm_1D_20_4_1', 'ewm_1D_20_4_2', 'ewm_1D_20_4_3', 'ewm_1D_20_4_4', 'rolling_4H_20_4_1', 'rolling_4H_20_4_2', 'rolling_4H_20_4_3', 'rolling_4H_20_4_4', 'ewm_4H_20_4_1', 'ewm_4H_20_4_2', 'ewm_4H_20_4_3', 'ewm_4H_20_4_4', 'rolling_1D_60_20_4_1', 'rolling_1D_60_20_4_2', 'rolling_1D_60_20_4_3', 'rolling_1D_60_20_4_4', 'rolling_4H_60_20_4_1', 'rolling_4H_60_20_4_2', 'rolling_4H_60_20_4_3', 'rolling_4H_60_20_4_4', 'MeanPrice_y', 'EUR', 'CHF', 'USD', 'GBP', 'fa_0', 'fa_1', 'fa_2', 'fa_3', 'fa_4', 'fa_5', 'fa_6', 'fa_7', 'fa_8', 'fa_9', 'fa_10', 'fa_11', 'fa_12', 'fa_13', 'fa_14', 'fa_15', 'fa_16', 'fa_17', 'fa_18', 'fa_19', 'fa_20', 'fa_21', 'fa_22', 'fa_23', 'fa_24', 'fa_25', 'fa_26', 'fa_27', 'fa_28', 'fa_29', 'fa_30', 'fa_31', 'fa_32', 'fa_33', 'fa_34', 'fa_35', 'fa_36', 'fa_37', 'fa_38', 'fa_39', 'fa_40', 'fa_41', 'fa_42', 'fa_43', 'fa_44', 'fa_45', 'fa_46', 'fa_47', 'fa_48', 'fa_49', 'fa_50', 'fa_51', 'fa_52', 'fa_53', 'fa_54', 'fa_55', 'fa_56', 'fa_57', 'fa_58', 'fa_59', 'fa_60', 'fa_61', 'fa_62', 'fa_63', 'pca_0', 'pca_1', 'pca_2', 'pca_3', 'pca_4', 'pca_5', 'pca_6', 'pca_7', 'pca_8', 'pca_9', 'pca_10', 'pca_11', 'pca_12', 'pca_13', 'pca_14', 'pca_15', 'pca_16', 'pca_17', 'pca_18', 'pca_19', 'pca_20', 'pca_21', 'pca_22', 'pca_23', 'pca_24', 'pca_25', 'pca_26', 'pca_27', 'pca_28', 'pca_29', 'pca_30', 'pca_31', 'pca_32', 'pca_33', 'pca_34', 'pca_35', 'pca_36', 'pca_37', 'pca_38', 'pca_39', 'pca_40', 'pca_41', 'pca_42', 'pca_43', 'pca_44', 'pca_45', 'pca_46', 'pca_47', 'pca_48', 'pca_49', 'pca_50', 'pca_51', 'pca_52', 'pca_53', 'pca_54', 'pca_55', 'pca_56', 'pca_57', 'pca_58', 'pca_59', 'pca_60', 'pca_61', 'pca_62', 'pca_63']\n",
    "#X_train = read_parquet(temp_save_dir, 'X_train.parquet')#[pre_selected_cols]\n",
    "#Y_train = read_parquet(temp_save_dir, 'Y_train.parquet')"
   ]
  },
  {
   "cell_type": "code",
   "execution_count": null,
   "id": "031e2c7f",
   "metadata": {},
   "outputs": [],
   "source": []
  },
  {
   "cell_type": "raw",
   "id": "65510b50",
   "metadata": {},
   "source": []
  },
  {
   "cell_type": "code",
   "execution_count": 2,
   "id": "c3d5677e",
   "metadata": {},
   "outputs": [
    {
     "name": "stdout",
     "output_type": "stream",
     "text": [
      "/home/dcai/data/features/EURCHF/fa.pickle\n"
     ]
    }
   ],
   "source": [
    "print(os.path.join(temp_save_dir, 'fa.pickle'))\n",
    "\n",
    "with open(os.path.join(temp_save_dir, 'fa.pickle'), 'rb') as f:\n",
    "    fa = pickle.load(f)\n",
    "    \n",
    "with open(os.path.join(temp_save_dir, 'pca.pickle'), 'rb') as f:\n",
    "    pca = pickle.load(f)\n",
    "    \n",
    "with open(os.path.join(temp_save_dir, 'km.pickle'), 'rb') as f:\n",
    "    km = pickle.load(f)\n",
    "    \n",
    "with open(os.path.join(temp_save_dir, 'y_stratified.pickle'), 'rb') as f:\n",
    "    y_stratified = pickle.load(f)\n",
    "\n",
    "with open(os.path.join(temp_save_dir, 'selected_feats-6.pickle'), 'rb') as f:\n",
    "    selected_feats = pickle.load(f)"
   ]
  },
  {
   "cell_type": "code",
   "execution_count": null,
   "id": "51f041cc",
   "metadata": {},
   "outputs": [],
   "source": [
    "#print(X_train.columns.values)"
   ]
  },
  {
   "cell_type": "markdown",
   "id": "c30bc7ff",
   "metadata": {},
   "source": [
    "0. Load all data"
   ]
  },
  {
   "cell_type": "code",
   "execution_count": 3,
   "id": "8e873180",
   "metadata": {},
   "outputs": [
    {
     "name": "stdout",
     "output_type": "stream",
     "text": [
      "Execution time: 8.189 seconds\n"
     ]
    }
   ],
   "source": [
    "\n",
    "\n",
    "start_time = time()    \n",
    "result = train_valid_test(instrument=instrument, feature_set=feature_set)\n",
    "end_time = time()\n",
    "print(f'Execution time: {end_time - start_time:.3f} seconds')"
   ]
  },
  {
   "cell_type": "markdown",
   "id": "ada14d79",
   "metadata": {},
   "source": [
    "1. Define numerics column"
   ]
  },
  {
   "cell_type": "code",
   "execution_count": 120,
   "id": "56d3a5d0",
   "metadata": {},
   "outputs": [],
   "source": [
    "\n",
    "\n",
    "numerics = ['MeanPrice', 'close_MIN_1D_5', 'close_MIN_1D_20',\n",
    "       'close_MIN_1D_60', 'close_MAX_1D_5', 'close_MAX_1D_20',\n",
    "       'close_MAX_1D_60', 'close_AVG_1D_5', 'close_AVG_1D_20',\n",
    "       'close_AVG_1D_60', 'close_STDEV_1D_5', 'close_STDEV_1D_20',\n",
    "       'close_STDEV_1D_60', 'close_MEDIAN_1D_5', 'close_MEDIAN_1D_20',\n",
    "       'close_MEDIAN_1D_60', 'close_MIN_1H_5', 'close_MIN_1H_20',\n",
    "       'close_MIN_1H_60', 'close_MAX_1H_5', 'close_MAX_1H_20',\n",
    "       'close_MAX_1H_60', 'close_AVG_1H_5', 'close_AVG_1H_20',\n",
    "       'close_AVG_1H_60', 'close_STDEV_1H_5', 'close_STDEV_1H_20',\n",
    "       'close_STDEV_1H_60', 'close_MEDIAN_1H_5', 'close_MEDIAN_1H_20',\n",
    "       'close_MEDIAN_1H_60', 'close_MIN_15Min_5', 'close_MIN_15Min_20',\n",
    "       'close_MIN_15Min_60', 'close_MAX_15Min_5', 'close_MAX_15Min_20',\n",
    "       'close_MAX_15Min_60', 'close_AVG_15Min_5', 'close_AVG_15Min_20',\n",
    "       'close_AVG_15Min_60', 'close_STDEV_15Min_5',\n",
    "       'close_STDEV_15Min_20', 'close_STDEV_15Min_60',\n",
    "       'close_MEDIAN_15Min_5', 'close_MEDIAN_15Min_20',\n",
    "       'close_MEDIAN_15Min_60', 'rolling_1D_60_3_1',\n",
    "       'rolling_1D_60_3_2', 'rolling_1D_60_3_3', 'ewm_1D_60_3_1',\n",
    "       'ewm_1D_60_3_2', 'ewm_1D_60_3_3', 'rolling_1D_20_4_1',\n",
    "       'rolling_1D_20_4_2', 'rolling_1D_20_4_3', 'rolling_1D_20_4_4',\n",
    "       'ewm_1D_20_4_1', 'ewm_1D_20_4_2', 'ewm_1D_20_4_3', 'ewm_1D_20_4_4',\n",
    "       'rolling_4H_20_4_1', 'rolling_4H_20_4_2', 'rolling_4H_20_4_3',\n",
    "       'rolling_4H_20_4_4', 'ewm_4H_20_4_1', 'ewm_4H_20_4_2',\n",
    "       'ewm_4H_20_4_3', 'ewm_4H_20_4_4', 'rolling_1D_60_20_4_1',\n",
    "       'rolling_1D_60_20_4_2', 'rolling_1D_60_20_4_3',\n",
    "       'rolling_1D_60_20_4_4', 'rolling_4H_60_20_4_1',\n",
    "       'rolling_4H_60_20_4_2', 'rolling_4H_60_20_4_3',\n",
    "       'rolling_4H_60_20_4_4']\n",
    "\n",
    "\n",
    "labels = [ 'label_180_5_buy', 'label_180_5_sell', 'label_180_5_stay']\n",
    "\n"
   ]
  },
  {
   "cell_type": "markdown",
   "id": "70ab8091",
   "metadata": {},
   "source": [
    "2. Load PCA and FA from pickle"
   ]
  },
  {
   "cell_type": "code",
   "execution_count": 4,
   "id": "171c6030",
   "metadata": {},
   "outputs": [
    {
     "name": "stdout",
     "output_type": "stream",
     "text": [
      "/home/dcai/data/features/EURCHF/fa.pickle\n"
     ]
    }
   ],
   "source": [
    "import pickle\n",
    "\n",
    "temp_save_dir=\"{}/{}\".format(root_dir,instrument)\n",
    "\n",
    "print(os.path.join(temp_save_dir, 'fa.pickle'))\n",
    "\n",
    "with open(os.path.join(temp_save_dir, 'fa.pickle'), 'rb') as f:\n",
    "    fa = pickle.load(f)\n",
    "    \n",
    "with open(os.path.join(temp_save_dir, 'pca.pickle'), 'rb') as f:\n",
    "    pca = pickle.load(f)\n",
    "    \n",
    "with open(os.path.join(temp_save_dir, 'km.pickle'), 'rb') as f:\n",
    "    km = pickle.load(f)\n",
    "    \n",
    "    "
   ]
  },
  {
   "cell_type": "markdown",
   "id": "752644b4",
   "metadata": {},
   "source": [
    "3. Run PCA and FA over numerics"
   ]
  },
  {
   "cell_type": "code",
   "execution_count": 7,
   "id": "67f088c7",
   "metadata": {},
   "outputs": [],
   "source": [
    "extra_feats = []\n",
    "\n",
    "\n",
    "\n",
    "\n",
    "\n",
    "fa_feats = [f'fa_{i}'for i in range(len(numerics))]#[:4]\n",
    "\n",
    "result['train'][fa_feats] = fa.transform(result['train'][numerics])\n",
    "result['valid'][fa_feats] = fa.transform(result['valid'][numerics])\n",
    "result['test'][fa_feats] = fa.transform(result['test'][numerics])\n",
    "\n",
    "#fa = None"
   ]
  },
  {
   "cell_type": "code",
   "execution_count": 8,
   "id": "f8bb174f",
   "metadata": {},
   "outputs": [],
   "source": [
    "pca_feats = [f'pca_{i}'for i in range(len(numerics))]\n",
    "\n",
    "result['train'][pca_feats] = pca.transform(result['train'][numerics])\n",
    "result['valid'][pca_feats] = pca.transform(result['valid'][numerics])\n",
    "result['test'][pca_feats] = pca.transform(result['test'][numerics])\n",
    "#valid[pca_feats] = pca.transform(valid[numerics])"
   ]
  },
  {
   "cell_type": "markdown",
   "id": "01a9d7be",
   "metadata": {},
   "source": [
    "4. Append to existing DF"
   ]
  },
  {
   "cell_type": "code",
   "execution_count": 12,
   "id": "01f2c795",
   "metadata": {},
   "outputs": [
    {
     "name": "stdout",
     "output_type": "stream",
     "text": [
      "<class 'pandas.core.frame.DataFrame'>\n",
      "DatetimeIndex: 6540376 entries, 2018-04-16 07:00:00.489000 to 2021-10-19 20:59:43.152000\n",
      "Columns: 243 entries, MeanPrice to pca_75\n",
      "dtypes: float64(228), int64(15)\n",
      "memory usage: 11.9 GB\n"
     ]
    },
    {
     "data": {
      "text/plain": [
       "array(['MeanPrice', 'close_MIN_1D_5', 'close_MIN_1D_20',\n",
       "       'close_MIN_1D_60', 'close_MAX_1D_5', 'close_MAX_1D_20',\n",
       "       'close_MAX_1D_60', 'close_AVG_1D_5', 'close_AVG_1D_20',\n",
       "       'close_AVG_1D_60', 'close_STDEV_1D_5', 'close_STDEV_1D_20',\n",
       "       'close_STDEV_1D_60', 'close_MEDIAN_1D_5', 'close_MEDIAN_1D_20',\n",
       "       'close_MEDIAN_1D_60', 'close_MIN_1H_5', 'close_MIN_1H_20',\n",
       "       'close_MIN_1H_60', 'close_MAX_1H_5', 'close_MAX_1H_20',\n",
       "       'close_MAX_1H_60', 'close_AVG_1H_5', 'close_AVG_1H_20',\n",
       "       'close_AVG_1H_60', 'close_STDEV_1H_5', 'close_STDEV_1H_20',\n",
       "       'close_STDEV_1H_60', 'close_MEDIAN_1H_5', 'close_MEDIAN_1H_20',\n",
       "       'close_MEDIAN_1H_60', 'close_MIN_15Min_5', 'close_MIN_15Min_20',\n",
       "       'close_MIN_15Min_60', 'close_MAX_15Min_5', 'close_MAX_15Min_20',\n",
       "       'close_MAX_15Min_60', 'close_AVG_15Min_5', 'close_AVG_15Min_20',\n",
       "       'close_AVG_15Min_60', 'close_STDEV_15Min_5',\n",
       "       'close_STDEV_15Min_20', 'close_STDEV_15Min_60',\n",
       "       'close_MEDIAN_15Min_5', 'close_MEDIAN_15Min_20',\n",
       "       'close_MEDIAN_15Min_60', 'London', 'NY', 'rolling_1D_60_3_1',\n",
       "       'rolling_1D_60_3_2', 'rolling_1D_60_3_3', 'ewm_1D_60_3_1',\n",
       "       'ewm_1D_60_3_2', 'ewm_1D_60_3_3', 'rolling_1D_20_4_1',\n",
       "       'rolling_1D_20_4_2', 'rolling_1D_20_4_3', 'rolling_1D_20_4_4',\n",
       "       'ewm_1D_20_4_1', 'ewm_1D_20_4_2', 'ewm_1D_20_4_3', 'ewm_1D_20_4_4',\n",
       "       'rolling_4H_20_4_1', 'rolling_4H_20_4_2', 'rolling_4H_20_4_3',\n",
       "       'rolling_4H_20_4_4', 'ewm_4H_20_4_1', 'ewm_4H_20_4_2',\n",
       "       'ewm_4H_20_4_3', 'ewm_4H_20_4_4', 'rolling_1D_60_20_4_1',\n",
       "       'rolling_1D_60_20_4_2', 'rolling_1D_60_20_4_3',\n",
       "       'rolling_1D_60_20_4_4', 'rolling_4H_60_20_4_1',\n",
       "       'rolling_4H_60_20_4_2', 'rolling_4H_60_20_4_3',\n",
       "       'rolling_4H_60_20_4_4', 'label_60_5_buy', 'label_60_5_sell',\n",
       "       'label_60_5_stay', 'label_120_5_buy', 'label_120_5_sell',\n",
       "       'label_120_5_stay', 'label_180_5_buy', 'label_180_5_sell',\n",
       "       'label_180_5_stay', 'EUR', 'CHF', 'USD', 'GBP', 'fa_0', 'fa_1',\n",
       "       'fa_2', 'fa_3', 'fa_4', 'fa_5', 'fa_6', 'fa_7', 'fa_8', 'fa_9',\n",
       "       'fa_10', 'fa_11', 'fa_12', 'fa_13', 'fa_14', 'fa_15', 'fa_16',\n",
       "       'fa_17', 'fa_18', 'fa_19', 'fa_20', 'fa_21', 'fa_22', 'fa_23',\n",
       "       'fa_24', 'fa_25', 'fa_26', 'fa_27', 'fa_28', 'fa_29', 'fa_30',\n",
       "       'fa_31', 'fa_32', 'fa_33', 'fa_34', 'fa_35', 'fa_36', 'fa_37',\n",
       "       'fa_38', 'fa_39', 'fa_40', 'fa_41', 'fa_42', 'fa_43', 'fa_44',\n",
       "       'fa_45', 'fa_46', 'fa_47', 'fa_48', 'fa_49', 'fa_50', 'fa_51',\n",
       "       'fa_52', 'fa_53', 'fa_54', 'fa_55', 'fa_56', 'fa_57', 'fa_58',\n",
       "       'fa_59', 'fa_60', 'fa_61', 'fa_62', 'fa_63', 'fa_64', 'fa_65',\n",
       "       'fa_66', 'fa_67', 'fa_68', 'fa_69', 'fa_70', 'fa_71', 'fa_72',\n",
       "       'fa_73', 'fa_74', 'fa_75', 'pca_0', 'pca_1', 'pca_2', 'pca_3',\n",
       "       'pca_4', 'pca_5', 'pca_6', 'pca_7', 'pca_8', 'pca_9', 'pca_10',\n",
       "       'pca_11', 'pca_12', 'pca_13', 'pca_14', 'pca_15', 'pca_16',\n",
       "       'pca_17', 'pca_18', 'pca_19', 'pca_20', 'pca_21', 'pca_22',\n",
       "       'pca_23', 'pca_24', 'pca_25', 'pca_26', 'pca_27', 'pca_28',\n",
       "       'pca_29', 'pca_30', 'pca_31', 'pca_32', 'pca_33', 'pca_34',\n",
       "       'pca_35', 'pca_36', 'pca_37', 'pca_38', 'pca_39', 'pca_40',\n",
       "       'pca_41', 'pca_42', 'pca_43', 'pca_44', 'pca_45', 'pca_46',\n",
       "       'pca_47', 'pca_48', 'pca_49', 'pca_50', 'pca_51', 'pca_52',\n",
       "       'pca_53', 'pca_54', 'pca_55', 'pca_56', 'pca_57', 'pca_58',\n",
       "       'pca_59', 'pca_60', 'pca_61', 'pca_62', 'pca_63', 'pca_64',\n",
       "       'pca_65', 'pca_66', 'pca_67', 'pca_68', 'pca_69', 'pca_70',\n",
       "       'pca_71', 'pca_72', 'pca_73', 'pca_74', 'pca_75'], dtype=object)"
      ]
     },
     "execution_count": 12,
     "metadata": {},
     "output_type": "execute_result"
    }
   ],
   "source": [
    "result['train'].info()\n",
    "result['train'].columns.values"
   ]
  },
  {
   "cell_type": "markdown",
   "id": "3b58a540",
   "metadata": {},
   "source": [
    "5. Run GMM over selected columns and add only pre-selected columns"
   ]
  },
  {
   "cell_type": "code",
   "execution_count": null,
   "id": "79a06435",
   "metadata": {},
   "outputs": [],
   "source": [
    "# gmm feats: gmm_feats\n",
    "# full list: gmm_cols\n",
    "\n",
    "import numpy as np\n",
    "import itertools\n",
    "dists  = [32] #np.arange(8, 20, 4).tolist()\n",
    "print(dists)\n",
    "\n",
    "def gmm_fit(df, dists, gmm_feats, _selected_cols, temp_save_dir):\n",
    "    start_time = time()\n",
    "    for feature, dist in itertools.product(gmm_feats, dists):\n",
    "\n",
    "        pickle_path = os.path.join(temp_save_dir, \"gmm-{}-{}.pickle\".format(feature, dist))\n",
    "\n",
    "        if not os.path.exists(pickle_path):\n",
    "            print(\"file missing; skip {} {}\".format(feature, dist))\n",
    "            raise Exception(\"Missing file\")\n",
    "        \n",
    "        print(\"------------\")\n",
    "        print(\"doing {} {}\".format(feature, dist))\n",
    "\n",
    "        with open(pickle_path, 'rb') as f:\n",
    "            gmm = pickle.load(f)\n",
    "\n",
    "        x = df[[feature]][feature].values.reshape(-1, 1)\n",
    "\n",
    "        clus = pd.get_dummies(gmm.predict(x)).values * x\n",
    "\n",
    "        clus_feats = [f'{feature}_gmm_dev_{i}'for i in range(clus.shape[1])]\n",
    "        clus_feats_to_remove = list(set(clus_feats) - set(_selected_cols))\n",
    "        df[clus_feats] = clus\n",
    "        \n",
    "        print(\"--\")\n",
    "        print(\"Fitted cols: {}\".format(clus_feats))\n",
    "        \n",
    "        print(\"--\")\n",
    "        print(\"Dropping {}\".format(clus_feats_to_remove))\n",
    "        df.drop(columns=clus_feats_to_remove, inplace=True)\n",
    "\n",
    "        clus_feats = None\n",
    "        clus = None\n",
    "\n",
    "    end_time = time()\n",
    "    print(f'Execution time: {end_time - start_time:.3f} seconds')\n",
    "    \n",
    "    return df"
   ]
  },
  {
   "cell_type": "code",
   "execution_count": null,
   "id": "f796c94b",
   "metadata": {},
   "outputs": [],
   "source": [
    "result['train'] = gmm_fit(result['train'], dists, gmm_feats, gmm_cols, temp_save_dir)"
   ]
  },
  {
   "cell_type": "code",
   "execution_count": null,
   "id": "70e3782d",
   "metadata": {},
   "outputs": [],
   "source": [
    "result['valid'] = gmm_fit(result['valid'], dists, gmm_feats, gmm_cols, temp_save_dir)\n",
    "result['test'] = gmm_fit(result['test'], dists, gmm_feats, gmm_cols, temp_save_dir)"
   ]
  },
  {
   "cell_type": "code",
   "execution_count": null,
   "id": "ef96508b",
   "metadata": {},
   "outputs": [],
   "source": []
  },
  {
   "cell_type": "markdown",
   "id": "91b343a0",
   "metadata": {},
   "source": [
    "6. Cross-check columns in DF with selected ones"
   ]
  },
  {
   "cell_type": "code",
   "execution_count": null,
   "id": "c5720f70",
   "metadata": {},
   "outputs": [],
   "source": [
    "print(result['train'].columns.values)\n",
    "print(\"-----------\")\n",
    "print(selected_feats)\n",
    "\n",
    "print(\"-----------\")\n",
    "\n",
    "any_missing = list(set(selected_feats)-set(result['train'].columns.values))\n",
    "print(any_missing)"
   ]
  },
  {
   "cell_type": "markdown",
   "id": "a40362b9",
   "metadata": {},
   "source": [
    "7. Remove extra columns"
   ]
  },
  {
   "cell_type": "code",
   "execution_count": null,
   "id": "2ce8e686",
   "metadata": {},
   "outputs": [],
   "source": [
    "result['train'][['pca_38']][::100].plot()"
   ]
  },
  {
   "cell_type": "markdown",
   "id": "4e2655d1",
   "metadata": {},
   "source": [
    "8. Split into train, test, validate"
   ]
  },
  {
   "cell_type": "code",
   "execution_count": null,
   "id": "198292ba",
   "metadata": {},
   "outputs": [],
   "source": [
    "selected_feats_2 = list(set(selected_feats)-set(any_missing))\n",
    "\n",
    "print(selected_feats_2)\n",
    "\n",
    "\n",
    "for feat in selected_feats_2:\n",
    "    print(feat)\n",
    "   # result['train'][[feat]][::100].plot()"
   ]
  },
  {
   "cell_type": "code",
   "execution_count": null,
   "id": "715eaa85",
   "metadata": {},
   "outputs": [],
   "source": [
    "selected_feats_3 = list(set(selected_feats_2)-set(['fa_2_gmm_dev_26', 'fa_9', 'fa_8', 'fa_13', 'London', 'NY', 'MeanPrice_x_gmm_dev_13', 'MeanPrice_x_gmm_dev_7', 'pca_2_gmm_dev_12', 'pca_2_gmm_dev_29']))\n",
    "selected_feats_3.sort()\n",
    "\n",
    "#selected_feats_3 = [feat for feat in selected_feats_3 if not \"gmm\" in feat]\n",
    "print(selected_feats_3)\n",
    "\n",
    "print(\"-----\")\n",
    "\n",
    "print(result['valid'].columns.values)"
   ]
  },
  {
   "cell_type": "markdown",
   "id": "11537fbf",
   "metadata": {},
   "source": [
    "9. May need to run stratify for fold creation"
   ]
  },
  {
   "cell_type": "code",
   "execution_count": 125,
   "id": "e4b95936",
   "metadata": {},
   "outputs": [
    {
     "name": "stdout",
     "output_type": "stream",
     "text": [
      "(6540376, 228)\n",
      "(6540376,)\n",
      "(1084234, 228)\n",
      "(1084234,)\n",
      "(1057053, 228)\n",
      "(1057053,)\n"
     ]
    }
   ],
   "source": [
    "#selected_feats = ['MeanPrice', 'close_MAX_1D_60', 'close_STDEV_1D_60', 'close_MIN_1H_60', 'close_STDEV_1H_5', 'close_STDEV_1H_60', 'close_MEDIAN_1H_60', 'close_MAX_15Min_20', 'close_MAX_15Min_60', 'close_STDEV_15Min_5', 'close_STDEV_15Min_20', 'ewm_4H_20_4_3', 'rolling_4H_60_20_4_3', 'fa_1', 'fa_3', 'fa_4', 'fa_6', 'fa_7', 'fa_11', 'fa_12', 'fa_13', 'pca_0', 'pca_1', 'pca_3', 'pca_4', 'pca_7', 'pca_11', 'pca_14', 'pca_18', 'pca_31', 'pca_32', 'pca_40', 'pca_46', 'pca_53', 'pca_58']\n",
    "selected_feats=['MeanPrice', 'close_MIN_1D_5', 'close_MIN_1D_20',\n",
    "       'close_MIN_1D_60', 'close_MAX_1D_5', 'close_MAX_1D_20',\n",
    "       'close_MAX_1D_60', 'close_AVG_1D_5', 'close_AVG_1D_20',\n",
    "       'close_AVG_1D_60', 'close_STDEV_1D_5', 'close_STDEV_1D_20',\n",
    "       'close_STDEV_1D_60', 'close_MEDIAN_1D_5', 'close_MEDIAN_1D_20',\n",
    "       'close_MEDIAN_1D_60', 'close_MIN_1H_5', 'close_MIN_1H_20',\n",
    "       'close_MIN_1H_60', 'close_MAX_1H_5', 'close_MAX_1H_20',\n",
    "       'close_MAX_1H_60', 'close_AVG_1H_5', 'close_AVG_1H_20',\n",
    "       'close_AVG_1H_60', 'close_STDEV_1H_5', 'close_STDEV_1H_20',\n",
    "       'close_STDEV_1H_60', 'close_MEDIAN_1H_5', 'close_MEDIAN_1H_20',\n",
    "       'close_MEDIAN_1H_60', 'close_MIN_15Min_5', 'close_MIN_15Min_20',\n",
    "       'close_MIN_15Min_60', 'close_MAX_15Min_5', 'close_MAX_15Min_20',\n",
    "       'close_MAX_15Min_60', 'close_AVG_15Min_5', 'close_AVG_15Min_20',\n",
    "       'close_AVG_15Min_60', 'close_STDEV_15Min_5',\n",
    "       'close_STDEV_15Min_20', 'close_STDEV_15Min_60',\n",
    "       'close_MEDIAN_15Min_5', 'close_MEDIAN_15Min_20',\n",
    "       'close_MEDIAN_15Min_60', 'rolling_1D_60_3_1',\n",
    "       'rolling_1D_60_3_2', 'rolling_1D_60_3_3', 'ewm_1D_60_3_1',\n",
    "       'ewm_1D_60_3_2', 'ewm_1D_60_3_3', 'rolling_1D_20_4_1',\n",
    "       'rolling_1D_20_4_2', 'rolling_1D_20_4_3', 'rolling_1D_20_4_4',\n",
    "       'ewm_1D_20_4_1', 'ewm_1D_20_4_2', 'ewm_1D_20_4_3', 'ewm_1D_20_4_4',\n",
    "       'rolling_4H_20_4_1', 'rolling_4H_20_4_2', 'rolling_4H_20_4_3',\n",
    "       'rolling_4H_20_4_4', 'ewm_4H_20_4_1', 'ewm_4H_20_4_2',\n",
    "       'ewm_4H_20_4_3', 'ewm_4H_20_4_4', 'rolling_1D_60_20_4_1',\n",
    "       'rolling_1D_60_20_4_2', 'rolling_1D_60_20_4_3',\n",
    "       'rolling_1D_60_20_4_4', 'rolling_4H_60_20_4_1',\n",
    "       'rolling_4H_60_20_4_2', 'rolling_4H_60_20_4_3',\n",
    "       'rolling_4H_60_20_4_4', 'fa_0', 'fa_1',\n",
    "       'fa_2', 'fa_3', 'fa_4', 'fa_5', 'fa_6', 'fa_7', 'fa_8', 'fa_9',\n",
    "       'fa_10', 'fa_11', 'fa_12', 'fa_13', 'fa_14', 'fa_15', 'fa_16',\n",
    "       'fa_17', 'fa_18', 'fa_19', 'fa_20', 'fa_21', 'fa_22', 'fa_23',\n",
    "       'fa_24', 'fa_25', 'fa_26', 'fa_27', 'fa_28', 'fa_29', 'fa_30',\n",
    "       'fa_31', 'fa_32', 'fa_33', 'fa_34', 'fa_35', 'fa_36', 'fa_37',\n",
    "       'fa_38', 'fa_39', 'fa_40', 'fa_41', 'fa_42', 'fa_43', 'fa_44',\n",
    "       'fa_45', 'fa_46', 'fa_47', 'fa_48', 'fa_49', 'fa_50', 'fa_51',\n",
    "       'fa_52', 'fa_53', 'fa_54', 'fa_55', 'fa_56', 'fa_57', 'fa_58',\n",
    "       'fa_59', 'fa_60', 'fa_61', 'fa_62', 'fa_63', 'fa_64', 'fa_65',\n",
    "       'fa_66', 'fa_67', 'fa_68', 'fa_69', 'fa_70', 'fa_71', 'fa_72',\n",
    "       'fa_73', 'fa_74', 'fa_75', 'pca_0', 'pca_1', 'pca_2', 'pca_3',\n",
    "       'pca_4', 'pca_5', 'pca_6', 'pca_7', 'pca_8', 'pca_9', 'pca_10',\n",
    "       'pca_11', 'pca_12', 'pca_13', 'pca_14', 'pca_15', 'pca_16',\n",
    "       'pca_17', 'pca_18', 'pca_19', 'pca_20', 'pca_21', 'pca_22',\n",
    "       'pca_23', 'pca_24', 'pca_25', 'pca_26', 'pca_27', 'pca_28',\n",
    "       'pca_29', 'pca_30', 'pca_31', 'pca_32', 'pca_33', 'pca_34',\n",
    "       'pca_35', 'pca_36', 'pca_37', 'pca_38', 'pca_39', 'pca_40',\n",
    "       'pca_41', 'pca_42', 'pca_43', 'pca_44', 'pca_45', 'pca_46',\n",
    "       'pca_47', 'pca_48', 'pca_49', 'pca_50', 'pca_51', 'pca_52',\n",
    "       'pca_53', 'pca_54', 'pca_55', 'pca_56', 'pca_57', 'pca_58',\n",
    "       'pca_59', 'pca_60', 'pca_61', 'pca_62', 'pca_63', 'pca_64',\n",
    "       'pca_65', 'pca_66', 'pca_67', 'pca_68', 'pca_69', 'pca_70',\n",
    "       'pca_71', 'pca_72', 'pca_73', 'pca_74', 'pca_75']\n",
    "\n",
    "trainX = result['train'][selected_feats]\n",
    "trainY = result['train'][labels].values.argmax(axis=1)\n",
    "    \n",
    "validateX = result['valid'][selected_feats]\n",
    "validateY = result['valid'][labels].values.argmax(axis=1)\n",
    "\n",
    "\n",
    "\n",
    "testX = result['test'][selected_feats]\n",
    "testY = result['test'][labels].values.argmax(axis=1)\n",
    "\n",
    "\n",
    "print(trainX.shape)\n",
    "print(trainY.shape)\n",
    "\n",
    "print(validateX.shape)\n",
    "print(validateY.shape)\n",
    "\n",
    "print(testX.shape)\n",
    "print(testY.shape)"
   ]
  },
  {
   "cell_type": "markdown",
   "id": "fa7c252a",
   "metadata": {},
   "source": [
    "10. Encode targets into y"
   ]
  },
  {
   "cell_type": "code",
   "execution_count": 43,
   "id": "e1e3f9d4",
   "metadata": {},
   "outputs": [
    {
     "name": "stdout",
     "output_type": "stream",
     "text": [
      "<class 'pandas.core.frame.DataFrame'>\n",
      "DatetimeIndex: 6540376 entries, 2018-04-16 07:00:00.489000 to 2021-10-19 20:59:43.152000\n",
      "Columns: 241 entries, MeanPrice to pca_75\n",
      "dtypes: float64(228), int64(13)\n",
      "memory usage: 11.8 GB\n"
     ]
    }
   ],
   "source": [
    "trainX.info()"
   ]
  },
  {
   "cell_type": "code",
   "execution_count": 39,
   "id": "399e66bd",
   "metadata": {},
   "outputs": [
    {
     "name": "stdout",
     "output_type": "stream",
     "text": [
      "['MeanPrice' 'close_MIN_1D_5' 'close_MIN_1D_20' 'close_MIN_1D_60'\n",
      " 'close_MAX_1D_5' 'close_MAX_1D_20' 'close_MAX_1D_60' 'close_AVG_1D_5'\n",
      " 'close_AVG_1D_20' 'close_AVG_1D_60' 'close_STDEV_1D_5'\n",
      " 'close_STDEV_1D_20' 'close_STDEV_1D_60' 'close_MEDIAN_1D_5'\n",
      " 'close_MEDIAN_1D_20' 'close_MEDIAN_1D_60' 'close_MIN_1H_5'\n",
      " 'close_MIN_1H_20' 'close_MIN_1H_60' 'close_MAX_1H_5' 'close_MAX_1H_20'\n",
      " 'close_MAX_1H_60' 'close_AVG_1H_5' 'close_AVG_1H_20' 'close_AVG_1H_60'\n",
      " 'close_STDEV_1H_5' 'close_STDEV_1H_20' 'close_STDEV_1H_60'\n",
      " 'close_MEDIAN_1H_5' 'close_MEDIAN_1H_20' 'close_MEDIAN_1H_60'\n",
      " 'close_MIN_15Min_5' 'close_MIN_15Min_20' 'close_MIN_15Min_60'\n",
      " 'close_MAX_15Min_5' 'close_MAX_15Min_20' 'close_MAX_15Min_60'\n",
      " 'close_AVG_15Min_5' 'close_AVG_15Min_20' 'close_AVG_15Min_60'\n",
      " 'close_STDEV_15Min_5' 'close_STDEV_15Min_20' 'close_STDEV_15Min_60'\n",
      " 'close_MEDIAN_15Min_5' 'close_MEDIAN_15Min_20' 'close_MEDIAN_15Min_60'\n",
      " 'London' 'NY' 'rolling_1D_60_3_1' 'rolling_1D_60_3_2' 'rolling_1D_60_3_3'\n",
      " 'ewm_1D_60_3_1' 'ewm_1D_60_3_2' 'ewm_1D_60_3_3' 'rolling_1D_20_4_1'\n",
      " 'rolling_1D_20_4_2' 'rolling_1D_20_4_3' 'rolling_1D_20_4_4'\n",
      " 'ewm_1D_20_4_1' 'ewm_1D_20_4_2' 'ewm_1D_20_4_3' 'ewm_1D_20_4_4'\n",
      " 'rolling_4H_20_4_1' 'rolling_4H_20_4_2' 'rolling_4H_20_4_3'\n",
      " 'rolling_4H_20_4_4' 'ewm_4H_20_4_1' 'ewm_4H_20_4_2' 'ewm_4H_20_4_3'\n",
      " 'ewm_4H_20_4_4' 'rolling_1D_60_20_4_1' 'rolling_1D_60_20_4_2'\n",
      " 'rolling_1D_60_20_4_3' 'rolling_1D_60_20_4_4' 'rolling_4H_60_20_4_1'\n",
      " 'rolling_4H_60_20_4_2' 'rolling_4H_60_20_4_3' 'rolling_4H_60_20_4_4'\n",
      " 'label_60_5_buy' 'label_60_5_sell' 'label_60_5_stay' 'label_120_5_buy'\n",
      " 'label_120_5_sell' 'label_120_5_stay' 'label_180_5_buy'\n",
      " 'label_180_5_sell' 'label_180_5_stay' 'EUR' 'CHF' 'USD' 'GBP' 'fa_0'\n",
      " 'fa_1' 'fa_2' 'fa_3' 'fa_4' 'fa_5' 'fa_6' 'fa_7' 'fa_8' 'fa_9' 'fa_10'\n",
      " 'fa_11' 'fa_12' 'fa_13' 'fa_14' 'fa_15' 'fa_16' 'fa_17' 'fa_18' 'fa_19'\n",
      " 'fa_20' 'fa_21' 'fa_22' 'fa_23' 'fa_24' 'fa_25' 'fa_26' 'fa_27' 'fa_28'\n",
      " 'fa_29' 'fa_30' 'fa_31' 'fa_32' 'fa_33' 'fa_34' 'fa_35' 'fa_36' 'fa_37'\n",
      " 'fa_38' 'fa_39' 'fa_40' 'fa_41' 'fa_42' 'fa_43' 'fa_44' 'fa_45' 'fa_46'\n",
      " 'fa_47' 'fa_48' 'fa_49' 'fa_50' 'fa_51' 'fa_52' 'fa_53' 'fa_54' 'fa_55'\n",
      " 'fa_56' 'fa_57' 'fa_58' 'fa_59' 'fa_60' 'fa_61' 'fa_62' 'fa_63' 'fa_64'\n",
      " 'fa_65' 'fa_66' 'fa_67' 'fa_68' 'fa_69' 'fa_70' 'fa_71' 'fa_72' 'fa_73'\n",
      " 'fa_74' 'fa_75' 'pca_0' 'pca_1' 'pca_2' 'pca_3' 'pca_4' 'pca_5' 'pca_6'\n",
      " 'pca_7' 'pca_8' 'pca_9' 'pca_10' 'pca_11' 'pca_12' 'pca_13' 'pca_14'\n",
      " 'pca_15' 'pca_16' 'pca_17' 'pca_18' 'pca_19' 'pca_20' 'pca_21' 'pca_22'\n",
      " 'pca_23' 'pca_24' 'pca_25' 'pca_26' 'pca_27' 'pca_28' 'pca_29' 'pca_30'\n",
      " 'pca_31' 'pca_32' 'pca_33' 'pca_34' 'pca_35' 'pca_36' 'pca_37' 'pca_38'\n",
      " 'pca_39' 'pca_40' 'pca_41' 'pca_42' 'pca_43' 'pca_44' 'pca_45' 'pca_46'\n",
      " 'pca_47' 'pca_48' 'pca_49' 'pca_50' 'pca_51' 'pca_52' 'pca_53' 'pca_54'\n",
      " 'pca_55' 'pca_56' 'pca_57' 'pca_58' 'pca_59' 'pca_60' 'pca_61' 'pca_62'\n",
      " 'pca_63' 'pca_64' 'pca_65' 'pca_66' 'pca_67' 'pca_68' 'pca_69' 'pca_70'\n",
      " 'pca_71' 'pca_72' 'pca_73' 'pca_74' 'pca_75']\n"
     ]
    }
   ],
   "source": [
    "print(selected_feats)"
   ]
  },
  {
   "cell_type": "code",
   "execution_count": 14,
   "id": "a9aebb0e",
   "metadata": {},
   "outputs": [],
   "source": [
    "save_df(temp_save_dir, trainX, \"trainX.parqet\")\n",
    "#save_df(temp_save_dir, trainY, \"trainY.parqet\")\n",
    "save_df(temp_save_dir, validateX, \"validateX.parqet\")\n",
    "#save_df(temp_save_dir, validateY, \"validateY.parqet\")\n",
    "save_df(temp_save_dir, testX, \"testX.parqet\")\n",
    "#save_df(temp_save_dir, testY, \"testY.parqet\")\n"
   ]
  },
  {
   "cell_type": "code",
   "execution_count": 15,
   "id": "046c2113",
   "metadata": {},
   "outputs": [],
   "source": [
    "with open(os.path.join(temp_save_dir, 'trainY.pickle'), 'wb') as f:\n",
    "    pickle.dump(trainY, f)\n",
    "    \n",
    "with open(os.path.join(temp_save_dir, 'validateY.pickle'), 'wb') as f:\n",
    "    pickle.dump(validateY, f)\n",
    "    \n",
    "with open(os.path.join(temp_save_dir, 'testY.pickle'), 'wb') as f:\n",
    "    pickle.dump(testY, f)"
   ]
  },
  {
   "cell_type": "code",
   "execution_count": 2,
   "id": "f5ea5f21",
   "metadata": {},
   "outputs": [],
   "source": [
    "trainX = read_parquet(temp_save_dir, \"trainX.parqet\")\n",
    "trainY = read_pickle(temp_save_dir, \"trainY.pickle\")\n",
    "\n",
    "validateX = read_parquet(temp_save_dir, \"validateX.parqet\")\n",
    "validateY = read_pickle(temp_save_dir, \"validateY.pickle\")\n",
    "\n",
    "testX = read_parquet(temp_save_dir, \"testX.parqet\")\n",
    "testY = read_pickle(temp_save_dir, \"testY.pickle\")\n"
   ]
  },
  {
   "cell_type": "code",
   "execution_count": 139,
   "id": "0a73507f",
   "metadata": {},
   "outputs": [
    {
     "name": "stdout",
     "output_type": "stream",
     "text": [
      "Counter({1: 2715775, 0: 2650050, 2: 1174551})\n"
     ]
    }
   ],
   "source": [
    "from collections import Counter\n",
    "count_dict = Counter(trainY)\n",
    "\n",
    "print(count_dict)"
   ]
  },
  {
   "cell_type": "markdown",
   "id": "e21c1453",
   "metadata": {},
   "source": [
    "11. Train baseline xgb with early stopping"
   ]
  },
  {
   "cell_type": "code",
   "execution_count": 81,
   "id": "d46d11d4",
   "metadata": {},
   "outputs": [
    {
     "name": "stdout",
     "output_type": "stream",
     "text": [
      "[10:02:11] WARNING: ../src/learner.cc:767: \n",
      "Parameters: { \"evals_result\", \"scale_pos_weight\" } are not used.\n",
      "\n",
      "[0]\tval-mlogloss:1.09784\ttrain-mlogloss:1.09733\n",
      "[20]\tval-mlogloss:1.07483\ttrain-mlogloss:1.07386\n",
      "[40]\tval-mlogloss:1.06154\ttrain-mlogloss:1.05509\n",
      "[60]\tval-mlogloss:1.05296\ttrain-mlogloss:1.03918\n",
      "[80]\tval-mlogloss:1.04849\ttrain-mlogloss:1.02557\n",
      "[100]\tval-mlogloss:1.04776\ttrain-mlogloss:1.01373\n",
      "[120]\tval-mlogloss:1.04894\ttrain-mlogloss:1.00387\n",
      "[140]\tval-mlogloss:1.04814\ttrain-mlogloss:0.99547\n",
      "[159]\tval-mlogloss:1.05093\ttrain-mlogloss:0.98764\n",
      "GPU Training Time: 189.3901607990265 seconds\n"
     ]
    }
   ],
   "source": [
    "import xgboost as xgb\n",
    "import time\n",
    "num_round = 160\n",
    "\n",
    "\n",
    "#OrderedDict([('colsample_bytree', 0.9), ('learning_rate', 0.05), ('max_depth', 3), \n",
    "#('n_estimators', 100), ('reg_alpha', 1e-09), ('reg_lambda', 30.0), ('subsample', 0.5), ('verbose_eval', 10)])\n",
    "\n",
    "#OrderedDict([('colsample_bytree', 0.8), ('learning_rate', 0.01), ('max_depth', 3),\n",
    "#('n_estimators', 900), ('reg_alpha', 0.443656097251185), ('reg_lambda', 30.0), ('subsample', 0.85), ('verbose_eval', 10)])\n",
    "\n",
    "# colsample_bytree=0.5, learning_rate=0.08, max_depth=3, n_estimators=900, reg_alpha=0.5, reg_lambda=30.0, subsample=0.9\n",
    "store = {}\n",
    "metrics = ['mlogloss']#'auc','merror', \n",
    "# Leave most parameters as default\n",
    "param = {'objective': 'multi:softprob', # Specify multiclass classification\n",
    "         'num_class': 3, # Number of possible output classes\n",
    "         'tree_method': 'gpu_hist', # Use GPU accelerated algorithm\n",
    "         #'eval_metric': 'auc',\n",
    "         'eval_metric': metrics,\n",
    "         'evals_result': store,\n",
    "         'learning_rate': 0.01,\n",
    "         'reg_alpha': 0.0,\n",
    "         'reg_lambda': 1.0,\n",
    "         'max_depth': 6,\n",
    "         'min_child_weight':1,\n",
    "         'gamma':0,\n",
    "         'subsample': 0.8,\n",
    "         'colsample_bytree':0.8,\n",
    "         'nthread': -1   \n",
    "         }\n",
    "\n",
    "dtrain = xgb.DMatrix(trainX, trainY, enable_categorical=False)\n",
    "dvalidate = xgb.DMatrix(validateX, label=validateY, enable_categorical=False)\n",
    "\n",
    "gpu_res = {} # Store accuracy result\n",
    "tmp = time.time()\n",
    "# Train model\n",
    "booster = xgb.train(param, \n",
    "                    dtrain, \n",
    "                    num_round, \n",
    "                    evals=[(dvalidate, 'val'),(dtrain, 'train')], #,(dtrain, 'train')\n",
    "                    evals_result=gpu_res,\n",
    "                    early_stopping_rounds=50,\n",
    "                    verbose_eval=20)\n",
    "print(\"GPU Training Time: %s seconds\" % (str(time.time() - tmp)))"
   ]
  },
  {
   "cell_type": "code",
   "execution_count": 102,
   "id": "c6c18d6e",
   "metadata": {},
   "outputs": [
    {
     "name": "stdout",
     "output_type": "stream",
     "text": [
      "(6540376, 35)\n",
      "(6540376,)\n",
      "(6540376,)\n"
     ]
    }
   ],
   "source": [
    "print(trainX.shape)\n",
    "print(trainY.shape)\n",
    "print(y_train_0.shape)"
   ]
  },
  {
   "cell_type": "code",
   "execution_count": 134,
   "id": "66d46fdf",
   "metadata": {},
   "outputs": [],
   "source": [
    "import xgboost as xgb\n",
    "from imblearn.under_sampling import RandomUnderSampler\n",
    "\n",
    "Y_filtered = [y for y in trainY if y != 2]\n",
    "X_filtered = trainX.iloc[Y_filtered]\n",
    "\n",
    "Y_validate_filtered = [y for y in validateY if y != 2]\n",
    "X_validate_filtered = validateX.iloc[Y_validate_filtered]\n",
    "\n"
   ]
  },
  {
   "cell_type": "code",
   "execution_count": 135,
   "id": "f8571ac6",
   "metadata": {},
   "outputs": [
    {
     "name": "stdout",
     "output_type": "stream",
     "text": [
      "[0]\tval-auc:0.50000\ttrain-auc:1.00000\n",
      "[20]\tval-auc:0.50000\ttrain-auc:1.00000\n",
      "[40]\tval-auc:0.50000\ttrain-auc:1.00000\n",
      "[49]\tval-auc:0.50000\ttrain-auc:1.00000\n",
      "GPU Training Time: 56.820257902145386 seconds\n"
     ]
    }
   ],
   "source": [
    "\n",
    "import xgboost as xgb\n",
    "import time\n",
    "undersampler = RandomUnderSampler(random_state=42)\n",
    "num_round = 160\n",
    "\n",
    "#OrderedDict([('colsample_bytree', 0.9), ('learning_rate', 0.05), ('max_depth', 3), \n",
    "#('n_estimators', 100), ('reg_alpha', 1e-09), ('reg_lambda', 30.0), ('subsample', 0.5), ('verbose_eval', 10)])\n",
    "\n",
    "#OrderedDict([('colsample_bytree', 0.8), ('learning_rate', 0.01), ('max_depth', 3),\n",
    "#('n_estimators', 900), ('reg_alpha', 0.443656097251185), ('reg_lambda', 30.0), ('subsample', 0.85), ('verbose_eval', 10)])\n",
    "\n",
    "# colsample_bytree=0.5, learning_rate=0.08, max_depth=3, n_estimators=900, reg_alpha=0.5, reg_lambda=30.0, subsample=0.9\n",
    "store = {}\n",
    "metrics = ['auc']#'auc','merror', \n",
    "# Leave most parameters as default\n",
    "param = {\n",
    "    'max_depth': 3,\n",
    "    #'num_class': 2,\n",
    "    'tree_method': 'gpu_hist',\n",
    "    'eval_metric': metrics,\n",
    "    'eta': 0.01,\n",
    "    'objective': 'binary:logistic',\n",
    "    #'scale_pos_weight': scale_pos_weight[0],\n",
    "     'nthread': -1   \n",
    "}\n",
    "\n",
    "X_resampled_class0, y_resampled_class0 = undersampler.fit_resample(X_filtered, Y_filtered)\n",
    "\n",
    "X_resampled_class_valid_0, y_resampled_class_valid_0 = undersampler.fit_resample(X_validate_filtered, Y_validate_filtered)\n",
    "\n",
    "dtrain = xgb.DMatrix(X_resampled_class0, label=y_resampled_class0, enable_categorical=False)\n",
    "dvalidate = xgb.DMatrix(X_resampled_class_valid_0, label=y_resampled_class_valid_0, enable_categorical=False)\n",
    "\n",
    "gpu_res = {} # Store accuracy result\n",
    "tmp = time.time()\n",
    "# Train model\n",
    "booster = xgb.train(param, \n",
    "                    dtrain, \n",
    "                    num_round, \n",
    "                    evals=[(dvalidate, 'val'),(dtrain, 'train')], #,(dtrain, 'train')\n",
    "                    evals_result=gpu_res,\n",
    "                    early_stopping_rounds=50,\n",
    "                    verbose_eval=20)\n",
    "print(\"GPU Training Time: %s seconds\" % (str(time.time() - tmp)))"
   ]
  },
  {
   "cell_type": "code",
   "execution_count": 127,
   "id": "819812c8",
   "metadata": {},
   "outputs": [
    {
     "name": "stdout",
     "output_type": "stream",
     "text": [
      "[1.02480142 1.         2.31218142]\n",
      "Model 0\n",
      "[0]\tval-auc:0.50934\n",
      "[20]\tval-auc:0.50569\n",
      "[40]\tval-auc:0.51168\n",
      "[60]\tval-auc:0.51032\n",
      "[80]\tval-auc:0.50665\n",
      "[91]\tval-auc:0.50370\n",
      "Model 1\n",
      "[0]\tval-auc:0.49346\n",
      "[20]\tval-auc:0.48827\n",
      "[40]\tval-auc:0.48806\n",
      "[52]\tval-auc:0.48860\n",
      "Model 2\n",
      "[0]\tval-auc:0.60976\n",
      "[20]\tval-auc:0.62710\n",
      "[40]\tval-auc:0.62780\n",
      "[60]\tval-auc:0.62857\n",
      "[80]\tval-auc:0.62991\n",
      "[100]\tval-auc:0.63063\n",
      "[120]\tval-auc:0.63240\n",
      "[140]\tval-auc:0.63147\n",
      "[160]\tval-auc:0.63091\n",
      "[176]\tval-auc:0.63030\n",
      "Accuracy: 0.43412676563994423\n"
     ]
    }
   ],
   "source": [
    "undersampler = RandomUnderSampler(random_state=42)\n",
    "\n",
    "\n",
    "y_train_0 = np.where(trainY == 0, 1, 0)\n",
    "y_train_1 = np.where(trainY == 1, 1, 0)\n",
    "y_train_2 = np.where(trainY == 2, 1, 0)\n",
    "\n",
    "y_validate_0 = np.where(validateY == 0, 1, 0)\n",
    "y_validate_1 = np.where(validateY == 1, 1, 0)\n",
    "y_validate_2 = np.where(validateY == 2, 1, 0)\n",
    "\n",
    "X_resampled_class0, y_resampled_class0 = undersampler.fit_resample(trainX, y_train_0)\n",
    "X_resampled_class1, y_resampled_class1 = undersampler.fit_resample(trainX, y_train_1)\n",
    "X_resampled_class2, y_resampled_class2 = undersampler.fit_resample(trainX, y_train_2)\n",
    "\n",
    "X_resampled_class_valid_0, y_resampled_class_valid_0 = undersampler.fit_resample(validateX, y_validate_0)\n",
    "X_resampled_class_valid_1, y_resampled_class_valid_1 = undersampler.fit_resample(validateX, y_validate_1)\n",
    "X_resampled_class_valid_2, y_resampled_class_valid_2 = undersampler.fit_resample(validateX, y_validate_2)\n",
    "\n",
    "class_weights = [\n",
    "    len(trainY) / np.sum(trainY == i)\n",
    "    for i in range(len(np.unique(trainY)))\n",
    "]\n",
    "scale_pos_weight = class_weights / np.min(class_weights)\n",
    "print(scale_pos_weight)\n",
    "\n",
    "\n",
    "metrics = ['auc']#'auc','merror', \n",
    "num_round = 250\n",
    "\n",
    "params_0 = {\n",
    "    'max_depth': 3,\n",
    "    #'num_class': 2,\n",
    "    'tree_method': 'gpu_hist',\n",
    "    'eval_metric': metrics,\n",
    "    'eta': 0.01,\n",
    "    'objective': 'binary:logistic',\n",
    "    #'scale_pos_weight': scale_pos_weight[0],\n",
    "     'nthread': -1   \n",
    "}\n",
    "\n",
    "\n",
    "params_1 = {\n",
    "    'max_depth': 3,\n",
    "   # 'num_class': 2,\n",
    "    'tree_method': 'gpu_hist',\n",
    "    'eval_metric': metrics,\n",
    "    'eta': 0.01,\n",
    "    'objective': 'binary:logistic',\n",
    "    #'scale_pos_weight': scale_pos_weight[1],\n",
    "     'nthread': -1   \n",
    "}\n",
    "\n",
    "params_2 = {\n",
    "    'max_depth': 3,\n",
    "    #'num_class': 2,\n",
    "    'tree_method': 'gpu_hist',\n",
    "    'eval_metric': metrics,\n",
    "    'eta': 0.01,\n",
    "    'objective': 'binary:logistic',\n",
    "    #'scale_pos_weight': scale_pos_weight[2],\n",
    "     'nthread': -1   \n",
    "}\n",
    "\n",
    "dtrain = xgb.DMatrix(X_resampled_class0, label=y_resampled_class0, enable_categorical=False)\n",
    "dvalidate = xgb.DMatrix(X_resampled_class_valid_0, label=y_resampled_class_valid_0, enable_categorical=False)\n",
    "\n",
    "print(\"Model 0\")\n",
    "model_0 = xgb.train(\n",
    "                params_0, \n",
    "                dtrain, \n",
    "                num_round, \n",
    "                evals=[(dvalidate, 'val')], #,(dtrain, 'train')\n",
    "                evals_result=gpu_res,\n",
    "                early_stopping_rounds=50,\n",
    "                verbose_eval=20\n",
    ")\n",
    "\n",
    "dtrain = xgb.DMatrix(X_resampled_class1, label=y_resampled_class1, enable_categorical=False)\n",
    "dvalidate = xgb.DMatrix(X_resampled_class_valid_1, label=y_resampled_class_valid_1, enable_categorical=False)\n",
    "\n",
    "print(\"Model 1\")\n",
    "model_1 = xgb.train(\n",
    "                params_1, \n",
    "                dtrain, \n",
    "                num_round, \n",
    "                evals=[(dvalidate, 'val')], #,(dtrain, 'train')\n",
    "                evals_result=gpu_res,\n",
    "                early_stopping_rounds=50,\n",
    "                verbose_eval=20\n",
    ")\n",
    "\n",
    "\n",
    "dtrain = xgb.DMatrix(X_resampled_class2, label=y_resampled_class2, enable_categorical=False)\n",
    "dvalidate = xgb.DMatrix(X_resampled_class_valid_2, label=y_resampled_class_valid_2, enable_categorical=False)\n",
    "\n",
    "print(\"Model 2\")\n",
    "model_2 = xgb.train(\n",
    "                params_2, \n",
    "                dtrain, \n",
    "                num_round, \n",
    "                evals=[(dvalidate, 'val')], #,(dtrain, 'train')\n",
    "                evals_result=gpu_res,\n",
    "                early_stopping_rounds=50,\n",
    "                verbose_eval=20\n",
    ")\n",
    "\n",
    "# Make predictions on the test set\n",
    "preds_0 = model_0.predict(xgb.DMatrix(testX))\n",
    "preds_1 = model_1.predict(xgb.DMatrix(testX))\n",
    "preds_2 = model_2.predict(xgb.DMatrix(testX))\n",
    "\n",
    "# Combine the predictions into a single array\n",
    "preds = np.column_stack((preds_0, preds_1, preds_2))\n",
    "\n",
    "# Take the class with the highest probability as the predicted class\n",
    "pred_labels = np.argmax(preds, axis=1)\n",
    "\n",
    "# Evaluate the accuracy of the predictions\n",
    "accuracy = np.sum(pred_labels == testY) / len(testY)\n",
    "print(f\"Accuracy: {accuracy}\")"
   ]
  },
  {
   "cell_type": "code",
   "execution_count": 114,
   "id": "263fbf60",
   "metadata": {},
   "outputs": [
    {
     "name": "stdout",
     "output_type": "stream",
     "text": [
      "[[0.5797475  0.42025253]\n",
      " [0.57266563 0.4273344 ]\n",
      " [0.5797475  0.42025253]\n",
      " ...\n",
      " [0.55966425 0.4403358 ]\n",
      " [0.55741704 0.442583  ]\n",
      " [0.55966425 0.4403358 ]]\n"
     ]
    }
   ],
   "source": [
    "print(preds_0)"
   ]
  },
  {
   "cell_type": "code",
   "execution_count": 56,
   "id": "d5f37799",
   "metadata": {},
   "outputs": [
    {
     "data": {
      "text/plain": [
       "['/home/dcai/data/features/EURCHF/xgb-4-1gpu5.joblib']"
      ]
     },
     "execution_count": 56,
     "metadata": {},
     "output_type": "execute_result"
    }
   ],
   "source": [
    "joblib.dump(booster, os.path.join(temp_save_dir, 'xgb-4-1gpu5.joblib'))"
   ]
  },
  {
   "cell_type": "code",
   "execution_count": 136,
   "id": "a06115a0",
   "metadata": {},
   "outputs": [
    {
     "ename": "ValueError",
     "evalue": "x and y must have same first dimension, but have shapes (160,) and (51,)",
     "output_type": "error",
     "traceback": [
      "\u001b[0;31m---------------------------------------------------------------------------\u001b[0m",
      "\u001b[0;31mValueError\u001b[0m                                Traceback (most recent call last)",
      "\u001b[0;32m/tmp/ipykernel_221296/570832289.py\u001b[0m in \u001b[0;36m<module>\u001b[0;34m\u001b[0m\n\u001b[0;32m----> 1\u001b[0;31m \u001b[0mplot_compare\u001b[0m\u001b[0;34m(\u001b[0m\u001b[0mmetrics\u001b[0m\u001b[0;34m,\u001b[0m\u001b[0mgpu_res\u001b[0m\u001b[0;34m,\u001b[0m\u001b[0mnum_round\u001b[0m\u001b[0;34m)\u001b[0m\u001b[0;34m\u001b[0m\u001b[0;34m\u001b[0m\u001b[0m\n\u001b[0m",
      "\u001b[0;32m/tmp/ipykernel_221296/2410143838.py\u001b[0m in \u001b[0;36mplot_compare\u001b[0;34m(metrics, eval_results, epochs)\u001b[0m\n\u001b[1;32m    177\u001b[0m         \u001b[0mrang\u001b[0m \u001b[0;34m=\u001b[0m \u001b[0mrange\u001b[0m\u001b[0;34m(\u001b[0m\u001b[0;36m0\u001b[0m\u001b[0;34m,\u001b[0m \u001b[0mepochs\u001b[0m\u001b[0;34m)\u001b[0m\u001b[0;34m\u001b[0m\u001b[0;34m\u001b[0m\u001b[0m\n\u001b[1;32m    178\u001b[0m         \u001b[0mplt\u001b[0m\u001b[0;34m.\u001b[0m\u001b[0mrcParams\u001b[0m\u001b[0;34m[\u001b[0m\u001b[0;34m\"figure.figsize\"\u001b[0m\u001b[0;34m]\u001b[0m \u001b[0;34m=\u001b[0m \u001b[0;34m[\u001b[0m\u001b[0;36m6\u001b[0m\u001b[0;34m,\u001b[0m\u001b[0;36m6\u001b[0m\u001b[0;34m]\u001b[0m\u001b[0;34m\u001b[0m\u001b[0;34m\u001b[0m\u001b[0m\n\u001b[0;32m--> 179\u001b[0;31m         \u001b[0mplt\u001b[0m\u001b[0;34m.\u001b[0m\u001b[0mplot\u001b[0m\u001b[0;34m(\u001b[0m\u001b[0mrang\u001b[0m\u001b[0;34m,\u001b[0m \u001b[0mtest_score\u001b[0m\u001b[0;34m,\u001b[0m\u001b[0;34m\"c\"\u001b[0m\u001b[0;34m,\u001b[0m \u001b[0mlabel\u001b[0m\u001b[0;34m=\u001b[0m\u001b[0;34m\"Val\"\u001b[0m\u001b[0;34m)\u001b[0m\u001b[0;34m\u001b[0m\u001b[0;34m\u001b[0m\u001b[0m\n\u001b[0m\u001b[1;32m    180\u001b[0m         \u001b[0mplt\u001b[0m\u001b[0;34m.\u001b[0m\u001b[0mplot\u001b[0m\u001b[0;34m(\u001b[0m\u001b[0mrang\u001b[0m\u001b[0;34m,\u001b[0m \u001b[0mtrain_score\u001b[0m\u001b[0;34m,\u001b[0m\u001b[0;34m\"orange\"\u001b[0m\u001b[0;34m,\u001b[0m \u001b[0mlabel\u001b[0m\u001b[0;34m=\u001b[0m\u001b[0;34m\"Train\"\u001b[0m\u001b[0;34m)\u001b[0m\u001b[0;34m\u001b[0m\u001b[0;34m\u001b[0m\u001b[0m\n\u001b[1;32m    181\u001b[0m         \u001b[0mtitle_name\u001b[0m \u001b[0;34m=\u001b[0m \u001b[0mm\u001b[0m \u001b[0;34m+\u001b[0m \u001b[0;34m\" plot\"\u001b[0m\u001b[0;34m\u001b[0m\u001b[0;34m\u001b[0m\u001b[0m\n",
      "\u001b[0;32m~/anaconda3/lib/python3.9/site-packages/matplotlib/pyplot.py\u001b[0m in \u001b[0;36mplot\u001b[0;34m(scalex, scaley, data, *args, **kwargs)\u001b[0m\n\u001b[1;32m   2767\u001b[0m \u001b[0;34m@\u001b[0m\u001b[0m_copy_docstring_and_deprecators\u001b[0m\u001b[0;34m(\u001b[0m\u001b[0mAxes\u001b[0m\u001b[0;34m.\u001b[0m\u001b[0mplot\u001b[0m\u001b[0;34m)\u001b[0m\u001b[0;34m\u001b[0m\u001b[0;34m\u001b[0m\u001b[0m\n\u001b[1;32m   2768\u001b[0m \u001b[0;32mdef\u001b[0m \u001b[0mplot\u001b[0m\u001b[0;34m(\u001b[0m\u001b[0;34m*\u001b[0m\u001b[0margs\u001b[0m\u001b[0;34m,\u001b[0m \u001b[0mscalex\u001b[0m\u001b[0;34m=\u001b[0m\u001b[0;32mTrue\u001b[0m\u001b[0;34m,\u001b[0m \u001b[0mscaley\u001b[0m\u001b[0;34m=\u001b[0m\u001b[0;32mTrue\u001b[0m\u001b[0;34m,\u001b[0m \u001b[0mdata\u001b[0m\u001b[0;34m=\u001b[0m\u001b[0;32mNone\u001b[0m\u001b[0;34m,\u001b[0m \u001b[0;34m**\u001b[0m\u001b[0mkwargs\u001b[0m\u001b[0;34m)\u001b[0m\u001b[0;34m:\u001b[0m\u001b[0;34m\u001b[0m\u001b[0;34m\u001b[0m\u001b[0m\n\u001b[0;32m-> 2769\u001b[0;31m     return gca().plot(\n\u001b[0m\u001b[1;32m   2770\u001b[0m         \u001b[0;34m*\u001b[0m\u001b[0margs\u001b[0m\u001b[0;34m,\u001b[0m \u001b[0mscalex\u001b[0m\u001b[0;34m=\u001b[0m\u001b[0mscalex\u001b[0m\u001b[0;34m,\u001b[0m \u001b[0mscaley\u001b[0m\u001b[0;34m=\u001b[0m\u001b[0mscaley\u001b[0m\u001b[0;34m,\u001b[0m\u001b[0;34m\u001b[0m\u001b[0;34m\u001b[0m\u001b[0m\n\u001b[1;32m   2771\u001b[0m         **({\"data\": data} if data is not None else {}), **kwargs)\n",
      "\u001b[0;32m~/anaconda3/lib/python3.9/site-packages/matplotlib/axes/_axes.py\u001b[0m in \u001b[0;36mplot\u001b[0;34m(self, scalex, scaley, data, *args, **kwargs)\u001b[0m\n\u001b[1;32m   1630\u001b[0m         \"\"\"\n\u001b[1;32m   1631\u001b[0m         \u001b[0mkwargs\u001b[0m \u001b[0;34m=\u001b[0m \u001b[0mcbook\u001b[0m\u001b[0;34m.\u001b[0m\u001b[0mnormalize_kwargs\u001b[0m\u001b[0;34m(\u001b[0m\u001b[0mkwargs\u001b[0m\u001b[0;34m,\u001b[0m \u001b[0mmlines\u001b[0m\u001b[0;34m.\u001b[0m\u001b[0mLine2D\u001b[0m\u001b[0;34m)\u001b[0m\u001b[0;34m\u001b[0m\u001b[0;34m\u001b[0m\u001b[0m\n\u001b[0;32m-> 1632\u001b[0;31m         \u001b[0mlines\u001b[0m \u001b[0;34m=\u001b[0m \u001b[0;34m[\u001b[0m\u001b[0;34m*\u001b[0m\u001b[0mself\u001b[0m\u001b[0;34m.\u001b[0m\u001b[0m_get_lines\u001b[0m\u001b[0;34m(\u001b[0m\u001b[0;34m*\u001b[0m\u001b[0margs\u001b[0m\u001b[0;34m,\u001b[0m \u001b[0mdata\u001b[0m\u001b[0;34m=\u001b[0m\u001b[0mdata\u001b[0m\u001b[0;34m,\u001b[0m \u001b[0;34m**\u001b[0m\u001b[0mkwargs\u001b[0m\u001b[0;34m)\u001b[0m\u001b[0;34m]\u001b[0m\u001b[0;34m\u001b[0m\u001b[0;34m\u001b[0m\u001b[0m\n\u001b[0m\u001b[1;32m   1633\u001b[0m         \u001b[0;32mfor\u001b[0m \u001b[0mline\u001b[0m \u001b[0;32min\u001b[0m \u001b[0mlines\u001b[0m\u001b[0;34m:\u001b[0m\u001b[0;34m\u001b[0m\u001b[0;34m\u001b[0m\u001b[0m\n\u001b[1;32m   1634\u001b[0m             \u001b[0mself\u001b[0m\u001b[0;34m.\u001b[0m\u001b[0madd_line\u001b[0m\u001b[0;34m(\u001b[0m\u001b[0mline\u001b[0m\u001b[0;34m)\u001b[0m\u001b[0;34m\u001b[0m\u001b[0;34m\u001b[0m\u001b[0m\n",
      "\u001b[0;32m~/anaconda3/lib/python3.9/site-packages/matplotlib/axes/_base.py\u001b[0m in \u001b[0;36m__call__\u001b[0;34m(self, data, *args, **kwargs)\u001b[0m\n\u001b[1;32m    310\u001b[0m                 \u001b[0mthis\u001b[0m \u001b[0;34m+=\u001b[0m \u001b[0margs\u001b[0m\u001b[0;34m[\u001b[0m\u001b[0;36m0\u001b[0m\u001b[0;34m]\u001b[0m\u001b[0;34m,\u001b[0m\u001b[0;34m\u001b[0m\u001b[0;34m\u001b[0m\u001b[0m\n\u001b[1;32m    311\u001b[0m                 \u001b[0margs\u001b[0m \u001b[0;34m=\u001b[0m \u001b[0margs\u001b[0m\u001b[0;34m[\u001b[0m\u001b[0;36m1\u001b[0m\u001b[0;34m:\u001b[0m\u001b[0;34m]\u001b[0m\u001b[0;34m\u001b[0m\u001b[0;34m\u001b[0m\u001b[0m\n\u001b[0;32m--> 312\u001b[0;31m             \u001b[0;32myield\u001b[0m \u001b[0;32mfrom\u001b[0m \u001b[0mself\u001b[0m\u001b[0;34m.\u001b[0m\u001b[0m_plot_args\u001b[0m\u001b[0;34m(\u001b[0m\u001b[0mthis\u001b[0m\u001b[0;34m,\u001b[0m \u001b[0mkwargs\u001b[0m\u001b[0;34m)\u001b[0m\u001b[0;34m\u001b[0m\u001b[0;34m\u001b[0m\u001b[0m\n\u001b[0m\u001b[1;32m    313\u001b[0m \u001b[0;34m\u001b[0m\u001b[0m\n\u001b[1;32m    314\u001b[0m     \u001b[0;32mdef\u001b[0m \u001b[0mget_next_color\u001b[0m\u001b[0;34m(\u001b[0m\u001b[0mself\u001b[0m\u001b[0;34m)\u001b[0m\u001b[0;34m:\u001b[0m\u001b[0;34m\u001b[0m\u001b[0;34m\u001b[0m\u001b[0m\n",
      "\u001b[0;32m~/anaconda3/lib/python3.9/site-packages/matplotlib/axes/_base.py\u001b[0m in \u001b[0;36m_plot_args\u001b[0;34m(self, tup, kwargs, return_kwargs)\u001b[0m\n\u001b[1;32m    496\u001b[0m \u001b[0;34m\u001b[0m\u001b[0m\n\u001b[1;32m    497\u001b[0m         \u001b[0;32mif\u001b[0m \u001b[0mx\u001b[0m\u001b[0;34m.\u001b[0m\u001b[0mshape\u001b[0m\u001b[0;34m[\u001b[0m\u001b[0;36m0\u001b[0m\u001b[0;34m]\u001b[0m \u001b[0;34m!=\u001b[0m \u001b[0my\u001b[0m\u001b[0;34m.\u001b[0m\u001b[0mshape\u001b[0m\u001b[0;34m[\u001b[0m\u001b[0;36m0\u001b[0m\u001b[0;34m]\u001b[0m\u001b[0;34m:\u001b[0m\u001b[0;34m\u001b[0m\u001b[0;34m\u001b[0m\u001b[0m\n\u001b[0;32m--> 498\u001b[0;31m             raise ValueError(f\"x and y must have same first dimension, but \"\n\u001b[0m\u001b[1;32m    499\u001b[0m                              f\"have shapes {x.shape} and {y.shape}\")\n\u001b[1;32m    500\u001b[0m         \u001b[0;32mif\u001b[0m \u001b[0mx\u001b[0m\u001b[0;34m.\u001b[0m\u001b[0mndim\u001b[0m \u001b[0;34m>\u001b[0m \u001b[0;36m2\u001b[0m \u001b[0;32mor\u001b[0m \u001b[0my\u001b[0m\u001b[0;34m.\u001b[0m\u001b[0mndim\u001b[0m \u001b[0;34m>\u001b[0m \u001b[0;36m2\u001b[0m\u001b[0;34m:\u001b[0m\u001b[0;34m\u001b[0m\u001b[0;34m\u001b[0m\u001b[0m\n",
      "\u001b[0;31mValueError\u001b[0m: x and y must have same first dimension, but have shapes (160,) and (51,)"
     ]
    },
    {
     "data": {
      "image/png": "[encoded data removed]",
      "text/plain": [
       "<Figure size 600x600 with 1 Axes>"
      ]
     },
     "metadata": {},
     "output_type": "display_data"
    }
   ],
   "source": [
    "plot_compare(metrics,gpu_res,num_round)\n"
   ]
  },
  {
   "cell_type": "code",
   "execution_count": 86,
   "id": "c9609501",
   "metadata": {},
   "outputs": [
    {
     "data": {
      "image/png": "[encoded data removed]",
      "text/plain": [
       "<Figure size 600x600 with 1 Axes>"
      ]
     },
     "metadata": {},
     "output_type": "display_data"
    }
   ],
   "source": [
    "p = xgb.plot_importance(booster) \n"
   ]
  },
  {
   "cell_type": "code",
   "execution_count": 137,
   "id": "a5e0907d",
   "metadata": {},
   "outputs": [
    {
     "name": "stdout",
     "output_type": "stream",
     "text": [
      "['MeanPrice']\n",
      "{'MeanPrice': 51.0}\n"
     ]
    }
   ],
   "source": [
    "f_score=booster.get_fscore()\n",
    "selected=[key for key, value in f_score.items() if value > 5]\n",
    "print(selected)\n",
    "print(f_score)"
   ]
  },
  {
   "cell_type": "code",
   "execution_count": 24,
   "id": "047097f8",
   "metadata": {},
   "outputs": [],
   "source": [
    "# load the model from file\n",
    "booster = joblib.load(os.path.join(temp_save_dir, 'xgb-4-1.joblib'))"
   ]
  },
  {
   "cell_type": "code",
   "execution_count": 138,
   "id": "dc34db8e",
   "metadata": {},
   "outputs": [
    {
     "name": "stdout",
     "output_type": "stream",
     "text": [
      "(1057053,)\n"
     ]
    },
    {
     "ename": "AxisError",
     "evalue": "axis 1 is out of bounds for array of dimension 1",
     "output_type": "error",
     "traceback": [
      "\u001b[0;31m---------------------------------------------------------------------------\u001b[0m",
      "\u001b[0;31mAxisError\u001b[0m                                 Traceback (most recent call last)",
      "\u001b[0;32m/tmp/ipykernel_221296/2732237527.py\u001b[0m in \u001b[0;36m<module>\u001b[0;34m\u001b[0m\n\u001b[1;32m      2\u001b[0m \u001b[0mpred\u001b[0m \u001b[0;34m=\u001b[0m \u001b[0mbooster\u001b[0m\u001b[0;34m.\u001b[0m\u001b[0mpredict\u001b[0m\u001b[0;34m(\u001b[0m\u001b[0mdtest\u001b[0m\u001b[0;34m)\u001b[0m\u001b[0;34m\u001b[0m\u001b[0;34m\u001b[0m\u001b[0m\n\u001b[1;32m      3\u001b[0m \u001b[0mprint\u001b[0m\u001b[0;34m(\u001b[0m\u001b[0mpred\u001b[0m\u001b[0;34m.\u001b[0m\u001b[0mshape\u001b[0m\u001b[0;34m)\u001b[0m\u001b[0;34m\u001b[0m\u001b[0;34m\u001b[0m\u001b[0m\n\u001b[0;32m----> 4\u001b[0;31m \u001b[0mpred_vect\u001b[0m \u001b[0;34m=\u001b[0m \u001b[0mnp\u001b[0m\u001b[0;34m.\u001b[0m\u001b[0margmax\u001b[0m\u001b[0;34m(\u001b[0m\u001b[0mpred\u001b[0m\u001b[0;34m,\u001b[0m \u001b[0maxis\u001b[0m\u001b[0;34m=\u001b[0m\u001b[0;36m1\u001b[0m\u001b[0;34m)\u001b[0m\u001b[0;34m.\u001b[0m\u001b[0mreshape\u001b[0m\u001b[0;34m(\u001b[0m\u001b[0;34m-\u001b[0m\u001b[0;36m1\u001b[0m\u001b[0;34m,\u001b[0m\u001b[0;36m1\u001b[0m\u001b[0;34m)\u001b[0m\u001b[0;34m\u001b[0m\u001b[0;34m\u001b[0m\u001b[0m\n\u001b[0m\u001b[1;32m      5\u001b[0m \u001b[0;34m\u001b[0m\u001b[0m\n",
      "\u001b[0;32m<__array_function__ internals>\u001b[0m in \u001b[0;36margmax\u001b[0;34m(*args, **kwargs)\u001b[0m\n",
      "\u001b[0;32m~/anaconda3/lib/python3.9/site-packages/numpy/core/fromnumeric.py\u001b[0m in \u001b[0;36margmax\u001b[0;34m(a, axis, out)\u001b[0m\n\u001b[1;32m   1193\u001b[0m \u001b[0;34m\u001b[0m\u001b[0m\n\u001b[1;32m   1194\u001b[0m     \"\"\"\n\u001b[0;32m-> 1195\u001b[0;31m     \u001b[0;32mreturn\u001b[0m \u001b[0m_wrapfunc\u001b[0m\u001b[0;34m(\u001b[0m\u001b[0ma\u001b[0m\u001b[0;34m,\u001b[0m \u001b[0;34m'argmax'\u001b[0m\u001b[0;34m,\u001b[0m \u001b[0maxis\u001b[0m\u001b[0;34m=\u001b[0m\u001b[0maxis\u001b[0m\u001b[0;34m,\u001b[0m \u001b[0mout\u001b[0m\u001b[0;34m=\u001b[0m\u001b[0mout\u001b[0m\u001b[0;34m)\u001b[0m\u001b[0;34m\u001b[0m\u001b[0;34m\u001b[0m\u001b[0m\n\u001b[0m\u001b[1;32m   1196\u001b[0m \u001b[0;34m\u001b[0m\u001b[0m\n\u001b[1;32m   1197\u001b[0m \u001b[0;34m\u001b[0m\u001b[0m\n",
      "\u001b[0;32m~/anaconda3/lib/python3.9/site-packages/numpy/core/fromnumeric.py\u001b[0m in \u001b[0;36m_wrapfunc\u001b[0;34m(obj, method, *args, **kwds)\u001b[0m\n\u001b[1;32m     55\u001b[0m \u001b[0;34m\u001b[0m\u001b[0m\n\u001b[1;32m     56\u001b[0m     \u001b[0;32mtry\u001b[0m\u001b[0;34m:\u001b[0m\u001b[0;34m\u001b[0m\u001b[0;34m\u001b[0m\u001b[0m\n\u001b[0;32m---> 57\u001b[0;31m         \u001b[0;32mreturn\u001b[0m \u001b[0mbound\u001b[0m\u001b[0;34m(\u001b[0m\u001b[0;34m*\u001b[0m\u001b[0margs\u001b[0m\u001b[0;34m,\u001b[0m \u001b[0;34m**\u001b[0m\u001b[0mkwds\u001b[0m\u001b[0;34m)\u001b[0m\u001b[0;34m\u001b[0m\u001b[0;34m\u001b[0m\u001b[0m\n\u001b[0m\u001b[1;32m     58\u001b[0m     \u001b[0;32mexcept\u001b[0m \u001b[0mTypeError\u001b[0m\u001b[0;34m:\u001b[0m\u001b[0;34m\u001b[0m\u001b[0;34m\u001b[0m\u001b[0m\n\u001b[1;32m     59\u001b[0m         \u001b[0;31m# A TypeError occurs if the object does have such a method in its\u001b[0m\u001b[0;34m\u001b[0m\u001b[0;34m\u001b[0m\u001b[0m\n",
      "\u001b[0;31mAxisError\u001b[0m: axis 1 is out of bounds for array of dimension 1"
     ]
    }
   ],
   "source": [
    "dtest = xgb.DMatrix(testX, testY, enable_categorical=False)\n",
    "pred = booster.predict(dtest)\n",
    "print(pred.shape)\n",
    "pred_vect = np.argmax(pred, axis=1).reshape(-1,1)\n",
    "\n"
   ]
  },
  {
   "cell_type": "code",
   "execution_count": 111,
   "id": "1338f623",
   "metadata": {},
   "outputs": [
    {
     "name": "stdout",
     "output_type": "stream",
     "text": [
      "-- Model Report --\n",
      "XGBoost Accuracy: 0.004983666854925912\n",
      "XGBoost F1-Score (Micro): 0.004983666854925912\n"
     ]
    }
   ],
   "source": [
    "from sklearn.metrics import accuracy_score, f1_score\n",
    "pred_vect=pred_labels\n",
    "\n",
    "print('-- Model Report --')\n",
    "print('XGBoost Accuracy: '+str(accuracy_score(pred_vect, testY)))\n",
    "print('XGBoost F1-Score (Micro): '+str(f1_score(pred_vect,testY,average='micro')))"
   ]
  },
  {
   "cell_type": "code",
   "execution_count": 112,
   "id": "bdc143c8",
   "metadata": {},
   "outputs": [
    {
     "data": {
      "image/png": "[encoded data removed]",
      "text/plain": [
       "<Figure size 600x600 with 2 Axes>"
      ]
     },
     "metadata": {},
     "output_type": "display_data"
    }
   ],
   "source": [
    "from sklearn.metrics import confusion_matrix\n",
    "import pylab as pl\n",
    "\n",
    "import seaborn as sns\n",
    "import matplotlib.pyplot as plt     \n",
    "\n",
    "cm = confusion_matrix(testY, pred_vect)\n",
    "\n",
    "ax= plt.subplot()\n",
    "sns.heatmap(cm, annot=True, fmt='g', ax=ax);  #annot=True to annotate cells, ftm='g' to disable scientific notation\n",
    "\n",
    "\n",
    "\n"
   ]
  },
  {
   "cell_type": "code",
   "execution_count": null,
   "id": "44f0bbd7",
   "metadata": {},
   "outputs": [],
   "source": []
  }
 ],
 "metadata": {
  "kernelspec": {
   "display_name": "Python 3 (ipykernel)",
   "language": "python",
   "name": "python3"
  },
  "language_info": {
   "codemirror_mode": {
    "name": "ipython",
    "version": 3
   },
   "file_extension": ".py",
   "mimetype": "text/x-python",
   "name": "python",
   "nbconvert_exporter": "python",
   "pygments_lexer": "ipython3",
   "version": "3.10.12"
  }
 },
 "nbformat": 4,
 "nbformat_minor": 5
}
