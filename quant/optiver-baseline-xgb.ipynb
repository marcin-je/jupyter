{
 "cells": [
  {
   "cell_type": "code",
   "execution_count": 1,
   "id": "f3082c34-253f-479e-9a2b-8d30283c6171",
   "metadata": {
    "tags": []
   },
   "outputs": [
    {
     "name": "stdout",
     "output_type": "stream",
     "text": [
      "We will use RAPIDS version 23.10.00\n"
     ]
    }
   ],
   "source": [
    "import cudf as pd #Change1\n",
    "import numpy as np\n",
    "from sklearn.model_selection import KFold, GroupKFold\n",
    "from xgboost import XGBRegressor\n",
    "from sklearn.metrics import f1_score\n",
    "import matplotlib.pyplot as plt\n",
    "from tqdm.notebook import tqdm\n",
    "from collections import defaultdict\n",
    "import warnings\n",
    "from itertools import combinations\n",
    "import gc\n",
    "import pickle\n",
    "import warnings\n",
    "warnings.filterwarnings('ignore')\n",
    "\n",
    "print('We will use RAPIDS version',pd.__version__)\n",
    "from sklearn.model_selection import TimeSeriesSplit\n",
    "from sklearn.metrics import r2_score, mean_absolute_error\n",
    "\n",
    "train = pd.read_csv('/kaggle/input/optiver-trading-at-the-close/train.csv')\n",
    "plt.rcParams.update({'font.size': 16})"
   ]
  },
  {
   "cell_type": "code",
   "execution_count": 2,
   "id": "cdaca0e0-dfd2-4e2d-a557-80837824cfc4",
   "metadata": {
    "tags": []
   },
   "outputs": [
    {
     "name": "stdout",
     "output_type": "stream",
     "text": [
      "['stock_id', 'seconds_in_bucket', 'imbalance_size', 'imbalance_buy_sell_flag', 'reference_price', 'matched_size', 'far_price', 'near_price', 'bid_price', 'bid_size', 'ask_price', 'ask_size', 'wap']\n"
     ]
    }
   ],
   "source": [
    "features = [col for col in train.columns if col not in ['row_id', 'time_id', 'date_id', 'target']]\n",
    "print(features)"
   ]
  },
  {
   "cell_type": "code",
   "execution_count": 3,
   "id": "fe709add-dcf7-44e9-99c6-e9ac807d9fd0",
   "metadata": {
    "tags": []
   },
   "outputs": [],
   "source": [
    "cat_cols = ['stock_id', 'imbalance_buy_sell_flag']\n",
    "num_cols = ['seconds_in_bucket', 'imbalance_size',  'reference_price', 'matched_size', 'far_price', 'near_price', 'bid_price', 'bid_size', 'ask_price', 'ask_size', 'wap']\n"
   ]
  },
  {
   "cell_type": "code",
   "execution_count": 4,
   "id": "8b781b45-5249-47aa-86fa-2ddb4c53f5d0",
   "metadata": {
    "tags": []
   },
   "outputs": [
    {
     "data": {
      "text/plain": [
       "stock_id                    0\n",
       "date_id                     0\n",
       "seconds_in_bucket           0\n",
       "imbalance_size              0\n",
       "imbalance_buy_sell_flag     0\n",
       "reference_price             0\n",
       "matched_size                0\n",
       "far_price                   0\n",
       "near_price                  0\n",
       "bid_price                   0\n",
       "bid_size                    0\n",
       "ask_price                   0\n",
       "ask_size                    0\n",
       "wap                         0\n",
       "target                     88\n",
       "time_id                     0\n",
       "row_id                      0\n",
       "dtype: int64"
      ]
     },
     "metadata": {},
     "output_type": "display_data"
    },
    {
     "name": "stdout",
     "output_type": "stream",
     "text": [
      "before drop dataset size: 5237980\n",
      "after drop dataset size: 5237892\n"
     ]
    }
   ],
   "source": [
    "train['far_price'].fillna(0, inplace=True)\n",
    "train['near_price'].fillna(1, inplace=True)\n",
    "\n",
    "cols_group_by = ['date_id', 'seconds_in_bucket']\n",
    "cols_fill_nan = [\n",
    "    'imbalance_size', 'reference_price', 'matched_size', 'wap',\n",
    "    'bid_price', 'bid_size', 'ask_price', 'ask_size', \n",
    "    'stock_id', 'seconds_in_bucket', 'imbalance_buy_sell_flag']\n",
    "train_grouped_median = train.groupby(cols_group_by)[cols_fill_nan].transform('median')\n",
    "\n",
    "train[cols_fill_nan] = train[cols_fill_nan].fillna(train_grouped_median)\n",
    "\n",
    "display(train.isnull().sum())\n",
    "print(f\"before drop dataset size: {len(train)}\")\n",
    "train.dropna(inplace=True)\n",
    "print(f\"after drop dataset size: {len(train)}\")\n",
    "                                                                                "
   ]
  },
  {
   "cell_type": "code",
   "execution_count": 5,
   "id": "9c324354-532b-4f3f-b098-4aec41330049",
   "metadata": {
    "tags": []
   },
   "outputs": [],
   "source": [
    "X_train = train[features].copy(deep=True)\n",
    "y_train = train['target'].copy(deep=True)"
   ]
  },
  {
   "cell_type": "code",
   "execution_count": 6,
   "id": "45fde7ca-c0fc-4b3c-b0d5-c1c812bf3162",
   "metadata": {
    "tags": []
   },
   "outputs": [],
   "source": [
    "X_train.fillna(0, inplace = True)\n",
    "y_train.fillna(0, inplace = True)\n",
    "\n",
    "\n",
    "\n"
   ]
  },
  {
   "cell_type": "code",
   "execution_count": 7,
   "id": "ac5572f5-5710-44b6-9020-8c247a928a73",
   "metadata": {
    "tags": []
   },
   "outputs": [],
   "source": [
    "X = train.to_pandas().drop(columns=['target'])  # Your features\n",
    "y = train.to_pandas()['target']  # Your target variable\n",
    "groups = train.to_pandas()['date_id'] # Extracting just the 'time_id' column for grouping"
   ]
  },
  {
   "cell_type": "code",
   "execution_count": 8,
   "id": "37903741-c5aa-40a3-b971-3e00ac8dfe4c",
   "metadata": {
    "tags": []
   },
   "outputs": [
    {
     "data": {
      "text/plain": [
       "0            0\n",
       "1            0\n",
       "2            0\n",
       "3            0\n",
       "4            0\n",
       "          ... \n",
       "5237887    480\n",
       "5237888    480\n",
       "5237889    480\n",
       "5237890    480\n",
       "5237891    480\n",
       "Name: date_id, Length: 5237892, dtype: int64"
      ]
     },
     "execution_count": 8,
     "metadata": {},
     "output_type": "execute_result"
    }
   ],
   "source": [
    "groups.reset_index(inplace=True, drop=True)\n",
    "\n",
    "groups"
   ]
  },
  {
   "cell_type": "code",
   "execution_count": 18,
   "id": "781402e5-81b2-45b5-afca-7f9a509695b6",
   "metadata": {
    "tags": []
   },
   "outputs": [
    {
     "data": {
      "application/vnd.jupyter.widget-view+json": {
       "model_id": "43dc88fcd74346489cc57925b9a7dd54",
       "version_major": 2,
       "version_minor": 0
      },
      "text/plain": [
       "0it [00:00, ?it/s]"
      ]
     },
     "metadata": {},
     "output_type": "display_data"
    },
    {
     "name": "stdout",
     "output_type": "stream",
     "text": [
      "[0]\tvalidation_0-mae:6.37997\n",
      "[10]\tvalidation_0-mae:6.34804\n",
      "[20]\tvalidation_0-mae:6.34515\n",
      "[30]\tvalidation_0-mae:6.34540\n",
      "[40]\tvalidation_0-mae:6.34974\n",
      "[50]\tvalidation_0-mae:6.35375\n",
      "[60]\tvalidation_0-mae:6.35825\n",
      "[70]\tvalidation_0-mae:6.36277\n",
      "[80]\tvalidation_0-mae:6.36592\n",
      "[90]\tvalidation_0-mae:6.36949\n",
      "[100]\tvalidation_0-mae:6.37273\n",
      "[110]\tvalidation_0-mae:6.37592\n",
      "[112]\tvalidation_0-mae:6.37639\n",
      "[0]\tvalidation_0-mae:6.50231\n",
      "[10]\tvalidation_0-mae:6.46847\n",
      "[20]\tvalidation_0-mae:6.46491\n",
      "[30]\tvalidation_0-mae:6.46746\n",
      "[40]\tvalidation_0-mae:6.46959\n",
      "[50]\tvalidation_0-mae:6.47364\n",
      "[60]\tvalidation_0-mae:6.47583\n",
      "[70]\tvalidation_0-mae:6.48240\n",
      "[80]\tvalidation_0-mae:6.48589\n",
      "[90]\tvalidation_0-mae:6.49011\n",
      "[100]\tvalidation_0-mae:6.49463\n",
      "[105]\tvalidation_0-mae:6.49597\n",
      "[0]\tvalidation_0-mae:6.41681\n",
      "[10]\tvalidation_0-mae:6.38182\n",
      "[20]\tvalidation_0-mae:6.38016\n",
      "[30]\tvalidation_0-mae:6.38120\n",
      "[40]\tvalidation_0-mae:6.38525\n",
      "[50]\tvalidation_0-mae:6.39261\n",
      "[60]\tvalidation_0-mae:6.39644\n",
      "[70]\tvalidation_0-mae:6.39909\n",
      "[80]\tvalidation_0-mae:6.40117\n",
      "[90]\tvalidation_0-mae:6.40630\n",
      "[100]\tvalidation_0-mae:6.40996\n",
      "[106]\tvalidation_0-mae:6.41176\n",
      "[0]\tvalidation_0-mae:6.19339\n",
      "[10]\tvalidation_0-mae:6.16294\n",
      "[20]\tvalidation_0-mae:6.15984\n",
      "[30]\tvalidation_0-mae:6.16068\n",
      "[40]\tvalidation_0-mae:6.16170\n",
      "[50]\tvalidation_0-mae:6.16580\n",
      "[60]\tvalidation_0-mae:6.16847\n",
      "[70]\tvalidation_0-mae:6.17329\n",
      "[80]\tvalidation_0-mae:6.17664\n",
      "[90]\tvalidation_0-mae:6.18062\n",
      "[100]\tvalidation_0-mae:6.18458\n",
      "[104]\tvalidation_0-mae:6.18571\n",
      "[0]\tvalidation_0-mae:6.26452\n",
      "[10]\tvalidation_0-mae:6.23179\n",
      "[20]\tvalidation_0-mae:6.22822\n",
      "[30]\tvalidation_0-mae:6.23006\n",
      "[40]\tvalidation_0-mae:6.23338\n",
      "[50]\tvalidation_0-mae:6.23623\n",
      "[60]\tvalidation_0-mae:6.23975\n",
      "[70]\tvalidation_0-mae:6.24393\n",
      "[80]\tvalidation_0-mae:6.24716\n",
      "[90]\tvalidation_0-mae:6.25025\n",
      "[100]\tvalidation_0-mae:6.25351\n",
      "[107]\tvalidation_0-mae:6.25624\n"
     ]
    },
    {
     "data": {
      "text/html": [
       "<div>\n",
       "<style scoped>\n",
       "    .dataframe tbody tr th:only-of-type {\n",
       "        vertical-align: middle;\n",
       "    }\n",
       "\n",
       "    .dataframe tbody tr th {\n",
       "        vertical-align: top;\n",
       "    }\n",
       "\n",
       "    .dataframe thead th {\n",
       "        text-align: right;\n",
       "    }\n",
       "</style>\n",
       "<table border=\"1\" class=\"dataframe\">\n",
       "  <thead>\n",
       "    <tr style=\"text-align: right;\">\n",
       "      <th></th>\n",
       "      <th>mean</th>\n",
       "    </tr>\n",
       "    <tr>\n",
       "      <th>feature</th>\n",
       "      <th></th>\n",
       "    </tr>\n",
       "  </thead>\n",
       "  <tbody>\n",
       "    <tr>\n",
       "      <th>bid_size</th>\n",
       "      <td>0.189837</td>\n",
       "    </tr>\n",
       "    <tr>\n",
       "      <th>ask_size</th>\n",
       "      <td>0.170331</td>\n",
       "    </tr>\n",
       "    <tr>\n",
       "      <th>imbalance_buy_sell_flag</th>\n",
       "      <td>0.094566</td>\n",
       "    </tr>\n",
       "    <tr>\n",
       "      <th>wap</th>\n",
       "      <td>0.080076</td>\n",
       "    </tr>\n",
       "    <tr>\n",
       "      <th>seconds_in_bucket</th>\n",
       "      <td>0.071004</td>\n",
       "    </tr>\n",
       "    <tr>\n",
       "      <th>bid_price</th>\n",
       "      <td>0.060143</td>\n",
       "    </tr>\n",
       "    <tr>\n",
       "      <th>ask_price</th>\n",
       "      <td>0.059133</td>\n",
       "    </tr>\n",
       "    <tr>\n",
       "      <th>reference_price</th>\n",
       "      <td>0.052605</td>\n",
       "    </tr>\n",
       "    <tr>\n",
       "      <th>imbalance_size</th>\n",
       "      <td>0.048951</td>\n",
       "    </tr>\n",
       "    <tr>\n",
       "      <th>matched_size</th>\n",
       "      <td>0.046431</td>\n",
       "    </tr>\n",
       "    <tr>\n",
       "      <th>near_price</th>\n",
       "      <td>0.044908</td>\n",
       "    </tr>\n",
       "    <tr>\n",
       "      <th>far_price</th>\n",
       "      <td>0.041914</td>\n",
       "    </tr>\n",
       "    <tr>\n",
       "      <th>stock_id</th>\n",
       "      <td>0.040100</td>\n",
       "    </tr>\n",
       "  </tbody>\n",
       "</table>\n",
       "</div>"
      ],
      "text/plain": [
       "                             mean\n",
       "feature                          \n",
       "bid_size                 0.189837\n",
       "ask_size                 0.170331\n",
       "imbalance_buy_sell_flag  0.094566\n",
       "wap                      0.080076\n",
       "seconds_in_bucket        0.071004\n",
       "bid_price                0.060143\n",
       "ask_price                0.059133\n",
       "reference_price          0.052605\n",
       "imbalance_size           0.048951\n",
       "matched_size             0.046431\n",
       "near_price               0.044908\n",
       "far_price                0.041914\n",
       "stock_id                 0.040100"
      ]
     },
     "execution_count": 18,
     "metadata": {},
     "output_type": "execute_result"
    }
   ],
   "source": [
    "\n",
    "from tqdm.notebook import tqdm\n",
    "\n",
    "# Initialize GroupKFold\n",
    "n_splits = 5\n",
    "gkf = GroupKFold(n_splits=n_splits)\n",
    "\n",
    "best_iteration_xgb = []\n",
    "importance_dict = {}\n",
    "feature_importance_df = pd.DataFrame()\n",
    "\n",
    "xgb_params = {\n",
    "    #'booster': 'gbtree',\n",
    "    'objective': 'reg:absoluteerror',\n",
    "    'tree_method': 'gpu_hist', #Change4\n",
    "    'eval_metric':'mae',\n",
    "    'learning_rate': 0.01,\n",
    "    #'alpha': 8,\n",
    "    'max_depth': 6,\n",
    "    'n_estimators': 1000,\n",
    "    'early_stopping_rounds': 90,\n",
    "    #'subsample':0.8,\n",
    "    #'colsample_bytree': 0.5,\n",
    "    'seed': 42\n",
    "}\n",
    "\n",
    "# Perform the split\n",
    "for i, (train_index, test_index) in tqdm(enumerate(gkf.split(X, y, groups))):\n",
    "    X_train, X_test = X.iloc[train_index], X.iloc[test_index]\n",
    "    y_train, y_test = y.iloc[train_index], y.iloc[test_index]\n",
    "\n",
    "    # TRAIN MODEL        \n",
    "    reg =  XGBRegressor(**xgb_params)\n",
    "    reg.fit(X_train[features], y_train.values,\n",
    "            eval_set=[(X_test[features], y_test.values)],\n",
    "            verbose=10)\n",
    "    best_iteration_xgb.append(reg.best_ntree_limit)\n",
    "    \n",
    "    fold_importance_df = pd.DataFrame()\n",
    "    fold_importance_df[\"feature\"] = features\n",
    "    fold_importance_df[\"importance\"] = reg.feature_importances_\n",
    "    fold_importance_df[\"fold\"] = i + 1\n",
    "    feature_importance_df = pd.concat([feature_importance_df, fold_importance_df], axis=0)\n",
    "\n",
    "feature_importance_df = feature_importance_df.groupby(['feature'])['importance'].agg(['mean']).sort_values(by='mean', ascending=False)\n",
    "feature_importance_df"
   ]
  },
  {
   "cell_type": "code",
   "execution_count": 19,
   "id": "2fc88733-25ac-4579-8ffa-d6615f82bb8c",
   "metadata": {},
   "outputs": [
    {
     "data": {
      "text/plain": [
       "[23, 17, 18, 15, 18]"
      ]
     },
     "execution_count": 19,
     "metadata": {},
     "output_type": "execute_result"
    }
   ],
   "source": [
    "best_iteration_xgb"
   ]
  },
  {
   "cell_type": "code",
   "execution_count": 41,
   "id": "a50b73e6-dcb7-4458-8909-7c875e5dfbda",
   "metadata": {
    "tags": []
   },
   "outputs": [],
   "source": [
    "n_est = int(np.median(best_iteration_xgb)+1)\n",
    "xgb_params = {\n",
    "    #'booster': 'gbtree',\n",
    "    'objective': 'reg:absoluteerror',\n",
    "    'tree_method': 'gpu_hist', #Change4\n",
    "    'eval_metric':'mae',\n",
    "    'learning_rate': 0.01,\n",
    "    #'alpha': 8,\n",
    "    'max_depth': 6,\n",
    "    'n_estimators': n_est,\n",
    "\n",
    "    #'subsample':0.8,\n",
    "    #'colsample_bytree': 0.5,\n",
    "    'seed': 42\n",
    "}\n",
    "\n"
   ]
  },
  {
   "cell_type": "code",
   "execution_count": 42,
   "id": "c58d895b-beb1-4b08-83ab-9c6f3cc0f517",
   "metadata": {
    "tags": []
   },
   "outputs": [
    {
     "data": {
      "text/html": [
       "<style>#sk-container-id-1 {color: black;background-color: white;}#sk-container-id-1 pre{padding: 0;}#sk-container-id-1 div.sk-toggleable {background-color: white;}#sk-container-id-1 label.sk-toggleable__label {cursor: pointer;display: block;width: 100%;margin-bottom: 0;padding: 0.3em;box-sizing: border-box;text-align: center;}#sk-container-id-1 label.sk-toggleable__label-arrow:before {content: \"▸\";float: left;margin-right: 0.25em;color: #696969;}#sk-container-id-1 label.sk-toggleable__label-arrow:hover:before {color: black;}#sk-container-id-1 div.sk-estimator:hover label.sk-toggleable__label-arrow:before {color: black;}#sk-container-id-1 div.sk-toggleable__content {max-height: 0;max-width: 0;overflow: hidden;text-align: left;background-color: #f0f8ff;}#sk-container-id-1 div.sk-toggleable__content pre {margin: 0.2em;color: black;border-radius: 0.25em;background-color: #f0f8ff;}#sk-container-id-1 input.sk-toggleable__control:checked~div.sk-toggleable__content {max-height: 200px;max-width: 100%;overflow: auto;}#sk-container-id-1 input.sk-toggleable__control:checked~label.sk-toggleable__label-arrow:before {content: \"▾\";}#sk-container-id-1 div.sk-estimator input.sk-toggleable__control:checked~label.sk-toggleable__label {background-color: #d4ebff;}#sk-container-id-1 div.sk-label input.sk-toggleable__control:checked~label.sk-toggleable__label {background-color: #d4ebff;}#sk-container-id-1 input.sk-hidden--visually {border: 0;clip: rect(1px 1px 1px 1px);clip: rect(1px, 1px, 1px, 1px);height: 1px;margin: -1px;overflow: hidden;padding: 0;position: absolute;width: 1px;}#sk-container-id-1 div.sk-estimator {font-family: monospace;background-color: #f0f8ff;border: 1px dotted black;border-radius: 0.25em;box-sizing: border-box;margin-bottom: 0.5em;}#sk-container-id-1 div.sk-estimator:hover {background-color: #d4ebff;}#sk-container-id-1 div.sk-parallel-item::after {content: \"\";width: 100%;border-bottom: 1px solid gray;flex-grow: 1;}#sk-container-id-1 div.sk-label:hover label.sk-toggleable__label {background-color: #d4ebff;}#sk-container-id-1 div.sk-serial::before {content: \"\";position: absolute;border-left: 1px solid gray;box-sizing: border-box;top: 0;bottom: 0;left: 50%;z-index: 0;}#sk-container-id-1 div.sk-serial {display: flex;flex-direction: column;align-items: center;background-color: white;padding-right: 0.2em;padding-left: 0.2em;position: relative;}#sk-container-id-1 div.sk-item {position: relative;z-index: 1;}#sk-container-id-1 div.sk-parallel {display: flex;align-items: stretch;justify-content: center;background-color: white;position: relative;}#sk-container-id-1 div.sk-item::before, #sk-container-id-1 div.sk-parallel-item::before {content: \"\";position: absolute;border-left: 1px solid gray;box-sizing: border-box;top: 0;bottom: 0;left: 50%;z-index: -1;}#sk-container-id-1 div.sk-parallel-item {display: flex;flex-direction: column;z-index: 1;position: relative;background-color: white;}#sk-container-id-1 div.sk-parallel-item:first-child::after {align-self: flex-end;width: 50%;}#sk-container-id-1 div.sk-parallel-item:last-child::after {align-self: flex-start;width: 50%;}#sk-container-id-1 div.sk-parallel-item:only-child::after {width: 0;}#sk-container-id-1 div.sk-dashed-wrapped {border: 1px dashed gray;margin: 0 0.4em 0.5em 0.4em;box-sizing: border-box;padding-bottom: 0.4em;background-color: white;}#sk-container-id-1 div.sk-label label {font-family: monospace;font-weight: bold;display: inline-block;line-height: 1.2em;}#sk-container-id-1 div.sk-label-container {text-align: center;}#sk-container-id-1 div.sk-container {/* jupyter's `normalize.less` sets `[hidden] { display: none; }` but bootstrap.min.css set `[hidden] { display: none !important; }` so we also need the `!important` here to be able to override the default hidden behavior on the sphinx rendered scikit-learn.org. See: https://github.com/scikit-learn/scikit-learn/issues/21755 */display: inline-block !important;position: relative;}#sk-container-id-1 div.sk-text-repr-fallback {display: none;}</style><div id=\"sk-container-id-1\" class=\"sk-top-container\"><div class=\"sk-text-repr-fallback\"><pre>XGBRegressor(base_score=None, booster=None, callbacks=None,\n",
       "             colsample_bylevel=None, colsample_bynode=None,\n",
       "             colsample_bytree=None, early_stopping_rounds=None,\n",
       "             enable_categorical=False, eval_metric=&#x27;mae&#x27;, feature_types=None,\n",
       "             gamma=None, gpu_id=None, grow_policy=None, importance_type=None,\n",
       "             interaction_constraints=None, learning_rate=0.01, max_bin=None,\n",
       "             max_cat_threshold=None, max_cat_to_onehot=None,\n",
       "             max_delta_step=None, max_depth=6, max_leaves=None,\n",
       "             min_child_weight=None, missing=nan, monotone_constraints=None,\n",
       "             n_estimators=19, n_jobs=None, num_parallel_tree=None,\n",
       "             objective=&#x27;reg:absoluteerror&#x27;, predictor=None, ...)</pre><b>In a Jupyter environment, please rerun this cell to show the HTML representation or trust the notebook. <br />On GitHub, the HTML representation is unable to render, please try loading this page with nbviewer.org.</b></div><div class=\"sk-container\" hidden><div class=\"sk-item\"><div class=\"sk-estimator sk-toggleable\"><input class=\"sk-toggleable__control sk-hidden--visually\" id=\"sk-estimator-id-1\" type=\"checkbox\" checked><label for=\"sk-estimator-id-1\" class=\"sk-toggleable__label sk-toggleable__label-arrow\">XGBRegressor</label><div class=\"sk-toggleable__content\"><pre>XGBRegressor(base_score=None, booster=None, callbacks=None,\n",
       "             colsample_bylevel=None, colsample_bynode=None,\n",
       "             colsample_bytree=None, early_stopping_rounds=None,\n",
       "             enable_categorical=False, eval_metric=&#x27;mae&#x27;, feature_types=None,\n",
       "             gamma=None, gpu_id=None, grow_policy=None, importance_type=None,\n",
       "             interaction_constraints=None, learning_rate=0.01, max_bin=None,\n",
       "             max_cat_threshold=None, max_cat_to_onehot=None,\n",
       "             max_delta_step=None, max_depth=6, max_leaves=None,\n",
       "             min_child_weight=None, missing=nan, monotone_constraints=None,\n",
       "             n_estimators=19, n_jobs=None, num_parallel_tree=None,\n",
       "             objective=&#x27;reg:absoluteerror&#x27;, predictor=None, ...)</pre></div></div></div></div></div>"
      ],
      "text/plain": [
       "XGBRegressor(base_score=None, booster=None, callbacks=None,\n",
       "             colsample_bylevel=None, colsample_bynode=None,\n",
       "             colsample_bytree=None, early_stopping_rounds=None,\n",
       "             enable_categorical=False, eval_metric='mae', feature_types=None,\n",
       "             gamma=None, gpu_id=None, grow_policy=None, importance_type=None,\n",
       "             interaction_constraints=None, learning_rate=0.01, max_bin=None,\n",
       "             max_cat_threshold=None, max_cat_to_onehot=None,\n",
       "             max_delta_step=None, max_depth=6, max_leaves=None,\n",
       "             min_child_weight=None, missing=nan, monotone_constraints=None,\n",
       "             n_estimators=19, n_jobs=None, num_parallel_tree=None,\n",
       "             objective='reg:absoluteerror', predictor=None, ...)"
      ]
     },
     "execution_count": 42,
     "metadata": {},
     "output_type": "execute_result"
    }
   ],
   "source": [
    "reg =  XGBRegressor(**xgb_params)\n",
    "reg.fit(X[features], y,\n",
    "            verbose=1)"
   ]
  },
  {
   "cell_type": "code",
   "execution_count": null,
   "id": "6c591cd5-877f-4963-b214-b6d71b6ffeb6",
   "metadata": {},
   "outputs": [],
   "source": []
  }
 ],
 "metadata": {
  "kernelspec": {
   "display_name": "Python 3 (ipykernel)",
   "language": "python",
   "name": "python3"
  },
  "language_info": {
   "codemirror_mode": {
    "name": "ipython",
    "version": 3
   },
   "file_extension": ".py",
   "mimetype": "text/x-python",
   "name": "python",
   "nbconvert_exporter": "python",
   "pygments_lexer": "ipython3",
   "version": "3.10.12"
  }
 },
 "nbformat": 4,
 "nbformat_minor": 5
}
