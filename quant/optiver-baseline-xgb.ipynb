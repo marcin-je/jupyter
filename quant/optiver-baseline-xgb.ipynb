{
 "cells": [
  {
   "cell_type": "code",
   "execution_count": 1,
   "id": "f3082c34-253f-479e-9a2b-8d30283c6171",
   "metadata": {
    "tags": []
   },
   "outputs": [
    {
     "name": "stdout",
     "output_type": "stream",
     "text": [
      "We will use RAPIDS version 23.10.01\n"
     ]
    }
   ],
   "source": [
    "import cudf as pd #Change1\n",
    "import numpy as np\n",
    "import pandas as pdx\n",
    "from sklearn.model_selection import KFold, GroupKFold\n",
    "from xgboost import XGBRegressor\n",
    "from sklearn.metrics import f1_score\n",
    "import matplotlib.pyplot as plt\n",
    "from tqdm.notebook import tqdm\n",
    "from collections import defaultdict\n",
    "import warnings\n",
    "from itertools import combinations\n",
    "import gc\n",
    "import pickle\n",
    "import warnings\n",
    "warnings.filterwarnings('ignore')\n",
    "\n",
    "print('We will use RAPIDS version',pd.__version__)\n",
    "from sklearn.model_selection import TimeSeriesSplit\n",
    "from sklearn.metrics import r2_score, mean_absolute_error\n",
    "\n",
    "train = pd.read_csv('/kaggle/input/optiver-trading-at-the-close/train.csv')\n",
    "plt.rcParams.update({'font.size': 16})"
   ]
  },
  {
   "cell_type": "code",
   "execution_count": 2,
   "id": "cdaca0e0-dfd2-4e2d-a557-80837824cfc4",
   "metadata": {
    "tags": []
   },
   "outputs": [
    {
     "name": "stdout",
     "output_type": "stream",
     "text": [
      "['stock_id', 'seconds_in_bucket', 'imbalance_size', 'imbalance_buy_sell_flag', 'reference_price', 'matched_size', 'far_price', 'near_price', 'bid_price', 'bid_size', 'ask_price', 'ask_size', 'wap']\n"
     ]
    }
   ],
   "source": [
    "features = [col for col in train.columns if col not in ['row_id', 'time_id', 'date_id', 'target']]\n",
    "print(features)"
   ]
  },
  {
   "cell_type": "code",
   "execution_count": 3,
   "id": "fe709add-dcf7-44e9-99c6-e9ac807d9fd0",
   "metadata": {
    "tags": []
   },
   "outputs": [],
   "source": [
    "cat_cols = ['stock_id', 'imbalance_buy_sell_flag']\n",
    "num_cols = ['seconds_in_bucket', 'imbalance_size',  'reference_price', 'matched_size', 'far_price', 'near_price', 'bid_price', 'bid_size', 'ask_price', 'ask_size', 'wap']\n",
    "\n",
    "\n",
    "cols_fill_nan = [\n",
    "    'imbalance_size', 'reference_price', 'matched_size', 'wap',\n",
    "    'bid_price', 'bid_size', 'ask_price', 'ask_size', \n",
    "    'stock_id', 'seconds_in_bucket', 'imbalance_buy_sell_flag']"
   ]
  },
  {
   "cell_type": "code",
   "execution_count": 4,
   "id": "8b781b45-5249-47aa-86fa-2ddb4c53f5d0",
   "metadata": {
    "tags": []
   },
   "outputs": [
    {
     "data": {
      "text/plain": [
       "stock_id                    0\n",
       "date_id                     0\n",
       "seconds_in_bucket           0\n",
       "imbalance_size              0\n",
       "imbalance_buy_sell_flag     0\n",
       "reference_price             0\n",
       "matched_size                0\n",
       "far_price                   0\n",
       "near_price                  0\n",
       "bid_price                   0\n",
       "bid_size                    0\n",
       "ask_price                   0\n",
       "ask_size                    0\n",
       "wap                         0\n",
       "target                     88\n",
       "time_id                     0\n",
       "row_id                      0\n",
       "bid_size_not_norm           0\n",
       "ask_size_not_norm           0\n",
       "dtype: int64"
      ]
     },
     "metadata": {},
     "output_type": "display_data"
    },
    {
     "name": "stdout",
     "output_type": "stream",
     "text": [
      "before drop dataset size: 5237980\n",
      "after drop dataset size: 5237892\n"
     ]
    }
   ],
   "source": [
    "train['far_price'].fillna(0, inplace=True)\n",
    "train['near_price'].fillna(1, inplace=True)\n",
    "train['bid_size_not_norm']=train['bid_size']\n",
    "train['ask_size_not_norm']=train['ask_size']\n",
    "\n",
    "\n",
    "cols_group_by = ['date_id', 'seconds_in_bucket']\n",
    "cols_fill_nan = [\n",
    "    'imbalance_size', 'reference_price', 'matched_size', 'wap',\n",
    "    'bid_price', 'bid_size', 'ask_price', 'ask_size', \n",
    "    'stock_id', 'seconds_in_bucket', 'imbalance_buy_sell_flag', 'bid_size_not_norm', 'ask_size_not_norm']\n",
    "train_grouped_median = train.groupby(cols_group_by)[cols_fill_nan].transform('median')\n",
    "\n",
    "train[cols_fill_nan] = train[cols_fill_nan].fillna(train_grouped_median)\n",
    "\n",
    "display(train.isnull().sum())\n",
    "print(f\"before drop dataset size: {len(train)}\")\n",
    "train.dropna(inplace=True)\n",
    "print(f\"after drop dataset size: {len(train)}\")\n",
    "                                                                                "
   ]
  },
  {
   "cell_type": "code",
   "execution_count": 5,
   "id": "ac5572f5-5710-44b6-9020-8c247a928a73",
   "metadata": {
    "tags": []
   },
   "outputs": [
    {
     "name": "stdout",
     "output_type": "stream",
     "text": [
      "11\n"
     ]
    }
   ],
   "source": [
    "from sklearn.preprocessing import RobustScaler, QuantileTransformer\n",
    "\n",
    "X = train.to_pandas().drop(columns=['target'])  # Your features\n",
    "#X[cat_cols] = X[cat_cols].astype(\"category\")\n",
    "y = train.to_pandas()['target']  # Your target variable\n",
    "\n",
    "num_cols = [feature for feature in features if feature not in cat_cols]\n",
    "print(len(num_cols))\n",
    "\n",
    "X[num_cols] = X[num_cols].astype('float32')\n",
    "\n",
    "\n",
    "robust_scaler = QuantileTransformer(output_distribution='normal')\n",
    "X[num_cols] = robust_scaler.fit_transform(X[num_cols])\n",
    "\n",
    "groups = train.to_pandas()['date_id'] # Extracting just the 'time_id' column for grouping"
   ]
  },
  {
   "cell_type": "code",
   "execution_count": 6,
   "id": "37903741-c5aa-40a3-b971-3e00ac8dfe4c",
   "metadata": {
    "tags": []
   },
   "outputs": [
    {
     "data": {
      "text/plain": [
       "0            0\n",
       "1            0\n",
       "2            0\n",
       "3            0\n",
       "4            0\n",
       "          ... \n",
       "5237887    480\n",
       "5237888    480\n",
       "5237889    480\n",
       "5237890    480\n",
       "5237891    480\n",
       "Name: date_id, Length: 5237892, dtype: int64"
      ]
     },
     "execution_count": 6,
     "metadata": {},
     "output_type": "execute_result"
    }
   ],
   "source": [
    "groups.reset_index(inplace=True, drop=True)\n",
    "\n",
    "groups"
   ]
  },
  {
   "cell_type": "code",
   "execution_count": 7,
   "id": "781402e5-81b2-45b5-afca-7f9a509695b6",
   "metadata": {
    "tags": []
   },
   "outputs": [
    {
     "name": "stdout",
     "output_type": "stream",
     "text": [
      "==========={i}===========\n",
      "[0]\tvalidation_0-mae:6.43606\n",
      "[200]\tvalidation_0-mae:6.36772\n",
      "[400]\tvalidation_0-mae:6.34863\n",
      "[600]\tvalidation_0-mae:6.33989\n",
      "[800]\tvalidation_0-mae:6.33486\n",
      "[1000]\tvalidation_0-mae:6.33022\n",
      "[1200]\tvalidation_0-mae:6.32701\n",
      "[1400]\tvalidation_0-mae:6.32400\n",
      "[1600]\tvalidation_0-mae:6.32156\n",
      "[1800]\tvalidation_0-mae:6.31985\n",
      "[2000]\tvalidation_0-mae:6.31855\n",
      "[2200]\tvalidation_0-mae:6.31722\n",
      "[2400]\tvalidation_0-mae:6.31612\n",
      "[2600]\tvalidation_0-mae:6.31521\n",
      "[2800]\tvalidation_0-mae:6.31436\n",
      "[3000]\tvalidation_0-mae:6.31374\n",
      "[3200]\tvalidation_0-mae:6.31306\n",
      "[3400]\tvalidation_0-mae:6.31245\n",
      "[3600]\tvalidation_0-mae:6.31203\n",
      "[3800]\tvalidation_0-mae:6.31154\n",
      "[4000]\tvalidation_0-mae:6.31113\n",
      "[4200]\tvalidation_0-mae:6.31066\n",
      "[4400]\tvalidation_0-mae:6.31029\n",
      "[4600]\tvalidation_0-mae:6.31005\n",
      "[4800]\tvalidation_0-mae:6.30979\n",
      "[5000]\tvalidation_0-mae:6.30958\n",
      "[5200]\tvalidation_0-mae:6.30945\n",
      "[5400]\tvalidation_0-mae:6.30919\n",
      "[5600]\tvalidation_0-mae:6.30901\n",
      "[5800]\tvalidation_0-mae:6.30884\n",
      "[6000]\tvalidation_0-mae:6.30864\n",
      "[6200]\tvalidation_0-mae:6.30847\n",
      "[6400]\tvalidation_0-mae:6.30836\n",
      "[6600]\tvalidation_0-mae:6.30832\n",
      "[6800]\tvalidation_0-mae:6.30823\n",
      "[7000]\tvalidation_0-mae:6.30816\n",
      "[7024]\tvalidation_0-mae:6.30817\n",
      "==========={i}===========\n",
      "[0]\tvalidation_0-mae:6.55969\n",
      "[200]\tvalidation_0-mae:6.48994\n",
      "[400]\tvalidation_0-mae:6.47048\n",
      "[600]\tvalidation_0-mae:6.46157\n",
      "[800]\tvalidation_0-mae:6.45618\n",
      "[1000]\tvalidation_0-mae:6.45215\n",
      "[1200]\tvalidation_0-mae:6.44770\n",
      "[1400]\tvalidation_0-mae:6.44413\n",
      "[1600]\tvalidation_0-mae:6.44139\n",
      "[1800]\tvalidation_0-mae:6.43945\n",
      "[2000]\tvalidation_0-mae:6.43756\n",
      "[2200]\tvalidation_0-mae:6.43613\n",
      "[2400]\tvalidation_0-mae:6.43500\n",
      "[2600]\tvalidation_0-mae:6.43405\n",
      "[2800]\tvalidation_0-mae:6.43316\n",
      "[3000]\tvalidation_0-mae:6.43251\n",
      "[3200]\tvalidation_0-mae:6.43186\n",
      "[3400]\tvalidation_0-mae:6.43125\n",
      "[3600]\tvalidation_0-mae:6.43068\n",
      "[3800]\tvalidation_0-mae:6.43021\n",
      "[4000]\tvalidation_0-mae:6.42981\n",
      "[4200]\tvalidation_0-mae:6.42941\n",
      "[4400]\tvalidation_0-mae:6.42895\n",
      "[4600]\tvalidation_0-mae:6.42858\n",
      "[4800]\tvalidation_0-mae:6.42822\n",
      "[5000]\tvalidation_0-mae:6.42797\n",
      "[5200]\tvalidation_0-mae:6.42771\n",
      "[5400]\tvalidation_0-mae:6.42757\n",
      "[5570]\tvalidation_0-mae:6.42751\n",
      "==========={i}===========\n",
      "[0]\tvalidation_0-mae:6.46820\n",
      "[200]\tvalidation_0-mae:6.40388\n",
      "[400]\tvalidation_0-mae:6.38561\n",
      "[600]\tvalidation_0-mae:6.37619\n",
      "[800]\tvalidation_0-mae:6.37095\n",
      "[1000]\tvalidation_0-mae:6.36653\n",
      "[1200]\tvalidation_0-mae:6.36262\n",
      "[1400]\tvalidation_0-mae:6.35950\n",
      "[1600]\tvalidation_0-mae:6.35711\n",
      "[1800]\tvalidation_0-mae:6.35510\n",
      "[2000]\tvalidation_0-mae:6.35354\n",
      "[2200]\tvalidation_0-mae:6.35231\n",
      "[2400]\tvalidation_0-mae:6.35131\n",
      "[2600]\tvalidation_0-mae:6.35027\n",
      "[2800]\tvalidation_0-mae:6.34945\n",
      "[3000]\tvalidation_0-mae:6.34881\n",
      "[3200]\tvalidation_0-mae:6.34818\n",
      "[3400]\tvalidation_0-mae:6.34777\n",
      "[3600]\tvalidation_0-mae:6.34719\n",
      "[3800]\tvalidation_0-mae:6.34683\n",
      "[4000]\tvalidation_0-mae:6.34649\n",
      "[4200]\tvalidation_0-mae:6.34609\n",
      "[4400]\tvalidation_0-mae:6.34582\n",
      "[4600]\tvalidation_0-mae:6.34567\n",
      "[4800]\tvalidation_0-mae:6.34544\n",
      "[5000]\tvalidation_0-mae:6.34523\n",
      "[5200]\tvalidation_0-mae:6.34500\n",
      "[5400]\tvalidation_0-mae:6.34476\n",
      "[5600]\tvalidation_0-mae:6.34468\n",
      "[5800]\tvalidation_0-mae:6.34454\n",
      "[6000]\tvalidation_0-mae:6.34442\n",
      "[6200]\tvalidation_0-mae:6.34436\n",
      "[6400]\tvalidation_0-mae:6.34422\n",
      "[6600]\tvalidation_0-mae:6.34412\n",
      "[6800]\tvalidation_0-mae:6.34397\n",
      "[7000]\tvalidation_0-mae:6.34385\n",
      "[7200]\tvalidation_0-mae:6.34379\n",
      "[7398]\tvalidation_0-mae:6.34375\n",
      "==========={i}===========\n",
      "[0]\tvalidation_0-mae:6.24925\n",
      "[200]\tvalidation_0-mae:6.18050\n",
      "[400]\tvalidation_0-mae:6.16333\n",
      "[600]\tvalidation_0-mae:6.15527\n",
      "[800]\tvalidation_0-mae:6.15008\n",
      "[1000]\tvalidation_0-mae:6.14575\n",
      "[1200]\tvalidation_0-mae:6.14210\n",
      "[1400]\tvalidation_0-mae:6.13902\n",
      "[1600]\tvalidation_0-mae:6.13653\n",
      "[1800]\tvalidation_0-mae:6.13449\n",
      "[2000]\tvalidation_0-mae:6.13269\n",
      "[2200]\tvalidation_0-mae:6.13131\n",
      "[2400]\tvalidation_0-mae:6.13040\n",
      "[2600]\tvalidation_0-mae:6.12953\n",
      "[2800]\tvalidation_0-mae:6.12874\n",
      "[3000]\tvalidation_0-mae:6.12796\n",
      "[3200]\tvalidation_0-mae:6.12723\n",
      "[3400]\tvalidation_0-mae:6.12661\n",
      "[3600]\tvalidation_0-mae:6.12605\n",
      "[3800]\tvalidation_0-mae:6.12568\n",
      "[4000]\tvalidation_0-mae:6.12525\n",
      "[4200]\tvalidation_0-mae:6.12488\n",
      "[4400]\tvalidation_0-mae:6.12459\n",
      "[4600]\tvalidation_0-mae:6.12432\n",
      "[4800]\tvalidation_0-mae:6.12397\n",
      "[5000]\tvalidation_0-mae:6.12371\n",
      "[5200]\tvalidation_0-mae:6.12346\n",
      "[5400]\tvalidation_0-mae:6.12333\n",
      "[5600]\tvalidation_0-mae:6.12315\n",
      "[5800]\tvalidation_0-mae:6.12304\n",
      "[6000]\tvalidation_0-mae:6.12298\n",
      "[6105]\tvalidation_0-mae:6.12298\n",
      "==========={i}===========\n",
      "[0]\tvalidation_0-mae:6.31783\n",
      "[200]\tvalidation_0-mae:6.25073\n",
      "[400]\tvalidation_0-mae:6.23342\n",
      "[600]\tvalidation_0-mae:6.22482\n",
      "[800]\tvalidation_0-mae:6.22017\n",
      "[1000]\tvalidation_0-mae:6.21602\n",
      "[1200]\tvalidation_0-mae:6.21185\n",
      "[1400]\tvalidation_0-mae:6.20919\n",
      "[1600]\tvalidation_0-mae:6.20694\n",
      "[1800]\tvalidation_0-mae:6.20512\n",
      "[2000]\tvalidation_0-mae:6.20347\n",
      "[2200]\tvalidation_0-mae:6.20218\n",
      "[2400]\tvalidation_0-mae:6.20123\n",
      "[2600]\tvalidation_0-mae:6.20035\n",
      "[2800]\tvalidation_0-mae:6.19960\n",
      "[3000]\tvalidation_0-mae:6.19880\n",
      "[3200]\tvalidation_0-mae:6.19821\n",
      "[3400]\tvalidation_0-mae:6.19767\n",
      "[3600]\tvalidation_0-mae:6.19713\n",
      "[3800]\tvalidation_0-mae:6.19660\n",
      "[4000]\tvalidation_0-mae:6.19618\n",
      "[4200]\tvalidation_0-mae:6.19582\n",
      "[4400]\tvalidation_0-mae:6.19554\n",
      "[4600]\tvalidation_0-mae:6.19526\n",
      "[4800]\tvalidation_0-mae:6.19500\n",
      "[5000]\tvalidation_0-mae:6.19478\n",
      "[5200]\tvalidation_0-mae:6.19459\n",
      "[5400]\tvalidation_0-mae:6.19451\n",
      "[5600]\tvalidation_0-mae:6.19436\n",
      "[5800]\tvalidation_0-mae:6.19425\n",
      "[6000]\tvalidation_0-mae:6.19413\n",
      "[6200]\tvalidation_0-mae:6.19405\n",
      "[6400]\tvalidation_0-mae:6.19395\n",
      "[6600]\tvalidation_0-mae:6.19385\n",
      "[6800]\tvalidation_0-mae:6.19372\n",
      "[7000]\tvalidation_0-mae:6.19365\n",
      "[7200]\tvalidation_0-mae:6.19355\n",
      "[7400]\tvalidation_0-mae:6.19350\n",
      "[7417]\tvalidation_0-mae:6.19350\n"
     ]
    },
    {
     "data": {
      "text/html": [
       "<div>\n",
       "<style scoped>\n",
       "    .dataframe tbody tr th:only-of-type {\n",
       "        vertical-align: middle;\n",
       "    }\n",
       "\n",
       "    .dataframe tbody tr th {\n",
       "        vertical-align: top;\n",
       "    }\n",
       "\n",
       "    .dataframe thead th {\n",
       "        text-align: right;\n",
       "    }\n",
       "</style>\n",
       "<table border=\"1\" class=\"dataframe\">\n",
       "  <thead>\n",
       "    <tr style=\"text-align: right;\">\n",
       "      <th></th>\n",
       "      <th>mean</th>\n",
       "    </tr>\n",
       "    <tr>\n",
       "      <th>feature</th>\n",
       "      <th></th>\n",
       "    </tr>\n",
       "  </thead>\n",
       "  <tbody>\n",
       "    <tr>\n",
       "      <th>ask_size</th>\n",
       "      <td>0.172057</td>\n",
       "    </tr>\n",
       "    <tr>\n",
       "      <th>bid_size</th>\n",
       "      <td>0.168658</td>\n",
       "    </tr>\n",
       "    <tr>\n",
       "      <th>imbalance_buy_sell_flag</th>\n",
       "      <td>0.094896</td>\n",
       "    </tr>\n",
       "    <tr>\n",
       "      <th>seconds_in_bucket</th>\n",
       "      <td>0.072854</td>\n",
       "    </tr>\n",
       "    <tr>\n",
       "      <th>wap</th>\n",
       "      <td>0.068957</td>\n",
       "    </tr>\n",
       "    <tr>\n",
       "      <th>bid_price</th>\n",
       "      <td>0.067881</td>\n",
       "    </tr>\n",
       "    <tr>\n",
       "      <th>ask_price</th>\n",
       "      <td>0.065639</td>\n",
       "    </tr>\n",
       "    <tr>\n",
       "      <th>reference_price</th>\n",
       "      <td>0.060084</td>\n",
       "    </tr>\n",
       "    <tr>\n",
       "      <th>matched_size</th>\n",
       "      <td>0.048515</td>\n",
       "    </tr>\n",
       "    <tr>\n",
       "      <th>imbalance_size</th>\n",
       "      <td>0.048513</td>\n",
       "    </tr>\n",
       "    <tr>\n",
       "      <th>near_price</th>\n",
       "      <td>0.047609</td>\n",
       "    </tr>\n",
       "    <tr>\n",
       "      <th>far_price</th>\n",
       "      <td>0.043728</td>\n",
       "    </tr>\n",
       "    <tr>\n",
       "      <th>stock_id</th>\n",
       "      <td>0.040608</td>\n",
       "    </tr>\n",
       "  </tbody>\n",
       "</table>\n",
       "</div>"
      ],
      "text/plain": [
       "                             mean\n",
       "feature                          \n",
       "ask_size                 0.172057\n",
       "bid_size                 0.168658\n",
       "imbalance_buy_sell_flag  0.094896\n",
       "seconds_in_bucket        0.072854\n",
       "wap                      0.068957\n",
       "bid_price                0.067881\n",
       "ask_price                0.065639\n",
       "reference_price          0.060084\n",
       "matched_size             0.048515\n",
       "imbalance_size           0.048513\n",
       "near_price               0.047609\n",
       "far_price                0.043728\n",
       "stock_id                 0.040608"
      ]
     },
     "execution_count": 7,
     "metadata": {},
     "output_type": "execute_result"
    }
   ],
   "source": [
    "\n",
    "from tqdm.notebook import tqdm\n",
    "\n",
    "# Initialize GroupKFold\n",
    "n_splits = 5\n",
    "gkf = GroupKFold(n_splits=n_splits)\n",
    "\n",
    "best_iteration_xgb = []\n",
    "importance_dict = {}\n",
    "feature_importance_df = pdx.DataFrame()\n",
    "\n",
    "models = []\n",
    "\n",
    "xgb_params = {\n",
    "    #'booster': 'gbtree',\n",
    "    'objective': 'reg:absoluteerror',\n",
    "    'tree_method': 'hist', #Change4\n",
    "    'eval_metric':'mae',\n",
    "    'learning_rate': 0.01,\n",
    "    'grow_policy': 'lossguide',\n",
    "    #'alpha': 8,\n",
    "    'max_depth': 6,\n",
    "    'n_estimators': 10000,\n",
    "    'early_stopping_rounds': 90,\n",
    "    #'subsample':0.8,\n",
    "    #'colsample_bytree': 0.5,\n",
    "    'seed': 42\n",
    "}\n",
    "\n",
    "# Perform the split\n",
    "for i, (train_index, test_index) in enumerate(gkf.split(X, y, groups)):\n",
    "    print(\"==========={i}===========\")\n",
    "    X_train, X_test = X.iloc[train_index], X.iloc[test_index]\n",
    "    y_train, y_test = y.iloc[train_index], y.iloc[test_index]\n",
    "\n",
    "    # TRAIN MODEL        \n",
    "    reg =  XGBRegressor( device=\"cuda\" , **xgb_params)\n",
    "\n",
    "    reg.fit(X_train[features], y_train.values,\n",
    "            eval_set=[(X_test[features], y_test.values)],\n",
    "            verbose=200)\n",
    "    models.append(reg)\n",
    "    best_iteration_xgb.append(reg.best_iteration)\n",
    "    \n",
    "    fold_importance_df = pdx.DataFrame()\n",
    "    fold_importance_df[\"feature\"] = features\n",
    "    fold_importance_df[\"importance\"] = reg.feature_importances_\n",
    "    fold_importance_df[\"fold\"] = i + 1\n",
    "    feature_importance_df = pdx.concat([feature_importance_df, fold_importance_df], axis=0)\n",
    "\n",
    "feature_importance_df = feature_importance_df.groupby(['feature'])['importance'].agg(['mean']).sort_values(by='mean', ascending=False)\n",
    "feature_importance_df"
   ]
  },
  {
   "cell_type": "code",
   "execution_count": 8,
   "id": "2fc88733-25ac-4579-8ffa-d6615f82bb8c",
   "metadata": {},
   "outputs": [
    {
     "data": {
      "text/plain": [
       "[6935, 5481, 7308, 6016, 7328]"
      ]
     },
     "execution_count": 8,
     "metadata": {},
     "output_type": "execute_result"
    }
   ],
   "source": [
    "best_iteration_xgb"
   ]
  },
  {
   "cell_type": "code",
   "execution_count": 9,
   "id": "a50b73e6-dcb7-4458-8909-7c875e5dfbda",
   "metadata": {
    "tags": []
   },
   "outputs": [],
   "source": [
    "n_est = int(np.median(best_iteration_xgb)+1)\n",
    "xgb_params = {\n",
    "    #'booster': 'gbtree',\n",
    "    'objective': 'reg:absoluteerror',\n",
    "    'tree_method': 'hist', #Change4\n",
    "    'eval_metric':'mae',\n",
    "    'learning_rate': 0.01,\n",
    "    'grow_policy': 'lossguide',\n",
    "    #'alpha': 8,\n",
    "    'max_depth': 6,\n",
    "    'n_estimators': n_est,\n",
    "\n",
    "    #'subsample':0.8,\n",
    "    #'colsample_bytree': 0.5,\n",
    "    'seed': 42\n",
    "}\n",
    "\n"
   ]
  },
  {
   "cell_type": "code",
   "execution_count": 10,
   "id": "8a4d2505-878b-4a1e-89df-3f5ee3a245b6",
   "metadata": {},
   "outputs": [],
   "source": [
    "from sklearn.metrics import mean_absolute_error, mean_absolute_percentage_error\n",
    "from sklearn.model_selection import GroupShuffleSplit\n",
    "\n",
    "gss = GroupShuffleSplit(n_splits=1, train_size=0.8, random_state=42)\n",
    "train_idx, valid_idx = next(gss.split(X, groups=X['date_id']))\n",
    "\n",
    "train_X = X.iloc[train_idx]\n",
    "valid_X = X.iloc[valid_idx]\n",
    "\n",
    "train_y = y.iloc[train_idx]\n",
    "valid_y = y.iloc[valid_idx]\n",
    "\n"
   ]
  },
  {
   "cell_type": "code",
   "execution_count": 11,
   "id": "3bdb22d6-4005-47b2-9526-335394611ee3",
   "metadata": {},
   "outputs": [
    {
     "name": "stdout",
     "output_type": "stream",
     "text": [
      "[0]\tvalidation_0-mae:6.18835\n",
      "[200]\tvalidation_0-mae:6.12209\n",
      "[400]\tvalidation_0-mae:6.10476\n",
      "[600]\tvalidation_0-mae:6.09739\n",
      "[800]\tvalidation_0-mae:6.09275\n",
      "[1000]\tvalidation_0-mae:6.08856\n",
      "[1200]\tvalidation_0-mae:6.08562\n",
      "[1400]\tvalidation_0-mae:6.08280\n",
      "[1600]\tvalidation_0-mae:6.08019\n",
      "[1800]\tvalidation_0-mae:6.07846\n",
      "[2000]\tvalidation_0-mae:6.07714\n",
      "[2200]\tvalidation_0-mae:6.07584\n",
      "[2400]\tvalidation_0-mae:6.07492\n",
      "[2600]\tvalidation_0-mae:6.07409\n",
      "[2800]\tvalidation_0-mae:6.07331\n",
      "[3000]\tvalidation_0-mae:6.07276\n",
      "[3200]\tvalidation_0-mae:6.07215\n",
      "[3400]\tvalidation_0-mae:6.07158\n",
      "[3600]\tvalidation_0-mae:6.07114\n",
      "[3800]\tvalidation_0-mae:6.07076\n",
      "[4000]\tvalidation_0-mae:6.07038\n",
      "[4200]\tvalidation_0-mae:6.07001\n",
      "[4400]\tvalidation_0-mae:6.06974\n",
      "[4600]\tvalidation_0-mae:6.06944\n",
      "[4800]\tvalidation_0-mae:6.06924\n",
      "[5000]\tvalidation_0-mae:6.06901\n",
      "[5200]\tvalidation_0-mae:6.06883\n",
      "[5400]\tvalidation_0-mae:6.06869\n",
      "[5600]\tvalidation_0-mae:6.06851\n",
      "[5800]\tvalidation_0-mae:6.06836\n",
      "[6000]\tvalidation_0-mae:6.06824\n",
      "[6200]\tvalidation_0-mae:6.06814\n",
      "[6400]\tvalidation_0-mae:6.06815\n",
      "[6600]\tvalidation_0-mae:6.06813\n",
      "[6800]\tvalidation_0-mae:6.06804\n",
      "[6935]\tvalidation_0-mae:6.06805\n"
     ]
    },
    {
     "data": {
      "text/html": [
       "<style>#sk-container-id-1 {color: black;}#sk-container-id-1 pre{padding: 0;}#sk-container-id-1 div.sk-toggleable {background-color: white;}#sk-container-id-1 label.sk-toggleable__label {cursor: pointer;display: block;width: 100%;margin-bottom: 0;padding: 0.3em;box-sizing: border-box;text-align: center;}#sk-container-id-1 label.sk-toggleable__label-arrow:before {content: \"▸\";float: left;margin-right: 0.25em;color: #696969;}#sk-container-id-1 label.sk-toggleable__label-arrow:hover:before {color: black;}#sk-container-id-1 div.sk-estimator:hover label.sk-toggleable__label-arrow:before {color: black;}#sk-container-id-1 div.sk-toggleable__content {max-height: 0;max-width: 0;overflow: hidden;text-align: left;background-color: #f0f8ff;}#sk-container-id-1 div.sk-toggleable__content pre {margin: 0.2em;color: black;border-radius: 0.25em;background-color: #f0f8ff;}#sk-container-id-1 input.sk-toggleable__control:checked~div.sk-toggleable__content {max-height: 200px;max-width: 100%;overflow: auto;}#sk-container-id-1 input.sk-toggleable__control:checked~label.sk-toggleable__label-arrow:before {content: \"▾\";}#sk-container-id-1 div.sk-estimator input.sk-toggleable__control:checked~label.sk-toggleable__label {background-color: #d4ebff;}#sk-container-id-1 div.sk-label input.sk-toggleable__control:checked~label.sk-toggleable__label {background-color: #d4ebff;}#sk-container-id-1 input.sk-hidden--visually {border: 0;clip: rect(1px 1px 1px 1px);clip: rect(1px, 1px, 1px, 1px);height: 1px;margin: -1px;overflow: hidden;padding: 0;position: absolute;width: 1px;}#sk-container-id-1 div.sk-estimator {font-family: monospace;background-color: #f0f8ff;border: 1px dotted black;border-radius: 0.25em;box-sizing: border-box;margin-bottom: 0.5em;}#sk-container-id-1 div.sk-estimator:hover {background-color: #d4ebff;}#sk-container-id-1 div.sk-parallel-item::after {content: \"\";width: 100%;border-bottom: 1px solid gray;flex-grow: 1;}#sk-container-id-1 div.sk-label:hover label.sk-toggleable__label {background-color: #d4ebff;}#sk-container-id-1 div.sk-serial::before {content: \"\";position: absolute;border-left: 1px solid gray;box-sizing: border-box;top: 0;bottom: 0;left: 50%;z-index: 0;}#sk-container-id-1 div.sk-serial {display: flex;flex-direction: column;align-items: center;background-color: white;padding-right: 0.2em;padding-left: 0.2em;position: relative;}#sk-container-id-1 div.sk-item {position: relative;z-index: 1;}#sk-container-id-1 div.sk-parallel {display: flex;align-items: stretch;justify-content: center;background-color: white;position: relative;}#sk-container-id-1 div.sk-item::before, #sk-container-id-1 div.sk-parallel-item::before {content: \"\";position: absolute;border-left: 1px solid gray;box-sizing: border-box;top: 0;bottom: 0;left: 50%;z-index: -1;}#sk-container-id-1 div.sk-parallel-item {display: flex;flex-direction: column;z-index: 1;position: relative;background-color: white;}#sk-container-id-1 div.sk-parallel-item:first-child::after {align-self: flex-end;width: 50%;}#sk-container-id-1 div.sk-parallel-item:last-child::after {align-self: flex-start;width: 50%;}#sk-container-id-1 div.sk-parallel-item:only-child::after {width: 0;}#sk-container-id-1 div.sk-dashed-wrapped {border: 1px dashed gray;margin: 0 0.4em 0.5em 0.4em;box-sizing: border-box;padding-bottom: 0.4em;background-color: white;}#sk-container-id-1 div.sk-label label {font-family: monospace;font-weight: bold;display: inline-block;line-height: 1.2em;}#sk-container-id-1 div.sk-label-container {text-align: center;}#sk-container-id-1 div.sk-container {/* jupyter's `normalize.less` sets `[hidden] { display: none; }` but bootstrap.min.css set `[hidden] { display: none !important; }` so we also need the `!important` here to be able to override the default hidden behavior on the sphinx rendered scikit-learn.org. See: https://github.com/scikit-learn/scikit-learn/issues/21755 */display: inline-block !important;position: relative;}#sk-container-id-1 div.sk-text-repr-fallback {display: none;}</style><div id=\"sk-container-id-1\" class=\"sk-top-container\"><div class=\"sk-text-repr-fallback\"><pre>XGBRegressor(base_score=None, booster=None, callbacks=None,\n",
       "             colsample_bylevel=None, colsample_bynode=None,\n",
       "             colsample_bytree=None, device=&#x27;cuda&#x27;, early_stopping_rounds=None,\n",
       "             enable_categorical=False, eval_metric=&#x27;mae&#x27;, feature_types=None,\n",
       "             gamma=None, grow_policy=&#x27;lossguide&#x27;, importance_type=None,\n",
       "             interaction_constraints=None, learning_rate=0.01, max_bin=None,\n",
       "             max_cat_threshold=None, max_cat_to_onehot=None,\n",
       "             max_delta_step=None, max_depth=6, max_leaves=None,\n",
       "             min_child_weight=None, missing=nan, monotone_constraints=None,\n",
       "             multi_strategy=None, n_estimators=6936, n_jobs=None,\n",
       "             num_parallel_tree=None, objective=&#x27;reg:absoluteerror&#x27;, ...)</pre><b>In a Jupyter environment, please rerun this cell to show the HTML representation or trust the notebook. <br />On GitHub, the HTML representation is unable to render, please try loading this page with nbviewer.org.</b></div><div class=\"sk-container\" hidden><div class=\"sk-item\"><div class=\"sk-estimator sk-toggleable\"><input class=\"sk-toggleable__control sk-hidden--visually\" id=\"sk-estimator-id-1\" type=\"checkbox\" checked><label for=\"sk-estimator-id-1\" class=\"sk-toggleable__label sk-toggleable__label-arrow\">XGBRegressor</label><div class=\"sk-toggleable__content\"><pre>XGBRegressor(base_score=None, booster=None, callbacks=None,\n",
       "             colsample_bylevel=None, colsample_bynode=None,\n",
       "             colsample_bytree=None, device=&#x27;cuda&#x27;, early_stopping_rounds=None,\n",
       "             enable_categorical=False, eval_metric=&#x27;mae&#x27;, feature_types=None,\n",
       "             gamma=None, grow_policy=&#x27;lossguide&#x27;, importance_type=None,\n",
       "             interaction_constraints=None, learning_rate=0.01, max_bin=None,\n",
       "             max_cat_threshold=None, max_cat_to_onehot=None,\n",
       "             max_delta_step=None, max_depth=6, max_leaves=None,\n",
       "             min_child_weight=None, missing=nan, monotone_constraints=None,\n",
       "             multi_strategy=None, n_estimators=6936, n_jobs=None,\n",
       "             num_parallel_tree=None, objective=&#x27;reg:absoluteerror&#x27;, ...)</pre></div></div></div></div></div>"
      ],
      "text/plain": [
       "XGBRegressor(base_score=None, booster=None, callbacks=None,\n",
       "             colsample_bylevel=None, colsample_bynode=None,\n",
       "             colsample_bytree=None, device='cuda', early_stopping_rounds=None,\n",
       "             enable_categorical=False, eval_metric='mae', feature_types=None,\n",
       "             gamma=None, grow_policy='lossguide', importance_type=None,\n",
       "             interaction_constraints=None, learning_rate=0.01, max_bin=None,\n",
       "             max_cat_threshold=None, max_cat_to_onehot=None,\n",
       "             max_delta_step=None, max_depth=6, max_leaves=None,\n",
       "             min_child_weight=None, missing=nan, monotone_constraints=None,\n",
       "             multi_strategy=None, n_estimators=6936, n_jobs=None,\n",
       "             num_parallel_tree=None, objective='reg:absoluteerror', ...)"
      ]
     },
     "execution_count": 11,
     "metadata": {},
     "output_type": "execute_result"
    }
   ],
   "source": [
    "reg =  XGBRegressor(device=\"cuda\", **xgb_params)\n",
    "reg.fit(train_X[features], train_y, eval_set=[(valid_X[features], valid_y.values)],\n",
    "            verbose=200)\n"
   ]
  },
  {
   "cell_type": "code",
   "execution_count": 12,
   "id": "d00eee68-d36c-4fa3-a546-e68263f735cf",
   "metadata": {},
   "outputs": [
    {
     "name": "stdout",
     "output_type": "stream",
     "text": [
      "Mean Absolute Error: 6.068054336514252\n",
      "Mean Relative Error: 2389667017144.372\n",
      "Mean Absolute Error CP: 6.067656325515407\n",
      "Mean Relative Error CP: 2379568568383.4927\n"
     ]
    }
   ],
   "source": [
    "def zero_sum(prices, volumes):\n",
    "    std_error = np.sqrt(volumes)\n",
    "    step = np.sum(prices) / np.sum(std_error)\n",
    "    out = prices - std_error * step\n",
    "    return out\n",
    "    \n",
    "y_min, y_max = -64, 64\n",
    "\n",
    "# Making predictions on the test set\n",
    "predictions = reg.predict(valid_X[features])\n",
    "predictions_to_clip = zero_sum(predictions, valid_X['bid_size_not_norm'] + valid_X['ask_size_not_norm'])\n",
    "\n",
    "clipped_predictions = np.clip(predictions_to_clip, y_min, y_max)\n",
    "\n",
    "\n",
    "# Calculate the mean absolute and squared error\n",
    "print(\"Mean Absolute Error:\", mean_absolute_error(valid_y, predictions))\n",
    "print(\"Mean Relative Error:\", mean_absolute_percentage_error(valid_y, predictions))\n",
    "\n",
    "print(\"Mean Absolute Error CP:\", mean_absolute_error(valid_y, clipped_predictions))\n",
    "print(\"Mean Relative Error CP:\", mean_absolute_percentage_error(valid_y, clipped_predictions))"
   ]
  },
  {
   "cell_type": "code",
   "execution_count": 13,
   "id": "c58d895b-beb1-4b08-83ab-9c6f3cc0f517",
   "metadata": {
    "tags": []
   },
   "outputs": [
    {
     "data": {
      "text/html": [
       "<style>#sk-container-id-2 {color: black;}#sk-container-id-2 pre{padding: 0;}#sk-container-id-2 div.sk-toggleable {background-color: white;}#sk-container-id-2 label.sk-toggleable__label {cursor: pointer;display: block;width: 100%;margin-bottom: 0;padding: 0.3em;box-sizing: border-box;text-align: center;}#sk-container-id-2 label.sk-toggleable__label-arrow:before {content: \"▸\";float: left;margin-right: 0.25em;color: #696969;}#sk-container-id-2 label.sk-toggleable__label-arrow:hover:before {color: black;}#sk-container-id-2 div.sk-estimator:hover label.sk-toggleable__label-arrow:before {color: black;}#sk-container-id-2 div.sk-toggleable__content {max-height: 0;max-width: 0;overflow: hidden;text-align: left;background-color: #f0f8ff;}#sk-container-id-2 div.sk-toggleable__content pre {margin: 0.2em;color: black;border-radius: 0.25em;background-color: #f0f8ff;}#sk-container-id-2 input.sk-toggleable__control:checked~div.sk-toggleable__content {max-height: 200px;max-width: 100%;overflow: auto;}#sk-container-id-2 input.sk-toggleable__control:checked~label.sk-toggleable__label-arrow:before {content: \"▾\";}#sk-container-id-2 div.sk-estimator input.sk-toggleable__control:checked~label.sk-toggleable__label {background-color: #d4ebff;}#sk-container-id-2 div.sk-label input.sk-toggleable__control:checked~label.sk-toggleable__label {background-color: #d4ebff;}#sk-container-id-2 input.sk-hidden--visually {border: 0;clip: rect(1px 1px 1px 1px);clip: rect(1px, 1px, 1px, 1px);height: 1px;margin: -1px;overflow: hidden;padding: 0;position: absolute;width: 1px;}#sk-container-id-2 div.sk-estimator {font-family: monospace;background-color: #f0f8ff;border: 1px dotted black;border-radius: 0.25em;box-sizing: border-box;margin-bottom: 0.5em;}#sk-container-id-2 div.sk-estimator:hover {background-color: #d4ebff;}#sk-container-id-2 div.sk-parallel-item::after {content: \"\";width: 100%;border-bottom: 1px solid gray;flex-grow: 1;}#sk-container-id-2 div.sk-label:hover label.sk-toggleable__label {background-color: #d4ebff;}#sk-container-id-2 div.sk-serial::before {content: \"\";position: absolute;border-left: 1px solid gray;box-sizing: border-box;top: 0;bottom: 0;left: 50%;z-index: 0;}#sk-container-id-2 div.sk-serial {display: flex;flex-direction: column;align-items: center;background-color: white;padding-right: 0.2em;padding-left: 0.2em;position: relative;}#sk-container-id-2 div.sk-item {position: relative;z-index: 1;}#sk-container-id-2 div.sk-parallel {display: flex;align-items: stretch;justify-content: center;background-color: white;position: relative;}#sk-container-id-2 div.sk-item::before, #sk-container-id-2 div.sk-parallel-item::before {content: \"\";position: absolute;border-left: 1px solid gray;box-sizing: border-box;top: 0;bottom: 0;left: 50%;z-index: -1;}#sk-container-id-2 div.sk-parallel-item {display: flex;flex-direction: column;z-index: 1;position: relative;background-color: white;}#sk-container-id-2 div.sk-parallel-item:first-child::after {align-self: flex-end;width: 50%;}#sk-container-id-2 div.sk-parallel-item:last-child::after {align-self: flex-start;width: 50%;}#sk-container-id-2 div.sk-parallel-item:only-child::after {width: 0;}#sk-container-id-2 div.sk-dashed-wrapped {border: 1px dashed gray;margin: 0 0.4em 0.5em 0.4em;box-sizing: border-box;padding-bottom: 0.4em;background-color: white;}#sk-container-id-2 div.sk-label label {font-family: monospace;font-weight: bold;display: inline-block;line-height: 1.2em;}#sk-container-id-2 div.sk-label-container {text-align: center;}#sk-container-id-2 div.sk-container {/* jupyter's `normalize.less` sets `[hidden] { display: none; }` but bootstrap.min.css set `[hidden] { display: none !important; }` so we also need the `!important` here to be able to override the default hidden behavior on the sphinx rendered scikit-learn.org. See: https://github.com/scikit-learn/scikit-learn/issues/21755 */display: inline-block !important;position: relative;}#sk-container-id-2 div.sk-text-repr-fallback {display: none;}</style><div id=\"sk-container-id-2\" class=\"sk-top-container\"><div class=\"sk-text-repr-fallback\"><pre>XGBRegressor(base_score=None, booster=None, callbacks=None,\n",
       "             colsample_bylevel=None, colsample_bynode=None,\n",
       "             colsample_bytree=None, device=&#x27;cuda&#x27;, early_stopping_rounds=None,\n",
       "             enable_categorical=False, eval_metric=&#x27;mae&#x27;, feature_types=None,\n",
       "             gamma=None, grow_policy=&#x27;lossguide&#x27;, importance_type=None,\n",
       "             interaction_constraints=None, learning_rate=0.01, max_bin=None,\n",
       "             max_cat_threshold=None, max_cat_to_onehot=None,\n",
       "             max_delta_step=None, max_depth=6, max_leaves=None,\n",
       "             min_child_weight=None, missing=nan, monotone_constraints=None,\n",
       "             multi_strategy=None, n_estimators=6936, n_jobs=None,\n",
       "             num_parallel_tree=None, objective=&#x27;reg:absoluteerror&#x27;, ...)</pre><b>In a Jupyter environment, please rerun this cell to show the HTML representation or trust the notebook. <br />On GitHub, the HTML representation is unable to render, please try loading this page with nbviewer.org.</b></div><div class=\"sk-container\" hidden><div class=\"sk-item\"><div class=\"sk-estimator sk-toggleable\"><input class=\"sk-toggleable__control sk-hidden--visually\" id=\"sk-estimator-id-2\" type=\"checkbox\" checked><label for=\"sk-estimator-id-2\" class=\"sk-toggleable__label sk-toggleable__label-arrow\">XGBRegressor</label><div class=\"sk-toggleable__content\"><pre>XGBRegressor(base_score=None, booster=None, callbacks=None,\n",
       "             colsample_bylevel=None, colsample_bynode=None,\n",
       "             colsample_bytree=None, device=&#x27;cuda&#x27;, early_stopping_rounds=None,\n",
       "             enable_categorical=False, eval_metric=&#x27;mae&#x27;, feature_types=None,\n",
       "             gamma=None, grow_policy=&#x27;lossguide&#x27;, importance_type=None,\n",
       "             interaction_constraints=None, learning_rate=0.01, max_bin=None,\n",
       "             max_cat_threshold=None, max_cat_to_onehot=None,\n",
       "             max_delta_step=None, max_depth=6, max_leaves=None,\n",
       "             min_child_weight=None, missing=nan, monotone_constraints=None,\n",
       "             multi_strategy=None, n_estimators=6936, n_jobs=None,\n",
       "             num_parallel_tree=None, objective=&#x27;reg:absoluteerror&#x27;, ...)</pre></div></div></div></div></div>"
      ],
      "text/plain": [
       "XGBRegressor(base_score=None, booster=None, callbacks=None,\n",
       "             colsample_bylevel=None, colsample_bynode=None,\n",
       "             colsample_bytree=None, device='cuda', early_stopping_rounds=None,\n",
       "             enable_categorical=False, eval_metric='mae', feature_types=None,\n",
       "             gamma=None, grow_policy='lossguide', importance_type=None,\n",
       "             interaction_constraints=None, learning_rate=0.01, max_bin=None,\n",
       "             max_cat_threshold=None, max_cat_to_onehot=None,\n",
       "             max_delta_step=None, max_depth=6, max_leaves=None,\n",
       "             min_child_weight=None, missing=nan, monotone_constraints=None,\n",
       "             multi_strategy=None, n_estimators=6936, n_jobs=None,\n",
       "             num_parallel_tree=None, objective='reg:absoluteerror', ...)"
      ]
     },
     "execution_count": 13,
     "metadata": {},
     "output_type": "execute_result"
    }
   ],
   "source": [
    "reg =  XGBRegressor( device=\"cuda\", **xgb_params)\n",
    "reg.fit(X[features], y,\n",
    "            verbose=1)"
   ]
  },
  {
   "cell_type": "code",
   "execution_count": 14,
   "id": "302d25ab-c982-41d3-b08f-8e5099d1fb00",
   "metadata": {},
   "outputs": [
    {
     "data": {
      "text/plain": [
       "array([0.03790003, 0.07318993, 0.04607042, 0.09661287, 0.05918073,\n",
       "       0.04598477, 0.04018564, 0.04483659, 0.06681271, 0.173595  ,\n",
       "       0.06525116, 0.18054007, 0.06984007], dtype=float32)"
      ]
     },
     "execution_count": 14,
     "metadata": {},
     "output_type": "execute_result"
    }
   ],
   "source": [
    "\n",
    "import xgboost as xgb\n",
    "\n",
    "reg.feature_importances_"
   ]
  },
  {
   "cell_type": "code",
   "execution_count": 15,
   "id": "6c591cd5-877f-4963-b214-b6d71b6ffeb6",
   "metadata": {},
   "outputs": [
    {
     "ename": "ModuleNotFoundError",
     "evalue": "No module named 'optiver2023'",
     "output_type": "error",
     "traceback": [
      "\u001b[0;31m---------------------------------------------------------------------------\u001b[0m",
      "\u001b[0;31mModuleNotFoundError\u001b[0m                       Traceback (most recent call last)",
      "Cell \u001b[0;32mIn[15], line 1\u001b[0m\n\u001b[0;32m----> 1\u001b[0m \u001b[38;5;28;01mimport\u001b[39;00m \u001b[38;5;21;01moptiver2023\u001b[39;00m\n\u001b[1;32m      2\u001b[0m env \u001b[38;5;241m=\u001b[39m optiver2023\u001b[38;5;241m.\u001b[39mmake_env()\n\u001b[1;32m      3\u001b[0m iter_test \u001b[38;5;241m=\u001b[39m env\u001b[38;5;241m.\u001b[39miter_test()\n",
      "\u001b[0;31mModuleNotFoundError\u001b[0m: No module named 'optiver2023'"
     ]
    }
   ],
   "source": [
    "import optiver2023\n",
    "env = optiver2023.make_env()\n",
    "iter_test = env.iter_test()\n",
    "\n",
    "\n",
    "from tqdm.auto import tqdm\n",
    "\n",
    "TRAIN_TARGET = \"target\"\n",
    "\n",
    "def zero_sum(prices, volumes):\n",
    "    std_error = np.sqrt(volumes)\n",
    "    step = np.sum(prices) / np.sum(std_error)\n",
    "    out = prices - std_error * step\n",
    "    return out\n",
    "    \n",
    "y_min, y_max = -64, 64\n",
    "\n",
    "# Making predictions on the test set\n",
    "\n",
    "train_grouped_median_pd = train_grouped_median.to_pandas()\n",
    "\n",
    "\n",
    "counter = 0\n",
    "for (df_test, revealed_targets, sample_prediction) in tqdm(iter_test):\n",
    "#     display(df_test); display(revealed_targets); display(sample_prediction)\n",
    "    test_nan_ = df_test.isnull().sum()\n",
    "    df_test['far_price'].fillna(0, inplace=True)\n",
    "    df_test['near_price'].fillna(1, inplace=True)\n",
    "    df_test['bid_size_not_norm']=df_test['bid_size']\n",
    "    df_test['ask_size_not_norm']=df_test['ask_size']\n",
    "    \n",
    "    df_test[cols_fill_nan] = df_test[cols_fill_nan].fillna(train_grouped_median_pd)\n",
    "    \n",
    "    test_nan = pdx.DataFrame(dict(before=test_nan_, after=df_test.isnull().sum()))\n",
    "    \n",
    "    #df_test[cat_cols] = df_test[cat_cols].astype(\"category\")\n",
    "    df_test[num_cols] = df_test[num_cols].astype('float32')\n",
    "\n",
    "    \n",
    "    df_test[num_cols] = robust_scaler.fit_transform(df_test[num_cols])\n",
    "    \n",
    "    X_test = df_test[features]\n",
    "    #X_test = scaler.transform(X_test)\n",
    "\n",
    "    df_test[TRAIN_TARGET] = reg.predict(X_test)\n",
    "    if counter < 5:\n",
    "        display(df_test.head())\n",
    "        display(test_nan.T)\n",
    "\n",
    "    preds = zero_sum(df_test[TRAIN_TARGET], df_test['bid_size_not_norm'] + df_test['ask_size_not_norm'])\n",
    "    clipped_predictions = np.clip(preds, y_min, y_max)\n",
    "    sample_prediction['target'] = clipped_predictions\n",
    "    prediction = sample_prediction\n",
    "    env.predict(prediction)\n",
    "    counter += 1"
   ]
  }
 ],
 "metadata": {
  "kernelspec": {
   "display_name": "Python 3 (ipykernel)",
   "language": "python",
   "name": "python3"
  },
  "language_info": {
   "codemirror_mode": {
    "name": "ipython",
    "version": 3
   },
   "file_extension": ".py",
   "mimetype": "text/x-python",
   "name": "python",
   "nbconvert_exporter": "python",
   "pygments_lexer": "ipython3",
   "version": "3.10.12"
  }
 },
 "nbformat": 4,
 "nbformat_minor": 5
}
