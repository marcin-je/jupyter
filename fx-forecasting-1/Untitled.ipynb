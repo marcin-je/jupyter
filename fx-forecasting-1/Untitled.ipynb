{
 "cells": [
  {
   "cell_type": "code",
   "execution_count": 65,
   "id": "6d11b6ce-774c-4de6-892f-12a78ccdeffa",
   "metadata": {},
   "outputs": [
    {
     "name": "stdout",
     "output_type": "stream",
     "text": [
      "                            A         B      diff\n",
      "2023-01-01 00:00:00  1.764052  0.400157       NaN\n",
      "2023-01-01 00:00:01  0.978738  2.240893       NaN\n",
      "2023-01-01 00:00:02  1.867558 -0.977278  2.741330\n",
      "2023-01-01 00:00:03  0.950088 -0.151357  1.130095\n",
      "2023-01-01 00:00:04 -0.103219  0.410599  1.456959\n",
      "...                       ...       ...       ...\n",
      "2023-01-02 03:46:35  0.890029 -1.371535  1.764317\n",
      "2023-01-02 03:46:36 -0.134089  1.725577 -1.171629\n",
      "2023-01-02 03:46:37 -1.751198  0.271827  0.618201\n",
      "2023-01-02 03:46:38  0.050507  0.667815 -0.801904\n",
      "2023-01-02 03:46:39 -1.021195 -0.345373 -1.405825\n",
      "\n",
      "[100000 rows x 3 columns]\n",
      "Execution time: 0.546 seconds\n"
     ]
    }
   ],
   "source": [
    "import pandas as pd\n",
    "import numpy as np\n",
    "from numba import jit\n",
    "import time\n",
    "\n",
    "periods=100000\n",
    "\n",
    "# Sample DataFrame (for demonstration)\n",
    "np.random.seed(0)  # For reproducibility\n",
    "dates = pd.date_range(start='2023-01-01 00:00:00', periods=periods, freq='S')\n",
    "df = pd.DataFrame(np.random.randn(periods, 2), index=dates, columns=list('AB'))\n",
    "\n",
    "# Define a custom function to apply over the rolling window\n",
    "\n",
    "@jit(nopython=True)\n",
    "def f(window):\n",
    "    # Ensure there are enough data points in the window\n",
    "    if len(window) == 3:\n",
    "        #if mid-point-to-mid-point is decreasing, then calc gap by C1.L-C3.H\n",
    "        #Otherwise C3.L-C1.H\n",
    "        return window[0][0]-window[2][1]\n",
    "    else:\n",
    "        return np.nan\n",
    "\n",
    "start_time = time.time()\n",
    "# Apply the custom function over a rolling window of size 3 with raw=True\n",
    "df['diff'] = df.rolling(3, method='table').apply(f, raw=True, engine='numba')['A']\n",
    "\n",
    "# Print the DataFrame\n",
    "print(df)\n",
    "\n",
    "\n",
    "end_time = time.time()\n",
    "print(f'Execution time: {end_time - start_time:.3f} seconds')"
   ]
  },
  {
   "cell_type": "code",
   "execution_count": null,
   "id": "d88c7975-92a6-4b8a-9fc8-e85fc7ae0736",
   "metadata": {},
   "outputs": [],
   "source": []
  },
  {
   "cell_type": "code",
   "execution_count": 34,
   "id": "52143c83-d09a-4090-9757-b1f0af74beda",
   "metadata": {},
   "outputs": [
    {
     "name": "stdout",
     "output_type": "stream",
     "text": [
      "                   A         B\n",
      "2023-01-01  1.764052  0.400157\n",
      "2023-01-02  0.978738  2.240893\n",
      "2023-01-03  1.867558 -0.977278\n",
      "2023-01-04  0.950088 -0.151357\n",
      "2023-01-05 -0.103219  0.410599\n",
      "2023-01-06  0.144044  1.454274\n",
      "2023-01-07  0.761038  0.121675\n",
      "2023-01-08  0.443863  0.333674\n",
      "2023-01-09  1.494079 -0.205158\n",
      "2023-01-10  0.313068 -0.854096\n",
      "2023-01-01         NaN\n",
      "2023-01-02         NaN\n",
      "2023-01-03    1.467401\n",
      "2023-01-04   -1.290805\n",
      "2023-01-05    0.874059\n",
      "2023-01-06    0.295401\n",
      "2023-01-07    0.350439\n",
      "2023-01-08   -1.010410\n",
      "2023-01-09    1.372404\n",
      "2023-01-10   -0.020607\n",
      "Freq: D, dtype: float64\n"
     ]
    }
   ],
   "source": [
    "import pandas as pd\n",
    "import numpy as np\n",
    "\n",
    "# Sample DataFrame (for demonstration)\n",
    "np.random.seed(0)  # For reproducibility\n",
    "dates = pd.date_range('20230101', periods=10)\n",
    "df = pd.DataFrame(np.random.randn(10, 2), index=dates, columns=list('AB'))\n",
    "\n",
    "# Define a custom function to apply over the rolling window\n",
    "def f(window):\n",
    "    if len(window) == 3:\n",
    "        # Assuming you want to subtract 'B' of the first from 'A' of the last\n",
    "        return window.iloc[-1]['A'] - window.iloc[0]['B']\n",
    "    else:\n",
    "        return np.nan\n",
    "\n",
    "# Apply the custom function to each window\n",
    "# Here, we operate on each row as a Series, combining both 'A' and 'B' columns\n",
    "some_result = df.apply(lambda row: f(df.loc[row.name - pd.Timedelta('2D'):row.name]), axis=1)\n",
    "\n",
    "# Print the DataFrame\n",
    "print(df)\n",
    "print(some_result)\n"
   ]
  }
 ],
 "metadata": {
  "kernelspec": {
   "display_name": "Python 3 (ipykernel)",
   "language": "python",
   "name": "python3"
  },
  "language_info": {
   "codemirror_mode": {
    "name": "ipython",
    "version": 3
   },
   "file_extension": ".py",
   "mimetype": "text/x-python",
   "name": "python",
   "nbconvert_exporter": "python",
   "pygments_lexer": "ipython3",
   "version": "3.10.12"
  }
 },
 "nbformat": 4,
 "nbformat_minor": 5
}
