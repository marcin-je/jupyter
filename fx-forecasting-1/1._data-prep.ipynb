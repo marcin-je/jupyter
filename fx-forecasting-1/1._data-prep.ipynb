{
 "cells": [
  {
   "cell_type": "code",
   "execution_count": 2,
   "id": "9a3fc94b-7af1-44f9-80bc-58b8648d7cab",
   "metadata": {
    "ExecuteTime": {
     "end_time": "2024-03-18T11:33:46.332129Z",
     "start_time": "2024-03-18T11:33:43.523910Z"
    }
   },
   "outputs": [
    {
     "name": "stdout",
     "output_type": "stream",
     "text": [
      "Defaulting to user installation because normal site-packages is not writeable\r\n",
      "Requirement already satisfied: holidays in /home/ubuntu/.local/lib/python3.10/site-packages (0.44)\r\n",
      "Requirement already satisfied: pandas_market_calendars in /home/ubuntu/.local/lib/python3.10/site-packages (4.4.0)\r\n",
      "Requirement already satisfied: python-dateutil in /home/ubuntu/.local/lib/python3.10/site-packages (from holidays) (2.8.2)\r\n",
      "Requirement already satisfied: exchange-calendars>=3.3 in /home/ubuntu/.local/lib/python3.10/site-packages (from pandas_market_calendars) (4.5.3)\r\n",
      "Requirement already satisfied: pandas>=1.1 in /home/ubuntu/.local/lib/python3.10/site-packages (from pandas_market_calendars) (1.5.3)\r\n",
      "Requirement already satisfied: pytz in /home/ubuntu/.local/lib/python3.10/site-packages (from pandas_market_calendars) (2023.3.post1)\r\n",
      "Requirement already satisfied: numpy<2 in /home/ubuntu/.local/lib/python3.10/site-packages (from exchange-calendars>=3.3->pandas_market_calendars) (1.24.4)\r\n",
      "Requirement already satisfied: pyluach in /home/ubuntu/.local/lib/python3.10/site-packages (from exchange-calendars>=3.3->pandas_market_calendars) (2.2.0)\r\n",
      "Requirement already satisfied: korean-lunar-calendar in /home/ubuntu/.local/lib/python3.10/site-packages (from exchange-calendars>=3.3->pandas_market_calendars) (0.3.1)\r\n",
      "Requirement already satisfied: tzdata in /home/ubuntu/.local/lib/python3.10/site-packages (from exchange-calendars>=3.3->pandas_market_calendars) (2024.1)\r\n",
      "Requirement already satisfied: toolz in /home/ubuntu/.local/lib/python3.10/site-packages (from exchange-calendars>=3.3->pandas_market_calendars) (0.12.1)\r\n",
      "Requirement already satisfied: six>=1.5 in /home/ubuntu/.local/lib/python3.10/site-packages (from python-dateutil->holidays) (1.16.0)\r\n",
      "Defaulting to user installation because normal site-packages is not writeable\r\n",
      "Requirement already satisfied: pyarrow in /home/ubuntu/.local/lib/python3.10/site-packages (12.0.1)\r\n",
      "Requirement already satisfied: fastparquet in /home/ubuntu/.local/lib/python3.10/site-packages (2024.2.0)\r\n",
      "Requirement already satisfied: shap in /home/ubuntu/.local/lib/python3.10/site-packages (0.45.0)\r\n",
      "Requirement already satisfied: imblearn in /home/ubuntu/.local/lib/python3.10/site-packages (0.0)\r\n",
      "Requirement already satisfied: seaborn in /home/ubuntu/.local/lib/python3.10/site-packages (0.13.2)\r\n",
      "Requirement already satisfied: holidays in /home/ubuntu/.local/lib/python3.10/site-packages (0.44)\r\n",
      "Requirement already satisfied: pandas_market_calendars in /home/ubuntu/.local/lib/python3.10/site-packages (4.4.0)\r\n",
      "Collecting mplfinance\r\n",
      "  Downloading mplfinance-0.12.10b0-py3-none-any.whl (75 kB)\r\n",
      "\u001b[2K     \u001b[90m━━━━━━━━━━━━━━━━━━━━━━━━━━━━━━━━━━━━━━━━\u001b[0m \u001b[32m75.0/75.0 KB\u001b[0m \u001b[31m2.2 MB/s\u001b[0m eta \u001b[36m0:00:00\u001b[0m\r\n",
      "\u001b[?25hRequirement already satisfied: numpy>=1.16.6 in /home/ubuntu/.local/lib/python3.10/site-packages (from pyarrow) (1.24.4)\r\n",
      "Requirement already satisfied: pandas>=1.5.0 in /home/ubuntu/.local/lib/python3.10/site-packages (from fastparquet) (1.5.3)\r\n",
      "Requirement already satisfied: fsspec in /home/ubuntu/.local/lib/python3.10/site-packages (from fastparquet) (2023.10.0)\r\n",
      "Requirement already satisfied: packaging in /home/ubuntu/.local/lib/python3.10/site-packages (from fastparquet) (23.2)\r\n",
      "Requirement already satisfied: cramjam>=2.3 in /home/ubuntu/.local/lib/python3.10/site-packages (from fastparquet) (2.8.2)\r\n",
      "Requirement already satisfied: cloudpickle in /home/ubuntu/.local/lib/python3.10/site-packages (from shap) (3.0.0)\r\n",
      "Requirement already satisfied: scikit-learn in /home/ubuntu/.local/lib/python3.10/site-packages (from shap) (1.3.2)\r\n",
      "Requirement already satisfied: numba in /home/ubuntu/.local/lib/python3.10/site-packages (from shap) (0.57.1)\r\n",
      "Requirement already satisfied: scipy in /home/ubuntu/.local/lib/python3.10/site-packages (from shap) (1.11.3)\r\n",
      "Requirement already satisfied: slicer==0.0.7 in /home/ubuntu/.local/lib/python3.10/site-packages (from shap) (0.0.7)\r\n",
      "Requirement already satisfied: tqdm>=4.27.0 in /home/ubuntu/.local/lib/python3.10/site-packages (from shap) (4.66.1)\r\n",
      "Requirement already satisfied: imbalanced-learn in /home/ubuntu/.local/lib/python3.10/site-packages (from imblearn) (0.12.0)\r\n",
      "Requirement already satisfied: matplotlib!=3.6.1,>=3.4 in /home/ubuntu/.local/lib/python3.10/site-packages (from seaborn) (3.8.1)\r\n",
      "Requirement already satisfied: python-dateutil in /home/ubuntu/.local/lib/python3.10/site-packages (from holidays) (2.8.2)\r\n",
      "Requirement already satisfied: exchange-calendars>=3.3 in /home/ubuntu/.local/lib/python3.10/site-packages (from pandas_market_calendars) (4.5.3)\r\n",
      "Requirement already satisfied: pytz in /home/ubuntu/.local/lib/python3.10/site-packages (from pandas_market_calendars) (2023.3.post1)\r\n",
      "Requirement already satisfied: pyluach in /home/ubuntu/.local/lib/python3.10/site-packages (from exchange-calendars>=3.3->pandas_market_calendars) (2.2.0)\r\n",
      "Requirement already satisfied: korean-lunar-calendar in /home/ubuntu/.local/lib/python3.10/site-packages (from exchange-calendars>=3.3->pandas_market_calendars) (0.3.1)\r\n",
      "Requirement already satisfied: toolz in /home/ubuntu/.local/lib/python3.10/site-packages (from exchange-calendars>=3.3->pandas_market_calendars) (0.12.1)\r\n",
      "Requirement already satisfied: tzdata in /home/ubuntu/.local/lib/python3.10/site-packages (from exchange-calendars>=3.3->pandas_market_calendars) (2024.1)\r\n",
      "Requirement already satisfied: pillow>=8 in /home/ubuntu/.local/lib/python3.10/site-packages (from matplotlib!=3.6.1,>=3.4->seaborn) (10.1.0)\r\n",
      "Requirement already satisfied: kiwisolver>=1.3.1 in /home/ubuntu/.local/lib/python3.10/site-packages (from matplotlib!=3.6.1,>=3.4->seaborn) (1.4.5)\r\n",
      "Requirement already satisfied: contourpy>=1.0.1 in /home/ubuntu/.local/lib/python3.10/site-packages (from matplotlib!=3.6.1,>=3.4->seaborn) (1.2.0)\r\n",
      "Requirement already satisfied: pyparsing>=2.3.1 in /home/ubuntu/.local/lib/python3.10/site-packages (from matplotlib!=3.6.1,>=3.4->seaborn) (3.1.1)\r\n",
      "Requirement already satisfied: fonttools>=4.22.0 in /home/ubuntu/.local/lib/python3.10/site-packages (from matplotlib!=3.6.1,>=3.4->seaborn) (4.44.0)\r\n",
      "Requirement already satisfied: cycler>=0.10 in /home/ubuntu/.local/lib/python3.10/site-packages (from matplotlib!=3.6.1,>=3.4->seaborn) (0.12.1)\r\n",
      "Requirement already satisfied: six>=1.5 in /home/ubuntu/.local/lib/python3.10/site-packages (from python-dateutil->holidays) (1.16.0)\r\n",
      "Requirement already satisfied: joblib>=1.1.1 in /home/ubuntu/.local/lib/python3.10/site-packages (from imbalanced-learn->imblearn) (1.3.2)\r\n",
      "Requirement already satisfied: threadpoolctl>=2.0.0 in /home/ubuntu/.local/lib/python3.10/site-packages (from imbalanced-learn->imblearn) (3.2.0)\r\n",
      "Requirement already satisfied: llvmlite<0.41,>=0.40.0dev0 in /home/ubuntu/.local/lib/python3.10/site-packages (from numba->shap) (0.40.1)\r\n",
      "Installing collected packages: mplfinance\r\n",
      "Successfully installed mplfinance-0.12.10b0\r\n",
      "Defaulting to user installation because normal site-packages is not writeable\r\n",
      "Looking in indexes: https://pypi.org/simple, http://pypi.dcai2.local\r\n",
      "Requirement already satisfied: install in /home/ubuntu/.local/lib/python3.10/site-packages (1.3.5)\r\n",
      "Requirement already satisfied: dcaitrading==0.0.6-20240131134744 in /home/ubuntu/.local/lib/python3.10/site-packages (0.0.6.post20240131134744)\r\n",
      "\u001b[33mDEPRECATION: The HTML index page being used (http://pypi.dcai2.local/simple/dcaitrading/) is not a proper HTML 5 document. This is in violation of PEP 503 which requires these pages to be well-formed HTML 5 documents. Please reach out to the owners of this index page, and ask them to update this index page to a valid HTML 5 document. pip 22.2 will enforce this behaviour change. Discussion can be found at https://github.com/pypa/pip/issues/10825\u001b[0m\u001b[33m\r\n",
      "\u001b[0m"
     ]
    }
   ],
   "source": [
    "import sys\n",
    "!{sys.executable} -m pip install   holidays  pandas_market_calendars\n",
    "!{sys.executable} -m pip install  pyarrow fastparquet shap imblearn seaborn  holidays  pandas_market_calendars mplfinance\n",
    "import pyarrow as pa\n",
    "import pyarrow.parquet as pq\n",
    "import pandas as pd\n",
    "import time\n",
    "\n",
    "!{sys.executable} -m pip install install --extra-index http://pypi.dcai2.local --upgrade --trusted-host pypi.dcai2.local dcaitrading==0.0.6-20240131134744\n",
    "    "
   ]
  },
  {
   "cell_type": "code",
   "execution_count": 2,
   "id": "649a156f-6cde-4f04-aea6-2925fbcc40f3",
   "metadata": {},
   "outputs": [],
   "source": [
    "pq_file = '/data/GBPUSD/2021/5.parquet'\n",
    "table = pq.read_table(pq_file)\n",
    "\n",
    "# Convert the PyArrow table to a Pandas dataframe\n",
    "df = table.to_pandas()\n"
   ]
  },
  {
   "cell_type": "code",
   "execution_count": 3,
   "id": "a807eb02-ef36-4d49-bd77-3627898843fd",
   "metadata": {},
   "outputs": [],
   "source": [
    "from featureeng.features import *\n",
    "\n",
    "processed = process_df_count(df, '1s')"
   ]
  },
  {
   "cell_type": "code",
   "execution_count": 6,
   "id": "a195a3d7-e0ab-4cf8-889e-9fb69d0f994a",
   "metadata": {},
   "outputs": [
    {
     "name": "stdout",
     "output_type": "stream",
     "text": [
      "                         open      high       low     close  Count\n",
      "DateTime                                                          \n",
      "2021-02-01 09:59:59  1.372955  1.372960  1.372950  1.372950      6\n",
      "2021-02-01 10:00:00  1.372955  1.372975  1.372955  1.372970      7\n",
      "2021-02-01 10:00:01  1.372965  1.372970  1.372945  1.372970     23\n",
      "2021-02-01 10:00:02  1.372975  1.372975  1.372960  1.372965      7\n",
      "2021-02-01 10:00:03       NaN       NaN       NaN       NaN      0\n",
      "2021-02-01 10:00:04  1.372960  1.372960  1.372955  1.372955      2\n",
      "2021-02-01 10:00:05       NaN       NaN       NaN       NaN      0\n",
      "68486640\n",
      "37640872\n"
     ]
    }
   ],
   "source": [
    "# pd.set_option('display.max_rows', 100)\n",
    "\n",
    "# print(processed['2021-02-01 10:00:00':'2021-02-01 10:00:10'])\n",
    "\n",
    "# print(df['2021-02-01 09:59:59':'2021-02-01 10:00:02'])\n",
    "\n",
    "print(processed['2021-02-01 09:59:59':'2021-02-01 10:00:05'])\n",
    "\n",
    "\n",
    "print(df.memory_usage(deep=True).sum())\n",
    "print(processed.memory_usage(deep=True).sum())"
   ]
  },
  {
   "cell_type": "code",
   "execution_count": null,
   "id": "92e9eb02-fce3-411b-be21-0a86a86d07d7",
   "metadata": {},
   "outputs": [],
   "source": []
  }
 ],
 "metadata": {
  "kernelspec": {
   "display_name": "Python 3 (ipykernel)",
   "language": "python",
   "name": "python3"
  },
  "language_info": {
   "codemirror_mode": {
    "name": "ipython",
    "version": 3
   },
   "file_extension": ".py",
   "mimetype": "text/x-python",
   "name": "python",
   "nbconvert_exporter": "python",
   "pygments_lexer": "ipython3",
   "version": "3.10.12"
  }
 },
 "nbformat": 4,
 "nbformat_minor": 5
}
