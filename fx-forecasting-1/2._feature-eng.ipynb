{
 "cells": [
  {
   "cell_type": "markdown",
   "id": "4281d82a-b3fd-490c-9e1c-9442e402a9ed",
   "metadata": {},
   "source": [
    "# Target variables\n",
    "\n",
    "TBD on lookup horizon - lookup over 1s candles instead of ticks to speed up\n",
    "\n",
    "\n",
    "1. simple up/down signal\n",
    "2. up/down/put where put would be either tails of distribution (moves less than 10th centile or greater than 90th)\n",
    "3. actual up/down values in pips\n",
    "4. up/down price movements transformed into 7 buckets of uniform distribution\n",
    "\n",
    "\n",
    "# Features\n",
    "\n",
    "Analytics across different candle resolutions such as 1min, 5min, 10min, 15min, 30min\n",
    "\n",
    "gap value div prev 30days’ avg, median, 95th centile + time lag up to 5 periods\n",
    "gap rank in the prev months gap + time lag up to 5 periods\n",
    "\n",
    "last 10 candles how many down, how many up\n",
    "last 5 candles size compared to: prev month mean, median, 95th centile\n",
    "\n",
    "MA_{candleSize}_{period}_diff  + lag of 5\n",
    "MA_{candleSize}_{period}_diff normalised by pervious month’s values + lag of 5"
   ]
  },
  {
   "cell_type": "code",
   "execution_count": 23,
   "id": "de5cbe35-2013-4165-8687-7355585d7464",
   "metadata": {
    "ExecuteTime": {
     "end_time": "2024-03-15T08:38:01.802395Z",
     "start_time": "2024-03-15T08:38:01.740832Z"
    }
   },
   "outputs": [],
   "source": [
    "import featureeng as feng\n",
    "import data.readers as rd\n",
    "import time\n",
    "import warnings\n",
    "from warnings import simplefilter\n",
    "from featureeng.features import *\n",
    "\n",
    "def fill_data(df):\n",
    "    df['close'] = df['close'].ffill()\n",
    "    df['close'] = df['close'].bfill()\n",
    "    \n",
    "    df['midPoint'] = df['midPoint'].ffill()\n",
    "    df['midPoint'] = df['midPoint'].bfill()\n",
    "    \n",
    "    df['Spread'] = df['Spread'].ffill()\n",
    "    df['Spread'] = df['Spread'].bfill()\n",
    "    return df"
   ]
  },
  {
   "cell_type": "markdown",
   "id": "b3f6c69c-cb61-4fa0-8679-46690ede8825",
   "metadata": {},
   "source": [
    "# Feature engineering\n",
    "\n",
    "1. Load the data\n",
    "2. For a given candle resolution\n",
    "    1. Look within a defined time\n",
    "    2. "
   ]
  },
  {
   "cell_type": "code",
   "execution_count": 24,
   "id": "75ee550e-770b-4e66-bd4d-26712195812b",
   "metadata": {
    "ExecuteTime": {
     "end_time": "2024-03-15T08:40:24.929313Z",
     "start_time": "2024-03-15T08:38:01.808394Z"
    }
   },
   "outputs": [
    {
     "name": "stdout",
     "output_type": "stream",
     "text": [
      "EURGBP - /data\n",
      "/data/EURGBP\n",
      "Loaded data in: 13.390 seconds\n",
      "b-fill, f-fill in: 36.866 seconds\n",
      "Gap calculation in: 0.038 seconds\n",
      "EURGBP - /data\n",
      "/data/EURGBP\n",
      "Loaded data in: 13.449 seconds\n",
      "b-fill, f-fill in: 50.220 seconds\n",
      "Gap calculation in: 25.356 seconds\n"
     ]
    }
   ],
   "source": [
    "# 1. Load data for all years\n",
    "# 2. b-fill f-fill for a given candle resolution (i.e. 10min)\n",
    "# 3. gap cals\n",
    "# 4. select sub-sample - 7:00 - 17:00\n",
    "\n",
    "def prep_data(instrument='EURGBP', candle_size='10min', year=None):\n",
    "    #1. Load data\n",
    "    start_time = time.time()\n",
    "    ticks = rd.read_in_ticks('/data', instrument, year=year)\n",
    "    end_time = time.time()\n",
    "    print(f'Loaded data in: {end_time - start_time:.3f} seconds')\n",
    "\n",
    "    start_time = time.time()\n",
    "    ticks =fill_data(process_df_count(ticks, candle_size))\n",
    "    end_time = time.time()\n",
    "    print(f'b-fill, f-fill in: {end_time - start_time:.3f} seconds')\n",
    "    \n",
    "    start_time = time.time()\n",
    "    # Apply the custom function over a rolling window of size 3 with raw=True\n",
    "    ticks['gap'] = ticks[['high', 'low', 'midPoint']].rolling(3, method='table').apply(f, raw=True, engine='numba')['high']\n",
    "    \n",
    "    # Print the DataFrame\n",
    "    end_time = time.time()\n",
    "    print(f'Gap calculation in: {end_time - start_time:.3f} seconds')\n",
    "    return ticks.between_time('07:00', '19:00')\n",
    "\n",
    "\n",
    "result_10min = prep_data()\n",
    "result_1s = prep_data(candle_size='1s')"
   ]
  },
  {
   "cell_type": "code",
   "execution_count": 25,
   "id": "7ce721de-fa2a-4cfb-abb1-6ee46bd338cd",
   "metadata": {
    "ExecuteTime": {
     "end_time": "2024-03-15T08:40:24.946174Z",
     "start_time": "2024-03-15T08:40:24.930657Z"
    }
   },
   "outputs": [],
   "source": [
    "def prep_features(data):\n",
    "    pass"
   ]
  },
  {
   "cell_type": "markdown",
   "id": "f06ad343-55ce-4e87-8cf3-36f22cb200b8",
   "metadata": {},
   "source": [
    "1. simple up/down signal\n",
    "2. up/down/put where put would be either tails of distribution (moves less than 10th centile or greater than 90th)\n",
    "3. actual up/down values in pips\n",
    "4. up/down price movements transformed into 7 buckets of uniform distribution"
   ]
  },
  {
   "cell_type": "code",
   "execution_count": 26,
   "id": "b20c4fe4-ab95-4f73-8c78-bfbb008acde1",
   "metadata": {
    "ExecuteTime": {
     "end_time": "2024-03-15T08:40:24.962524Z",
     "start_time": "2024-03-15T08:40:24.931846Z"
    }
   },
   "outputs": [],
   "source": [
    "def prep_targets(data):\n",
    "    pass\n",
    "\n",
    "\n",
    "features_10min = prep_features(result_10min)\n",
    "features_targets = prep_targets(result_1s)"
   ]
  },
  {
   "cell_type": "code",
   "execution_count": 27,
   "id": "9a9678f8-077a-4881-a912-7ac5f7c5e84f",
   "metadata": {
    "ExecuteTime": {
     "end_time": "2024-03-15T08:40:24.986403Z",
     "start_time": "2024-03-15T08:40:24.951635Z"
    }
   },
   "outputs": [
    {
     "data": {
      "text/html": [
       "<div>\n",
       "<style scoped>\n",
       "    .dataframe tbody tr th:only-of-type {\n",
       "        vertical-align: middle;\n",
       "    }\n",
       "\n",
       "    .dataframe tbody tr th {\n",
       "        vertical-align: top;\n",
       "    }\n",
       "\n",
       "    .dataframe thead th {\n",
       "        text-align: right;\n",
       "    }\n",
       "</style>\n",
       "<table border=\"1\" class=\"dataframe\">\n",
       "  <thead>\n",
       "    <tr style=\"text-align: right;\">\n",
       "      <th></th>\n",
       "      <th>open</th>\n",
       "      <th>high</th>\n",
       "      <th>low</th>\n",
       "      <th>close</th>\n",
       "      <th>midPoint</th>\n",
       "      <th>Count</th>\n",
       "      <th>Spread</th>\n",
       "      <th>gap</th>\n",
       "    </tr>\n",
       "    <tr>\n",
       "      <th>DateTime</th>\n",
       "      <th></th>\n",
       "      <th></th>\n",
       "      <th></th>\n",
       "      <th></th>\n",
       "      <th></th>\n",
       "      <th></th>\n",
       "      <th></th>\n",
       "      <th></th>\n",
       "    </tr>\n",
       "  </thead>\n",
       "  <tbody>\n",
       "    <tr>\n",
       "      <th>2023-01-27 18:59:56</th>\n",
       "      <td>0.877030</td>\n",
       "      <td>0.877040</td>\n",
       "      <td>0.877030</td>\n",
       "      <td>0.877040</td>\n",
       "      <td>0.877035</td>\n",
       "      <td>5</td>\n",
       "      <td>0.40</td>\n",
       "      <td>-0.05</td>\n",
       "    </tr>\n",
       "    <tr>\n",
       "      <th>2023-01-27 18:59:57</th>\n",
       "      <td>0.877035</td>\n",
       "      <td>0.877045</td>\n",
       "      <td>0.877030</td>\n",
       "      <td>0.877045</td>\n",
       "      <td>0.877037</td>\n",
       "      <td>9</td>\n",
       "      <td>0.40</td>\n",
       "      <td>-0.10</td>\n",
       "    </tr>\n",
       "    <tr>\n",
       "      <th>2023-01-27 18:59:58</th>\n",
       "      <td>0.877040</td>\n",
       "      <td>0.877050</td>\n",
       "      <td>0.877040</td>\n",
       "      <td>0.877050</td>\n",
       "      <td>0.877045</td>\n",
       "      <td>5</td>\n",
       "      <td>0.36</td>\n",
       "      <td>0.00</td>\n",
       "    </tr>\n",
       "    <tr>\n",
       "      <th>2023-01-27 18:59:59</th>\n",
       "      <td>0.877040</td>\n",
       "      <td>0.877040</td>\n",
       "      <td>0.877035</td>\n",
       "      <td>0.877035</td>\n",
       "      <td>0.877038</td>\n",
       "      <td>2</td>\n",
       "      <td>0.45</td>\n",
       "      <td>-0.10</td>\n",
       "    </tr>\n",
       "    <tr>\n",
       "      <th>2023-01-27 19:00:00</th>\n",
       "      <td>0.877040</td>\n",
       "      <td>0.877045</td>\n",
       "      <td>0.877040</td>\n",
       "      <td>0.877045</td>\n",
       "      <td>0.877043</td>\n",
       "      <td>2</td>\n",
       "      <td>0.45</td>\n",
       "      <td>-0.05</td>\n",
       "    </tr>\n",
       "  </tbody>\n",
       "</table>\n",
       "</div>"
      ],
      "text/plain": [
       "                         open      high       low     close  midPoint  Count  \\\n",
       "DateTime                                                                       \n",
       "2023-01-27 18:59:56  0.877030  0.877040  0.877030  0.877040  0.877035      5   \n",
       "2023-01-27 18:59:57  0.877035  0.877045  0.877030  0.877045  0.877037      9   \n",
       "2023-01-27 18:59:58  0.877040  0.877050  0.877040  0.877050  0.877045      5   \n",
       "2023-01-27 18:59:59  0.877040  0.877040  0.877035  0.877035  0.877038      2   \n",
       "2023-01-27 19:00:00  0.877040  0.877045  0.877040  0.877045  0.877043      2   \n",
       "\n",
       "                     Spread   gap  \n",
       "DateTime                           \n",
       "2023-01-27 18:59:56    0.40 -0.05  \n",
       "2023-01-27 18:59:57    0.40 -0.10  \n",
       "2023-01-27 18:59:58    0.36  0.00  \n",
       "2023-01-27 18:59:59    0.45 -0.10  \n",
       "2023-01-27 19:00:00    0.45 -0.05  "
      ]
     },
     "execution_count": 27,
     "metadata": {},
     "output_type": "execute_result"
    }
   ],
   "source": [
    "result_1s.tail()"
   ]
  },
  {
   "cell_type": "code",
   "execution_count": 28,
   "id": "c502e13d-54aa-45df-aebe-2318a2ae0235",
   "metadata": {
    "ExecuteTime": {
     "end_time": "2024-03-15T08:40:24.987062Z",
     "start_time": "2024-03-15T08:40:24.970330Z"
    }
   },
   "outputs": [],
   "source": [
    "#test"
   ]
  },
  {
   "cell_type": "code",
   "execution_count": 29,
   "id": "83afa3f3-72c0-48b5-bd89-30b0fbee9110",
   "metadata": {
    "ExecuteTime": {
     "end_time": "2024-03-15T08:40:24.996413Z",
     "start_time": "2024-03-15T08:40:24.982113Z"
    }
   },
   "outputs": [],
   "source": [
    "#def"
   ]
  },
  {
   "cell_type": "code",
   "execution_count": 30,
   "id": "e5bc9909b6660d6d",
   "metadata": {
    "ExecuteTime": {
     "end_time": "2024-03-15T08:40:25.039388Z",
     "start_time": "2024-03-15T08:40:24.994988Z"
    },
    "collapsed": false
   },
   "outputs": [],
   "source": [
    "#test"
   ]
  }
 ],
 "metadata": {
  "kernelspec": {
   "display_name": "Python 3 (ipykernel)",
   "language": "python",
   "name": "python3"
  },
  "language_info": {
   "codemirror_mode": {
    "name": "ipython",
    "version": 3
   },
   "file_extension": ".py",
   "mimetype": "text/x-python",
   "name": "python",
   "nbconvert_exporter": "python",
   "pygments_lexer": "ipython3",
   "version": "3.10.12"
  }
 },
 "nbformat": 4,
 "nbformat_minor": 5
}
