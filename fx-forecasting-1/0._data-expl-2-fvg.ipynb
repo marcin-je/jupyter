{
 "cells": [
  {
   "cell_type": "code",
   "execution_count": 2,
   "id": "2549cc09-9c6a-4dba-b38f-19f5c7beeb93",
   "metadata": {},
   "outputs": [
    {
     "data": {
      "text/plain": [
       "2"
      ]
     },
     "execution_count": 2,
     "metadata": {},
     "output_type": "execute_result"
    }
   ],
   "source": [
    "#find all FVG among given candles, and retur datetime stamps of each event\n",
    "\n",
    "# iterate through window of 3 items, flag those where \n",
    "\n",
    "\n",
    "candle1 = (100, 110, 95, 105)  # First candle\n",
    "candle2 = (106, 115, 105, 110)  # Second candle (ignored for gap calculation)\n",
    "candle3 = (115, 120, 112, 119)  # Third candle\n",
    "\n",
    "# Simplified Gap Calculation\n",
    "# Calculating both potential gaps and selecting the maximum as the effective gap\n",
    "\n",
    "gap_bullish = abs(candle1[1] - candle3[2])  # High of the first - Low of the third\n",
    "gap_bearish = abs(candle1[2] - candle3[1])  # Low of the first - High of the third\n",
    "\n",
    "# Select the larger gap\n",
    "effective_gap = min(gap_bullish, gap_bearish)\n",
    "\n",
    "effective_gap"
   ]
  },
  {
   "cell_type": "code",
   "execution_count": null,
   "id": "3a0da7b9-1d27-4f4a-8675-004472a3167c",
   "metadata": {},
   "outputs": [],
   "source": []
  }
 ],
 "metadata": {
  "kernelspec": {
   "display_name": "Python 3 (ipykernel)",
   "language": "python",
   "name": "python3"
  },
  "language_info": {
   "codemirror_mode": {
    "name": "ipython",
    "version": 3
   },
   "file_extension": ".py",
   "mimetype": "text/x-python",
   "name": "python",
   "nbconvert_exporter": "python",
   "pygments_lexer": "ipython3",
   "version": "3.10.12"
  }
 },
 "nbformat": 4,
 "nbformat_minor": 5
}
